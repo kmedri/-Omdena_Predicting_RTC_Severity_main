{
  "nbformat": 4,
  "nbformat_minor": 0,
  "metadata": {
    "colab": {
      "provenance": [],
      "collapsed_sections": [],
      "machine_shape": "hm"
    },
    "kernelspec": {
      "name": "python3",
      "display_name": "Python 3"
    },
    "language_info": {
      "name": "python"
    },
    "widgets": {
      "application/vnd.jupyter.widget-state+json": {
        "c3b5fd9f1c394b4a83019af1d9a4033f": {
          "model_module": "@jupyter-widgets/controls",
          "model_name": "HBoxModel",
          "model_module_version": "1.5.0",
          "state": {
            "_dom_classes": [],
            "_model_module": "@jupyter-widgets/controls",
            "_model_module_version": "1.5.0",
            "_model_name": "HBoxModel",
            "_view_count": null,
            "_view_module": "@jupyter-widgets/controls",
            "_view_module_version": "1.5.0",
            "_view_name": "HBoxView",
            "box_style": "",
            "children": [
              "IPY_MODEL_bff0c6d71cba4a6388e6bb29ef05b4a1",
              "IPY_MODEL_79c53a7d2c7b43daad226dce493a483c",
              "IPY_MODEL_d2789746fb1f454a83cd5e4f2f8a60fd"
            ],
            "layout": "IPY_MODEL_8ab2beeb9b8249c18778d7318d99ee92"
          }
        },
        "bff0c6d71cba4a6388e6bb29ef05b4a1": {
          "model_module": "@jupyter-widgets/controls",
          "model_name": "HTMLModel",
          "model_module_version": "1.5.0",
          "state": {
            "_dom_classes": [],
            "_model_module": "@jupyter-widgets/controls",
            "_model_module_version": "1.5.0",
            "_model_name": "HTMLModel",
            "_view_count": null,
            "_view_module": "@jupyter-widgets/controls",
            "_view_module_version": "1.5.0",
            "_view_name": "HTMLView",
            "description": "",
            "description_tooltip": null,
            "layout": "IPY_MODEL_f96c8c2d04c64fff96538cce106863ef",
            "placeholder": "​",
            "style": "IPY_MODEL_9fde5ab3e3c04d42968c5aa6252bcc7d",
            "value": "2nd_Road_Number:\tregression...iter100/100: 100%"
          }
        },
        "79c53a7d2c7b43daad226dce493a483c": {
          "model_module": "@jupyter-widgets/controls",
          "model_name": "FloatProgressModel",
          "model_module_version": "1.5.0",
          "state": {
            "_dom_classes": [],
            "_model_module": "@jupyter-widgets/controls",
            "_model_module_version": "1.5.0",
            "_model_name": "FloatProgressModel",
            "_view_count": null,
            "_view_module": "@jupyter-widgets/controls",
            "_view_module_version": "1.5.0",
            "_view_name": "ProgressView",
            "bar_style": "success",
            "description": "",
            "description_tooltip": null,
            "layout": "IPY_MODEL_482a41fffefd45e2af39f7181c6667b3",
            "max": 1,
            "min": 0,
            "orientation": "horizontal",
            "style": "IPY_MODEL_bd7e997b8ca547e59c5ac12cd560f246",
            "value": 1
          }
        },
        "d2789746fb1f454a83cd5e4f2f8a60fd": {
          "model_module": "@jupyter-widgets/controls",
          "model_name": "HTMLModel",
          "model_module_version": "1.5.0",
          "state": {
            "_dom_classes": [],
            "_model_module": "@jupyter-widgets/controls",
            "_model_module_version": "1.5.0",
            "_model_name": "HTMLModel",
            "_view_count": null,
            "_view_module": "@jupyter-widgets/controls",
            "_view_module_version": "1.5.0",
            "_view_name": "HTMLView",
            "description": "",
            "description_tooltip": null,
            "layout": "IPY_MODEL_87d25aaa9a304e83a484b9682725e15b",
            "placeholder": "​",
            "style": "IPY_MODEL_8515ae15cf4a4ca2b442e344b54f9a27",
            "value": " 1/1 [00:02&lt;00:00,  2.15s/it]"
          }
        },
        "8ab2beeb9b8249c18778d7318d99ee92": {
          "model_module": "@jupyter-widgets/base",
          "model_name": "LayoutModel",
          "model_module_version": "1.2.0",
          "state": {
            "_model_module": "@jupyter-widgets/base",
            "_model_module_version": "1.2.0",
            "_model_name": "LayoutModel",
            "_view_count": null,
            "_view_module": "@jupyter-widgets/base",
            "_view_module_version": "1.2.0",
            "_view_name": "LayoutView",
            "align_content": null,
            "align_items": null,
            "align_self": null,
            "border": null,
            "bottom": null,
            "display": null,
            "flex": null,
            "flex_flow": null,
            "grid_area": null,
            "grid_auto_columns": null,
            "grid_auto_flow": null,
            "grid_auto_rows": null,
            "grid_column": null,
            "grid_gap": null,
            "grid_row": null,
            "grid_template_areas": null,
            "grid_template_columns": null,
            "grid_template_rows": null,
            "height": null,
            "justify_content": null,
            "justify_items": null,
            "left": null,
            "margin": null,
            "max_height": null,
            "max_width": null,
            "min_height": null,
            "min_width": null,
            "object_fit": null,
            "object_position": null,
            "order": null,
            "overflow": null,
            "overflow_x": null,
            "overflow_y": null,
            "padding": null,
            "right": null,
            "top": null,
            "visibility": null,
            "width": null
          }
        },
        "f96c8c2d04c64fff96538cce106863ef": {
          "model_module": "@jupyter-widgets/base",
          "model_name": "LayoutModel",
          "model_module_version": "1.2.0",
          "state": {
            "_model_module": "@jupyter-widgets/base",
            "_model_module_version": "1.2.0",
            "_model_name": "LayoutModel",
            "_view_count": null,
            "_view_module": "@jupyter-widgets/base",
            "_view_module_version": "1.2.0",
            "_view_name": "LayoutView",
            "align_content": null,
            "align_items": null,
            "align_self": null,
            "border": null,
            "bottom": null,
            "display": null,
            "flex": null,
            "flex_flow": null,
            "grid_area": null,
            "grid_auto_columns": null,
            "grid_auto_flow": null,
            "grid_auto_rows": null,
            "grid_column": null,
            "grid_gap": null,
            "grid_row": null,
            "grid_template_areas": null,
            "grid_template_columns": null,
            "grid_template_rows": null,
            "height": null,
            "justify_content": null,
            "justify_items": null,
            "left": null,
            "margin": null,
            "max_height": null,
            "max_width": null,
            "min_height": null,
            "min_width": null,
            "object_fit": null,
            "object_position": null,
            "order": null,
            "overflow": null,
            "overflow_x": null,
            "overflow_y": null,
            "padding": null,
            "right": null,
            "top": null,
            "visibility": null,
            "width": null
          }
        },
        "9fde5ab3e3c04d42968c5aa6252bcc7d": {
          "model_module": "@jupyter-widgets/controls",
          "model_name": "DescriptionStyleModel",
          "model_module_version": "1.5.0",
          "state": {
            "_model_module": "@jupyter-widgets/controls",
            "_model_module_version": "1.5.0",
            "_model_name": "DescriptionStyleModel",
            "_view_count": null,
            "_view_module": "@jupyter-widgets/base",
            "_view_module_version": "1.2.0",
            "_view_name": "StyleView",
            "description_width": ""
          }
        },
        "482a41fffefd45e2af39f7181c6667b3": {
          "model_module": "@jupyter-widgets/base",
          "model_name": "LayoutModel",
          "model_module_version": "1.2.0",
          "state": {
            "_model_module": "@jupyter-widgets/base",
            "_model_module_version": "1.2.0",
            "_model_name": "LayoutModel",
            "_view_count": null,
            "_view_module": "@jupyter-widgets/base",
            "_view_module_version": "1.2.0",
            "_view_name": "LayoutView",
            "align_content": null,
            "align_items": null,
            "align_self": null,
            "border": null,
            "bottom": null,
            "display": null,
            "flex": null,
            "flex_flow": null,
            "grid_area": null,
            "grid_auto_columns": null,
            "grid_auto_flow": null,
            "grid_auto_rows": null,
            "grid_column": null,
            "grid_gap": null,
            "grid_row": null,
            "grid_template_areas": null,
            "grid_template_columns": null,
            "grid_template_rows": null,
            "height": null,
            "justify_content": null,
            "justify_items": null,
            "left": null,
            "margin": null,
            "max_height": null,
            "max_width": null,
            "min_height": null,
            "min_width": null,
            "object_fit": null,
            "object_position": null,
            "order": null,
            "overflow": null,
            "overflow_x": null,
            "overflow_y": null,
            "padding": null,
            "right": null,
            "top": null,
            "visibility": null,
            "width": null
          }
        },
        "bd7e997b8ca547e59c5ac12cd560f246": {
          "model_module": "@jupyter-widgets/controls",
          "model_name": "ProgressStyleModel",
          "model_module_version": "1.5.0",
          "state": {
            "_model_module": "@jupyter-widgets/controls",
            "_model_module_version": "1.5.0",
            "_model_name": "ProgressStyleModel",
            "_view_count": null,
            "_view_module": "@jupyter-widgets/base",
            "_view_module_version": "1.2.0",
            "_view_name": "StyleView",
            "bar_color": null,
            "description_width": ""
          }
        },
        "87d25aaa9a304e83a484b9682725e15b": {
          "model_module": "@jupyter-widgets/base",
          "model_name": "LayoutModel",
          "model_module_version": "1.2.0",
          "state": {
            "_model_module": "@jupyter-widgets/base",
            "_model_module_version": "1.2.0",
            "_model_name": "LayoutModel",
            "_view_count": null,
            "_view_module": "@jupyter-widgets/base",
            "_view_module_version": "1.2.0",
            "_view_name": "LayoutView",
            "align_content": null,
            "align_items": null,
            "align_self": null,
            "border": null,
            "bottom": null,
            "display": null,
            "flex": null,
            "flex_flow": null,
            "grid_area": null,
            "grid_auto_columns": null,
            "grid_auto_flow": null,
            "grid_auto_rows": null,
            "grid_column": null,
            "grid_gap": null,
            "grid_row": null,
            "grid_template_areas": null,
            "grid_template_columns": null,
            "grid_template_rows": null,
            "height": null,
            "justify_content": null,
            "justify_items": null,
            "left": null,
            "margin": null,
            "max_height": null,
            "max_width": null,
            "min_height": null,
            "min_width": null,
            "object_fit": null,
            "object_position": null,
            "order": null,
            "overflow": null,
            "overflow_x": null,
            "overflow_y": null,
            "padding": null,
            "right": null,
            "top": null,
            "visibility": null,
            "width": null
          }
        },
        "8515ae15cf4a4ca2b442e344b54f9a27": {
          "model_module": "@jupyter-widgets/controls",
          "model_name": "DescriptionStyleModel",
          "model_module_version": "1.5.0",
          "state": {
            "_model_module": "@jupyter-widgets/controls",
            "_model_module_version": "1.5.0",
            "_model_name": "DescriptionStyleModel",
            "_view_count": null,
            "_view_module": "@jupyter-widgets/base",
            "_view_module_version": "1.2.0",
            "_view_name": "StyleView",
            "description_width": ""
          }
        },
        "2ff3b1a0ae224b10b41b5d154ddc4e44": {
          "model_module": "@jupyter-widgets/controls",
          "model_name": "HBoxModel",
          "model_module_version": "1.5.0",
          "state": {
            "_dom_classes": [],
            "_model_module": "@jupyter-widgets/controls",
            "_model_module_version": "1.5.0",
            "_model_name": "HBoxModel",
            "_view_count": null,
            "_view_module": "@jupyter-widgets/controls",
            "_view_module_version": "1.5.0",
            "_view_name": "HBoxView",
            "box_style": "",
            "children": [
              "IPY_MODEL_9ffa217f9245477a8f471b502aee6e77",
              "IPY_MODEL_43461b94ad4141bf9af30fc667cc094e",
              "IPY_MODEL_2c51542b8f7745979476f957ee9917d9"
            ],
            "layout": "IPY_MODEL_f44a5b239c004e60ac03345d2c91e26b"
          }
        },
        "9ffa217f9245477a8f471b502aee6e77": {
          "model_module": "@jupyter-widgets/controls",
          "model_name": "HTMLModel",
          "model_module_version": "1.5.0",
          "state": {
            "_dom_classes": [],
            "_model_module": "@jupyter-widgets/controls",
            "_model_module_version": "1.5.0",
            "_model_name": "HTMLModel",
            "_view_count": null,
            "_view_module": "@jupyter-widgets/controls",
            "_view_module_version": "1.5.0",
            "_view_name": "HTMLView",
            "description": "",
            "description_tooltip": null,
            "layout": "IPY_MODEL_fb2130eab61247b9a6223ba18e36bee9",
            "placeholder": "​",
            "style": "IPY_MODEL_8e454ad652a6460b9340548a85c35294",
            "value": "100%"
          }
        },
        "43461b94ad4141bf9af30fc667cc094e": {
          "model_module": "@jupyter-widgets/controls",
          "model_name": "FloatProgressModel",
          "model_module_version": "1.5.0",
          "state": {
            "_dom_classes": [],
            "_model_module": "@jupyter-widgets/controls",
            "_model_module_version": "1.5.0",
            "_model_name": "FloatProgressModel",
            "_view_count": null,
            "_view_module": "@jupyter-widgets/controls",
            "_view_module_version": "1.5.0",
            "_view_name": "ProgressView",
            "bar_style": "success",
            "description": "",
            "description_tooltip": null,
            "layout": "IPY_MODEL_3dc7d18d5ec94548a0be5110429c7592",
            "max": 1,
            "min": 0,
            "orientation": "horizontal",
            "style": "IPY_MODEL_25baf30999204b10945286e791d5cb91",
            "value": 1
          }
        },
        "2c51542b8f7745979476f957ee9917d9": {
          "model_module": "@jupyter-widgets/controls",
          "model_name": "HTMLModel",
          "model_module_version": "1.5.0",
          "state": {
            "_dom_classes": [],
            "_model_module": "@jupyter-widgets/controls",
            "_model_module_version": "1.5.0",
            "_model_name": "HTMLModel",
            "_view_count": null,
            "_view_module": "@jupyter-widgets/controls",
            "_view_module_version": "1.5.0",
            "_view_name": "HTMLView",
            "description": "",
            "description_tooltip": null,
            "layout": "IPY_MODEL_5a98f1fb6f564b66a3f78db458e3810b",
            "placeholder": "​",
            "style": "IPY_MODEL_709a72ba59c741698081074c4178e162",
            "value": " 1/1 [00:00&lt;00:00, 20.50it/s]"
          }
        },
        "f44a5b239c004e60ac03345d2c91e26b": {
          "model_module": "@jupyter-widgets/base",
          "model_name": "LayoutModel",
          "model_module_version": "1.2.0",
          "state": {
            "_model_module": "@jupyter-widgets/base",
            "_model_module_version": "1.2.0",
            "_model_name": "LayoutModel",
            "_view_count": null,
            "_view_module": "@jupyter-widgets/base",
            "_view_module_version": "1.2.0",
            "_view_name": "LayoutView",
            "align_content": null,
            "align_items": null,
            "align_self": null,
            "border": null,
            "bottom": null,
            "display": null,
            "flex": null,
            "flex_flow": null,
            "grid_area": null,
            "grid_auto_columns": null,
            "grid_auto_flow": null,
            "grid_auto_rows": null,
            "grid_column": null,
            "grid_gap": null,
            "grid_row": null,
            "grid_template_areas": null,
            "grid_template_columns": null,
            "grid_template_rows": null,
            "height": null,
            "justify_content": null,
            "justify_items": null,
            "left": null,
            "margin": null,
            "max_height": null,
            "max_width": null,
            "min_height": null,
            "min_width": null,
            "object_fit": null,
            "object_position": null,
            "order": null,
            "overflow": null,
            "overflow_x": null,
            "overflow_y": null,
            "padding": null,
            "right": null,
            "top": null,
            "visibility": null,
            "width": null
          }
        },
        "fb2130eab61247b9a6223ba18e36bee9": {
          "model_module": "@jupyter-widgets/base",
          "model_name": "LayoutModel",
          "model_module_version": "1.2.0",
          "state": {
            "_model_module": "@jupyter-widgets/base",
            "_model_module_version": "1.2.0",
            "_model_name": "LayoutModel",
            "_view_count": null,
            "_view_module": "@jupyter-widgets/base",
            "_view_module_version": "1.2.0",
            "_view_name": "LayoutView",
            "align_content": null,
            "align_items": null,
            "align_self": null,
            "border": null,
            "bottom": null,
            "display": null,
            "flex": null,
            "flex_flow": null,
            "grid_area": null,
            "grid_auto_columns": null,
            "grid_auto_flow": null,
            "grid_auto_rows": null,
            "grid_column": null,
            "grid_gap": null,
            "grid_row": null,
            "grid_template_areas": null,
            "grid_template_columns": null,
            "grid_template_rows": null,
            "height": null,
            "justify_content": null,
            "justify_items": null,
            "left": null,
            "margin": null,
            "max_height": null,
            "max_width": null,
            "min_height": null,
            "min_width": null,
            "object_fit": null,
            "object_position": null,
            "order": null,
            "overflow": null,
            "overflow_x": null,
            "overflow_y": null,
            "padding": null,
            "right": null,
            "top": null,
            "visibility": null,
            "width": null
          }
        },
        "8e454ad652a6460b9340548a85c35294": {
          "model_module": "@jupyter-widgets/controls",
          "model_name": "DescriptionStyleModel",
          "model_module_version": "1.5.0",
          "state": {
            "_model_module": "@jupyter-widgets/controls",
            "_model_module_version": "1.5.0",
            "_model_name": "DescriptionStyleModel",
            "_view_count": null,
            "_view_module": "@jupyter-widgets/base",
            "_view_module_version": "1.2.0",
            "_view_name": "StyleView",
            "description_width": ""
          }
        },
        "3dc7d18d5ec94548a0be5110429c7592": {
          "model_module": "@jupyter-widgets/base",
          "model_name": "LayoutModel",
          "model_module_version": "1.2.0",
          "state": {
            "_model_module": "@jupyter-widgets/base",
            "_model_module_version": "1.2.0",
            "_model_name": "LayoutModel",
            "_view_count": null,
            "_view_module": "@jupyter-widgets/base",
            "_view_module_version": "1.2.0",
            "_view_name": "LayoutView",
            "align_content": null,
            "align_items": null,
            "align_self": null,
            "border": null,
            "bottom": null,
            "display": null,
            "flex": null,
            "flex_flow": null,
            "grid_area": null,
            "grid_auto_columns": null,
            "grid_auto_flow": null,
            "grid_auto_rows": null,
            "grid_column": null,
            "grid_gap": null,
            "grid_row": null,
            "grid_template_areas": null,
            "grid_template_columns": null,
            "grid_template_rows": null,
            "height": null,
            "justify_content": null,
            "justify_items": null,
            "left": null,
            "margin": null,
            "max_height": null,
            "max_width": null,
            "min_height": null,
            "min_width": null,
            "object_fit": null,
            "object_position": null,
            "order": null,
            "overflow": null,
            "overflow_x": null,
            "overflow_y": null,
            "padding": null,
            "right": null,
            "top": null,
            "visibility": null,
            "width": null
          }
        },
        "25baf30999204b10945286e791d5cb91": {
          "model_module": "@jupyter-widgets/controls",
          "model_name": "ProgressStyleModel",
          "model_module_version": "1.5.0",
          "state": {
            "_model_module": "@jupyter-widgets/controls",
            "_model_module_version": "1.5.0",
            "_model_name": "ProgressStyleModel",
            "_view_count": null,
            "_view_module": "@jupyter-widgets/base",
            "_view_module_version": "1.2.0",
            "_view_name": "StyleView",
            "bar_color": null,
            "description_width": ""
          }
        },
        "5a98f1fb6f564b66a3f78db458e3810b": {
          "model_module": "@jupyter-widgets/base",
          "model_name": "LayoutModel",
          "model_module_version": "1.2.0",
          "state": {
            "_model_module": "@jupyter-widgets/base",
            "_model_module_version": "1.2.0",
            "_model_name": "LayoutModel",
            "_view_count": null,
            "_view_module": "@jupyter-widgets/base",
            "_view_module_version": "1.2.0",
            "_view_name": "LayoutView",
            "align_content": null,
            "align_items": null,
            "align_self": null,
            "border": null,
            "bottom": null,
            "display": null,
            "flex": null,
            "flex_flow": null,
            "grid_area": null,
            "grid_auto_columns": null,
            "grid_auto_flow": null,
            "grid_auto_rows": null,
            "grid_column": null,
            "grid_gap": null,
            "grid_row": null,
            "grid_template_areas": null,
            "grid_template_columns": null,
            "grid_template_rows": null,
            "height": null,
            "justify_content": null,
            "justify_items": null,
            "left": null,
            "margin": null,
            "max_height": null,
            "max_width": null,
            "min_height": null,
            "min_width": null,
            "object_fit": null,
            "object_position": null,
            "order": null,
            "overflow": null,
            "overflow_x": null,
            "overflow_y": null,
            "padding": null,
            "right": null,
            "top": null,
            "visibility": null,
            "width": null
          }
        },
        "709a72ba59c741698081074c4178e162": {
          "model_module": "@jupyter-widgets/controls",
          "model_name": "DescriptionStyleModel",
          "model_module_version": "1.5.0",
          "state": {
            "_model_module": "@jupyter-widgets/controls",
            "_model_module_version": "1.5.0",
            "_model_name": "DescriptionStyleModel",
            "_view_count": null,
            "_view_module": "@jupyter-widgets/base",
            "_view_module_version": "1.2.0",
            "_view_name": "StyleView",
            "description_width": ""
          }
        }
      }
    }
  },
  "cells": [
    {
      "cell_type": "code",
      "execution_count": 1,
      "metadata": {
        "colab": {
          "base_uri": "https://localhost:8080/"
        },
        "id": "nL-JidSqtl84",
        "outputId": "680a40bd-670f-4ad1-d146-6cf521fb85fe"
      },
      "outputs": [
        {
          "output_type": "stream",
          "name": "stdout",
          "text": [
            "Drive already mounted at /content/drive; to attempt to forcibly remount, call drive.mount(\"/content/drive\", force_remount=True).\n"
          ]
        }
      ],
      "source": [
        "from google.colab import drive\n",
        "drive.mount('/content/drive')"
      ]
    },
    {
      "cell_type": "code",
      "source": [
        "import pandas as pd\n",
        "import numpy as np\n",
        "import matplotlib.pyplot as plt\n",
        "color_pal = plt.rcParams['axes.prop_cycle'].by_key()['color']\n",
        "\n",
        "import warnings\n",
        "warnings.filterwarnings('ignore')\n",
        "plt.style.use('ggplot')\n",
        "pd.set_option('display.max_columns',50)\n",
        "pd.set_option('display.max_rows',None)\n",
        "from sklearn.impute import SimpleImputer,KNNImputer\n",
        "from sklearn.experimental import enable_iterative_imputer\n",
        "from sklearn.impute import IterativeImputer\n",
        "from sklearn.model_selection import train_test_split\n",
        "from sklearn.preprocessing import OrdinalEncoder,LabelEncoder"
      ],
      "metadata": {
        "id": "kcfjHJ2JtxM7"
      },
      "execution_count": 2,
      "outputs": []
    },
    {
      "cell_type": "code",
      "source": [
        "def change_time(num):\n",
        "  if int(num)>=8 and int(num)<12:\n",
        "    return 0\n",
        "  elif int(num)>=12 and int(num)<17:\n",
        "    return 1\n",
        "  elif int(num)>=17 and int(num)<=23:\n",
        "    return 2\n",
        "  elif int(num)>=0 and int(num)<5:\n",
        "    return 3\n",
        "  else:\n",
        "    return 4\n",
        "accident_data = pd.read_parquet(\"./drive/MyDrive/accident_data.parquet\")\n",
        "accident_data = accident_data.drop([\"Date\"],axis=1)\n",
        "accident_data = accident_data.dropna(axis=0,subset=[\"Time\"])\n",
        "accident_data[\"Time\"] = accident_data[\"Time\"].apply(lambda x:change_time(str(x)[:2]))"
      ],
      "metadata": {
        "id": "zGAiCQy4t1Bz"
      },
      "execution_count": 3,
      "outputs": []
    },
    {
      "cell_type": "code",
      "source": [
        "#Special conditions at site 15?\n",
        "#Unclassified->nan\n",
        "#None->nan\n",
        "#Data Missing or out of range->nan\n",
        "def missing_values_change(val):\n",
        "    if str(val)==\"Unclassified\" or str(val)=='None' or str(val)==\"Data missing or out of range\" or str(val)==\"Unallocated\":\n",
        "      return np.nan\n",
        "    else:\n",
        "      return val\n",
        "for col in accident_data.columns:\n",
        "  accident_data[col] = accident_data[col].apply(lambda x:missing_values_change(x))"
      ],
      "metadata": {
        "id": "Dzz9afZvt8L9"
      },
      "execution_count": 4,
      "outputs": []
    },
    {
      "cell_type": "code",
      "source": [
        "#What percentage are missing values\n",
        "ncounts = pd.DataFrame([accident_data.isna().mean()]).T\n",
        "ncounts.columns=[\"percentage_missing\"]"
      ],
      "metadata": {
        "id": "AoOn1ec8t__-"
      },
      "execution_count": 5,
      "outputs": []
    },
    {
      "cell_type": "code",
      "source": [
        "ncounts.query(\"percentage_missing>0\").plot(kind=\"barh\",figsize=(8,5),title='% of values missing')"
      ],
      "metadata": {
        "colab": {
          "base_uri": "https://localhost:8080/",
          "height": 354
        },
        "id": "SBLkIdg9uFFZ",
        "outputId": "56e1f72b-13c7-4e70-8e0b-47c87c1cec8c"
      },
      "execution_count": 6,
      "outputs": [
        {
          "output_type": "execute_result",
          "data": {
            "text/plain": [
              "<matplotlib.axes._subplots.AxesSubplot at 0x7f20150b3b90>"
            ]
          },
          "metadata": {},
          "execution_count": 6
        },
        {
          "output_type": "display_data",
          "data": {
            "text/plain": [
              "<Figure size 576x360 with 1 Axes>"
            ],
            "image/png": "[encoded data removed]"
          },
          "metadata": {}
        }
      ]
    },
    {
      "cell_type": "code",
      "source": [
        "cols_to_fill = list(ncounts.query(\"percentage_missing>0.01\").index)  #Number of features where more than 1% of values are missing"
      ],
      "metadata": {
        "id": "n48LBoTJuVk0"
      },
      "execution_count": 7,
      "outputs": []
    },
    {
      "cell_type": "code",
      "source": [
        "subset = [col for col in accident_data.columns if col not in cols_to_fill]\n",
        "accident_data = accident_data.dropna(axis=0,subset=subset)"
      ],
      "metadata": {
        "id": "5oX27ka9uYXb"
      },
      "execution_count": 8,
      "outputs": []
    },
    {
      "cell_type": "code",
      "source": [
        "accident_data_missing_tag_df = accident_data[cols_to_fill].isna()\n",
        "accident_data_missing_tag_df.columns = [f\"{c}_missing\" for c in accident_data_missing_tag_df.columns]"
      ],
      "metadata": {
        "id": "ih6p-hekucG3"
      },
      "execution_count": 9,
      "outputs": []
    },
    {
      "cell_type": "code",
      "source": [
        "accident_data = pd.concat([accident_data,accident_data_missing_tag_df],axis=1)"
      ],
      "metadata": {
        "id": "eBSzmwQnueuo"
      },
      "execution_count": 10,
      "outputs": []
    },
    {
      "cell_type": "code",
      "source": [
        "num_cols = [col for col in accident_data.columns if accident_data[col].dtype==\"float64\" or accident_data[col].dtype==\"int64\"]\n",
        "cat_cols = [col for col in accident_data.columns if col not in num_cols and (col!=\"Accident_Index\") and col!=\"Accident_Severity\"]"
      ],
      "metadata": {
        "id": "YyPPLEeLulgW"
      },
      "execution_count": 11,
      "outputs": []
    },
    {
      "cell_type": "code",
      "source": [
        "le = LabelEncoder()\n",
        "for col in cat_cols:\n",
        "  accident_data[col] = le.fit_transform(accident_data[col])"
      ],
      "metadata": {
        "id": "Q0-chd44uosx"
      },
      "execution_count": 12,
      "outputs": []
    },
    {
      "cell_type": "code",
      "source": [
        "X = accident_data.drop([\"Accident_Severity\"],axis=1)\n",
        "y = accident_data.Accident_Severity\n",
        "X_train,X_valid,y_train,y_valid = train_test_split(X,y,test_size=0.2,random_state=42)"
      ],
      "metadata": {
        "id": "mAV-jBGKuuJy"
      },
      "execution_count": 13,
      "outputs": []
    },
    {
      "cell_type": "code",
      "source": [
        "!rm -r kuma_utils\n",
        "!git clone https://github.com/analokmaus/kuma_utils.git"
      ],
      "metadata": {
        "colab": {
          "base_uri": "https://localhost:8080/"
        },
        "id": "o7QxHlKlxPxs",
        "outputId": "825d7827-a548-4f7c-8b61-1fc699f337d0"
      },
      "execution_count": 14,
      "outputs": [
        {
          "output_type": "stream",
          "name": "stdout",
          "text": [
            "rm: cannot remove 'kuma_utils': No such file or directory\n",
            "Cloning into 'kuma_utils'...\n",
            "remote: Enumerating objects: 915, done.\u001b[K\n",
            "remote: Counting objects: 100% (120/120), done.\u001b[K\n",
            "remote: Compressing objects: 100% (24/24), done.\u001b[K\n",
            "remote: Total 915 (delta 104), reused 102 (delta 96), pack-reused 795\u001b[K\n",
            "Receiving objects: 100% (915/915), 679.99 KiB | 18.89 MiB/s, done.\n",
            "Resolving deltas: 100% (592/592), done.\n"
          ]
        }
      ]
    },
    {
      "cell_type": "code",
      "source": [
        "import sys\n",
        "sys.path.append(\"kuma_utils/\")\n",
        "from kuma_utils.preprocessing.imputer import LGBMImputer"
      ],
      "metadata": {
        "id": "ePX8r4XWyitz"
      },
      "execution_count": 15,
      "outputs": []
    },
    {
      "cell_type": "code",
      "source": [
        "cat_cols = [f for f in cols_to_fill if f!=\"2nd_Road_Number\"]"
      ],
      "metadata": {
        "id": "0EuYpR1OznAG"
      },
      "execution_count": 16,
      "outputs": []
    },
    {
      "cell_type": "code",
      "source": [
        "cat_cols"
      ],
      "metadata": {
        "colab": {
          "base_uri": "https://localhost:8080/"
        },
        "id": "b4ErriXOztS-",
        "outputId": "81ce0e85-e46f-4766-d72d-3b9df2ca56c2"
      },
      "execution_count": null,
      "outputs": [
        {
          "output_type": "execute_result",
          "data": {
            "text/plain": [
              "['1st_Road_Class',\n",
              " '2nd_Road_Class',\n",
              " 'Carriageway_Hazards',\n",
              " 'Junction_Control',\n",
              " 'LSOA_of_Accident_Location',\n",
              " 'Special_Conditions_at_Site',\n",
              " 'Weather_Conditions']"
            ]
          },
          "metadata": {},
          "execution_count": 42
        }
      ]
    },
    {
      "cell_type": "code",
      "source": [
        "lgb_imptr = LGBMImputer(n_iter=100,verbose=True,cat_features=cat_cols)\n",
        "features = [f for f in cols_to_fill]\n",
        "X_train_imputed = lgb_imptr.fit_transform(X_train[features])\n",
        "X_valid_imputed = lgb_imptr.transform(X_valid[features])\n",
        "\n",
        "\n",
        "X_train_imputed = pd.DataFrame(X_train_imputed,columns=features)\n",
        "X_valid_imputed = pd.DataFrame(X_valid_imputed,columns=features)\n",
        "\n",
        "X_train_imputed.index = X_train.index\n",
        "X_valid_imputed.index = X_valid.index\n",
        "\n",
        "X_train_final = pd.concat([X_train.drop(cols_to_fill,axis=1),X_train_imputed],axis=1)\n",
        "X_valid_final = pd.concat([X_valid.drop(cols_to_fill,axis=1),X_valid_imputed],axis=1)"
      ],
      "metadata": {
        "colab": {
          "base_uri": "https://localhost:8080/",
          "height": 81,
          "referenced_widgets": [
            "c3b5fd9f1c394b4a83019af1d9a4033f",
            "bff0c6d71cba4a6388e6bb29ef05b4a1",
            "79c53a7d2c7b43daad226dce493a483c",
            "d2789746fb1f454a83cd5e4f2f8a60fd",
            "8ab2beeb9b8249c18778d7318d99ee92",
            "f96c8c2d04c64fff96538cce106863ef",
            "9fde5ab3e3c04d42968c5aa6252bcc7d",
            "482a41fffefd45e2af39f7181c6667b3",
            "bd7e997b8ca547e59c5ac12cd560f246",
            "87d25aaa9a304e83a484b9682725e15b",
            "8515ae15cf4a4ca2b442e344b54f9a27",
            "2ff3b1a0ae224b10b41b5d154ddc4e44",
            "9ffa217f9245477a8f471b502aee6e77",
            "43461b94ad4141bf9af30fc667cc094e",
            "2c51542b8f7745979476f957ee9917d9",
            "f44a5b239c004e60ac03345d2c91e26b",
            "fb2130eab61247b9a6223ba18e36bee9",
            "8e454ad652a6460b9340548a85c35294",
            "3dc7d18d5ec94548a0be5110429c7592",
            "25baf30999204b10945286e791d5cb91",
            "5a98f1fb6f564b66a3f78db458e3810b",
            "709a72ba59c741698081074c4178e162"
          ]
        },
        "id": "kM1TYQj9y0TO",
        "outputId": "5958cb78-7211-4dfa-b755-2dcba05c1183"
      },
      "execution_count": 17,
      "outputs": [
        {
          "output_type": "display_data",
          "data": {
            "text/plain": [
              "  0%|          | 0/1 [00:00<?, ?it/s]"
            ],
            "application/vnd.jupyter.widget-view+json": {
              "version_major": 2,
              "version_minor": 0,
              "model_id": "c3b5fd9f1c394b4a83019af1d9a4033f"
            }
          },
          "metadata": {}
        },
        {
          "output_type": "display_data",
          "data": {
            "text/plain": [
              "  0%|          | 0/1 [00:00<?, ?it/s]"
            ],
            "application/vnd.jupyter.widget-view+json": {
              "version_major": 2,
              "version_minor": 0,
              "model_id": "2ff3b1a0ae224b10b41b5d154ddc4e44"
            }
          },
          "metadata": {}
        }
      ]
    },
    {
      "cell_type": "code",
      "source": [
        "plt.subplot(3,3,1)\n",
        "accident_data[\"1st_Road_Class\"].value_counts().plot(kind=\"bar\",title=\"1st Road Class before imputation\",figsize=(8,8))\n",
        "plt.subplot(3,3,3)\n",
        "X_train_final[\"1st_Road_Class\"].value_counts().plot(kind=\"bar\",title=\"1st Road Class after imputation\",figsize=(8,8))\n",
        "plt.subplot(3,3,7)\n",
        "accident_data[\"2nd_Road_Class\"].value_counts().plot(kind=\"bar\",title=\"2nd Road Class before imputation\",figsize=(8,8))\n",
        "plt.subplot(3,3,9)\n",
        "X_train_final[\"2nd_Road_Class\"].value_counts().plot(kind=\"bar\",title=\"2nd Road Class after imputation\",figsize=(8,8))"
      ],
      "metadata": {
        "colab": {
          "base_uri": "https://localhost:8080/",
          "height": 513
        },
        "id": "Ysv-xKF3J5bn",
        "outputId": "f56c7196-e5bb-492a-ed12-976879375878"
      },
      "execution_count": 19,
      "outputs": [
        {
          "output_type": "execute_result",
          "data": {
            "text/plain": [
              "<matplotlib.axes._subplots.AxesSubplot at 0x7f1fcd658810>"
            ]
          },
          "metadata": {},
          "execution_count": 19
        },
        {
          "output_type": "display_data",
          "data": {
            "text/plain": [
              "<Figure size 576x576 with 4 Axes>"
            ],
            "image/png": "[encoded data removed]"
          },
          "metadata": {}
        }
      ]
    },
    {
      "cell_type": "code",
      "source": [
        "plt.subplot(3,3,1)\n",
        "accident_data[\"2nd_Road_Number\"].plot(kind=\"kde\",title=\"KDE before imputation\",figsize=(8,8))\n",
        "plt.subplot(3,3,3)\n",
        "X_train_final[\"2nd_Road_Number\"].plot(kind=\"kde\",title=\"2nd Road Number after imputation\",figsize=(8,8))\n",
        "plt.subplot(3,3,7)\n",
        "accident_data[\"Carriageway_Hazards\"].value_counts().plot(kind=\"bar\",title=\"Carriageway Hazards before imputation\",figsize=(8,8))\n",
        "plt.subplot(3,3,9)\n",
        "X_train_final[\"Carriageway_Hazards\"].value_counts().plot(kind=\"bar\",title=\"Carriageway Hazards after imputation\",figsize=(8,8))"
      ],
      "metadata": {
        "colab": {
          "base_uri": "https://localhost:8080/",
          "height": 513
        },
        "id": "5p8KI88AKO6R",
        "outputId": "a44874c6-978a-4800-c0a6-75a7e92a0f03"
      },
      "execution_count": 20,
      "outputs": [
        {
          "output_type": "execute_result",
          "data": {
            "text/plain": [
              "<matplotlib.axes._subplots.AxesSubplot at 0x7f1fc7784fd0>"
            ]
          },
          "metadata": {},
          "execution_count": 20
        },
        {
          "output_type": "display_data",
          "data": {
            "text/plain": [
              "<Figure size 576x576 with 4 Axes>"
            ],
            "image/png": "[encoded data removed]"
          },
          "metadata": {}
        }
      ]
    },
    {
      "cell_type": "code",
      "source": [
        "plt.subplot(3,3,1)\n",
        "accident_data[\"Special_Conditions_at_Site\"].value_counts().plot(kind=\"bar\",title=\"Special Conditions before imputation\",figsize=(8,8))\n",
        "plt.subplot(3,3,3)\n",
        "X_train_final[\"Special_Conditions_at_Site\"].value_counts().plot(kind=\"bar\",title=\"Special Conditions after imputation\",figsize=(8,8))\n",
        "plt.subplot(3,3,7)\n",
        "accident_data[\"Weather_Conditions\"].value_counts().plot(kind=\"bar\",title=\"Weather Conditions before imputation\",figsize=(8,8))\n",
        "plt.subplot(3,3,9)\n",
        "X_train_final[\"Weather_Conditions\"].value_counts().plot(kind=\"bar\",title=\"Weather Conditions after imputation\",figsize=(8,8))"
      ],
      "metadata": {
        "colab": {
          "base_uri": "https://localhost:8080/",
          "height": 513
        },
        "id": "s7jaGMaaKVSa",
        "outputId": "0d509cbe-8337-4f88-d8ab-c94ecdfd9eee"
      },
      "execution_count": 21,
      "outputs": [
        {
          "output_type": "execute_result",
          "data": {
            "text/plain": [
              "<matplotlib.axes._subplots.AxesSubplot at 0x7f1fcafc8a10>"
            ]
          },
          "metadata": {},
          "execution_count": 21
        },
        {
          "output_type": "display_data",
          "data": {
            "text/plain": [
              "<Figure size 576x576 with 4 Axes>"
            ],
            "image/png": "[encoded data removed]"
          },
          "metadata": {}
        }
      ]
    },
    {
      "cell_type": "code",
      "source": [
        "plt.subplot(1,3,1)\n",
        "accident_data[\"Junction_Control\"].value_counts().plot(kind=\"bar\",title=\"Junction Control before imputation\",figsize=(8,8))\n",
        "plt.subplot(1,3,3)\n",
        "X_train_final[\"Junction_Control\"].value_counts().plot(kind=\"bar\",title=\"Junction Control after imputation\",figsize=(8,8))\n"
      ],
      "metadata": {
        "colab": {
          "base_uri": "https://localhost:8080/",
          "height": 513
        },
        "id": "fGon8EIRKYmD",
        "outputId": "d83dda19-9026-413f-a7a4-66ff39ded68e"
      },
      "execution_count": 22,
      "outputs": [
        {
          "output_type": "execute_result",
          "data": {
            "text/plain": [
              "<matplotlib.axes._subplots.AxesSubplot at 0x7f1fc74c4150>"
            ]
          },
          "metadata": {},
          "execution_count": 22
        },
        {
          "output_type": "display_data",
          "data": {
            "text/plain": [
              "<Figure size 576x576 with 2 Axes>"
            ],
            "image/png": "[encoded data removed]"
          },
          "metadata": {}
        }
      ]
    }
  ]
}