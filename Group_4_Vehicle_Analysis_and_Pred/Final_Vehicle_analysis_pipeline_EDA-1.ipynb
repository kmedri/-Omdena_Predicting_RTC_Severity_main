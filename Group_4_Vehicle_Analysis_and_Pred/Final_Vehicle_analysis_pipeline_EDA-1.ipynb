{
  "cells": [
    {
      "cell_type": "markdown",
      "metadata": {
        "id": "4uKReD6XwBFd"
      },
      "source": [
        "# **Omdena Liverpool Chapter: Vehicle Analysis & Prediction using Machine Learning**\n",
        "\n",
        "### **Problem Statement:**\n",
        "  - In-depth analysis of vehicles involved in collisions\n",
        "  - Create a model to predict the likelihood of specific cohorts being involved in a collision.\n",
        "\n",
        "### **1. In-depth Analysis of vehicles involved in collisions**\n",
        "\n",
        "\n",
        "#### **Data Overview:**\n",
        "\n",
        "The data comes from the Open Data website of the UK government, where they have been published by the Department of Transport.\n",
        "\n",
        "Initially, the vehicle dataset had been cleaned by removing null values with simple imputations.\n",
        "\n",
        "#### **Provided dataset:**\n",
        "\n",
        "`simple_impute_vehicle_data.parquet:` Every instance of records in the file represents the involvement of a unique vehicle in a unique traffic accident, featuring various vehicle and passenger properties as columns. \n",
        "\n",
        "The records were collected between 2004-2016 AD. and consists of ~2.0 million records. \n",
        "\n",
        "#### **Objectives of Exploratory Data Analysis:**\n",
        "  1. Structure investigation: Explore the dataset size and features datatypes.\n",
        "  2. Quality investigation: Explore if duplicates, missing values and unwanted entries exists.\n",
        "  3. Content investigation: Perform analysis of features mutual depedence or correlations along with discovering the data distribution and data outliers.\n",
        "  4. Ask bussiness problem related question and discover answers from data by analyzing them.\n",
        "\n",
        "\n",
        "#### **Features**\n",
        "    (Note: Original dataset has only 24 features, but while performing imputations \n",
        "    extra 15 boolean field columns had been added to signify if the corresponding \n",
        "    feature of the particular instance was imputed or not) \n",
        "\n",
        "    \n",
        "    - Accident specific features:\n",
        "        'Accident_Index'\n",
        "        'Year'\n",
        "\n",
        "    - Vehicle specific features:\n",
        "        'Vehicle_Reference'\n",
        "        'Towing_and_Articulation'\n",
        "        'Vehicle_Type'\n",
        "        'Age_of_Vehicle'\n",
        "        'Engine_Capacity_.CC.'\n",
        "        'make'\n",
        "        'model'\n",
        "        'Propulsion_Code'\n",
        "        \n",
        "\n",
        "    - Condition for vehicle accident specific features:\n",
        "        'Vehicle_Leaving_Carriageway'\n",
        "        'Vehicle_LocationRestricted_Lane'\n",
        "        'Vehicle_Manoeuvre'\n",
        "        'X1st_Point_of_Impact'\n",
        "        'Hit_Object_in_Carriageway':\n",
        "        'Hit_Object_off_Carriageway',\n",
        "        'Junction_Location',\n",
        "        'Skidding_and_Overturning',\n",
        "        \n",
        "    - Driver specific features:\n",
        "        'Age_Band_of_Driver'\n",
        "        'Driver_Home_Area_Type'\n",
        "        'Driver_IMD_Decile'\n",
        "        'Journey_Purpose_of_Driver'\n",
        "        'Sex_of_Driver'\n",
        "        'Was_Vehicle_Left_Hand_Drive'\n",
        "\n",
        "    - extra fields:\n",
        "        '<imputed_feature_column_name>_missing'\n",
        "\n"
      ]
    },
    {
      "cell_type": "markdown",
      "metadata": {
        "id": "R1vZ7M1B5pfD"
      },
      "source": [
        "# 1. Structural Investigation"
      ]
    },
    {
      "cell_type": "markdown",
      "metadata": {
        "id": "szzSGY_V47Ky"
      },
      "source": [
        "### 1.1 Connecting to the google drive for accessing the processed dataset."
      ]
    },
    {
      "cell_type": "code",
      "execution_count": null,
      "metadata": {
        "colab": {
          "base_uri": "https://localhost:8080/"
        },
        "id": "3cdZ8rsbRIuC",
        "outputId": "f7aab66f-e84b-4780-aa29-aa32a42f5649"
      },
      "outputs": [
        {
          "name": "stdout",
          "output_type": "stream",
          "text": [
            "Drive already mounted at /content/drive; to attempt to forcibly remount, call drive.mount(\"/content/drive\", force_remount=True).\n"
          ]
        }
      ],
      "source": [
        "## -------------------------------------------------------------------------------------------------------------\n",
        "## To run this notebook in google colab:\n",
        "## 0. Create a folder named: dataset into the root directory called as MyDrive \n",
        "##    in the google drive\n",
        "## 1. Goto:\n",
        "##    https://drive.google.com/drive/folders/1-8u-WfSxBCKbfahcwgEPPdPUqtuhLWYw\n",
        "##    for original dataset else to access imputed dataset visit:\n",
        "##    https://drive.google.com/file/d/19Q7o-CUfySCYpw9DD6L87QB86qUeuhMA/view?usp=sharing\n",
        "## 2. Right click the simple_impute_vehicle_data.parquet file and select Add \n",
        "##    shortcut to drive, then navigate the pop up to select the dataset folder \n",
        "##    else download the dataset and reupload to your drive folder.\n",
        "## 3. Finally, run the notebook in colab and on a pop asking permission to \n",
        "##    connect to the drive, hit allow access(select the google account which has\n",
        "##    the above dataset file)\n",
        "## --------------------------------------------------------------------------------------------------------------\n",
        "\n",
        "from google.colab import drive\n",
        "drive.mount('/content/drive')\n"
      ]
    },
    {
      "cell_type": "markdown",
      "metadata": {
        "id": "4fpNqBzI5LxU"
      },
      "source": [
        "### 1.2. Setting Path for the Vehicle dataset"
      ]
    },
    {
      "cell_type": "code",
      "execution_count": null,
      "metadata": {
        "id": "SJpUZUeXRaI2"
      },
      "outputs": [],
      "source": [
        "SIMPLE_IMPUTE_VEHICLE_PATH = \"/content/drive/MyDrive/dataset/simple_impute_vehicle_data (1).parquet\"\n"
      ]
    },
    {
      "cell_type": "markdown",
      "metadata": {
        "id": "gq_bosoi45gE"
      },
      "source": [
        "### 1.3. Importing required packages for EDA(Exploratory Data Analysis)"
      ]
    },
    {
      "cell_type": "code",
      "execution_count": null,
      "metadata": {
        "id": "hRpGVh15SxBX"
      },
      "outputs": [],
      "source": [
        "import pandas as pd\n",
        "import numpy as np\n",
        "import matplotlib.pyplot as plt\n",
        "import seaborn as sns\n",
        "pd.set_option('display.max_columns', None)\n"
      ]
    },
    {
      "cell_type": "code",
      "execution_count": null,
      "metadata": {
        "colab": {
          "base_uri": "https://localhost:8080/",
          "height": 409
        },
        "id": "ef2ZwU7SSy7C",
        "outputId": "8c78a980-c2e0-40d8-e7f0-91398bd5d6fc"
      },
      "outputs": [
        {
          "data": {
            "text/html": [
              "\n",
              "  <div id=\"df-c4fdc44b-e183-444c-9a69-85edd33fd161\">\n",
              "    <div class=\"colab-df-container\">\n",
              "      <div>\n",
              "<style scoped>\n",
              "    .dataframe tbody tr th:only-of-type {\n",
              "        vertical-align: middle;\n",
              "    }\n",
              "\n",
              "    .dataframe tbody tr th {\n",
              "        vertical-align: top;\n",
              "    }\n",
              "\n",
              "    .dataframe thead th {\n",
              "        text-align: right;\n",
              "    }\n",
              "</style>\n",
              "<table border=\"1\" class=\"dataframe\">\n",
              "  <thead>\n",
              "    <tr style=\"text-align: right;\">\n",
              "      <th></th>\n",
              "      <th>Accident_Index</th>\n",
              "      <th>Towing_and_Articulation</th>\n",
              "      <th>Vehicle_Leaving_Carriageway</th>\n",
              "      <th>Vehicle_Location.Restricted_Lane</th>\n",
              "      <th>Vehicle_Manoeuvre</th>\n",
              "      <th>Vehicle_Reference</th>\n",
              "      <th>Vehicle_Type</th>\n",
              "      <th>X1st_Point_of_Impact</th>\n",
              "      <th>Year</th>\n",
              "      <th>Age_Band_of_Driver_missing</th>\n",
              "      <th>Age_of_Vehicle_missing</th>\n",
              "      <th>Driver_Home_Area_Type_missing</th>\n",
              "      <th>Driver_IMD_Decile_missing</th>\n",
              "      <th>Engine_Capacity_.CC._missing</th>\n",
              "      <th>Hit_Object_in_Carriageway_missing</th>\n",
              "      <th>Hit_Object_off_Carriageway_missing</th>\n",
              "      <th>Journey_Purpose_of_Driver_missing</th>\n",
              "      <th>Junction_Location_missing</th>\n",
              "      <th>make_missing</th>\n",
              "      <th>model_missing</th>\n",
              "      <th>Propulsion_Code_missing</th>\n",
              "      <th>Sex_of_Driver_missing</th>\n",
              "      <th>Skidding_and_Overturning_missing</th>\n",
              "      <th>Was_Vehicle_Left_Hand_Drive_missing</th>\n",
              "      <th>Age_of_Vehicle</th>\n",
              "      <th>Engine_Capacity_.CC.</th>\n",
              "      <th>Age_Band_of_Driver</th>\n",
              "      <th>Driver_Home_Area_Type</th>\n",
              "      <th>Driver_IMD_Decile</th>\n",
              "      <th>Hit_Object_in_Carriageway</th>\n",
              "      <th>Hit_Object_off_Carriageway</th>\n",
              "      <th>Journey_Purpose_of_Driver</th>\n",
              "      <th>Junction_Location</th>\n",
              "      <th>make</th>\n",
              "      <th>model</th>\n",
              "      <th>Propulsion_Code</th>\n",
              "      <th>Sex_of_Driver</th>\n",
              "      <th>Skidding_and_Overturning</th>\n",
              "      <th>Was_Vehicle_Left_Hand_Drive</th>\n",
              "    </tr>\n",
              "  </thead>\n",
              "  <tbody>\n",
              "    <tr>\n",
              "      <th>0</th>\n",
              "      <td>200401BS00001</td>\n",
              "      <td>No tow/articulation</td>\n",
              "      <td>Did not leave carriageway</td>\n",
              "      <td>0.0</td>\n",
              "      <td>Going ahead other</td>\n",
              "      <td>2</td>\n",
              "      <td>109</td>\n",
              "      <td>Front</td>\n",
              "      <td>2004</td>\n",
              "      <td>False</td>\n",
              "      <td>False</td>\n",
              "      <td>False</td>\n",
              "      <td>False</td>\n",
              "      <td>False</td>\n",
              "      <td>True</td>\n",
              "      <td>True</td>\n",
              "      <td>True</td>\n",
              "      <td>True</td>\n",
              "      <td>False</td>\n",
              "      <td>False</td>\n",
              "      <td>False</td>\n",
              "      <td>False</td>\n",
              "      <td>True</td>\n",
              "      <td>True</td>\n",
              "      <td>3.000000</td>\n",
              "      <td>1588.000000</td>\n",
              "      <td>26 - 35</td>\n",
              "      <td>Urban area</td>\n",
              "      <td>4.0</td>\n",
              "      <td>Kerb</td>\n",
              "      <td>Other permanent object</td>\n",
              "      <td>Other/Not known (2005-10)</td>\n",
              "      <td>Not at or within 20 metres of junction</td>\n",
              "      <td>ROVER</td>\n",
              "      <td>45 CLASSIC 16V</td>\n",
              "      <td>Petrol</td>\n",
              "      <td>Male</td>\n",
              "      <td>Skidded</td>\n",
              "      <td>No</td>\n",
              "    </tr>\n",
              "    <tr>\n",
              "      <th>1</th>\n",
              "      <td>200401BS00002</td>\n",
              "      <td>No tow/articulation</td>\n",
              "      <td>Did not leave carriageway</td>\n",
              "      <td>0.0</td>\n",
              "      <td>Going ahead other</td>\n",
              "      <td>1</td>\n",
              "      <td>109</td>\n",
              "      <td>Front</td>\n",
              "      <td>2004</td>\n",
              "      <td>False</td>\n",
              "      <td>True</td>\n",
              "      <td>False</td>\n",
              "      <td>False</td>\n",
              "      <td>True</td>\n",
              "      <td>True</td>\n",
              "      <td>True</td>\n",
              "      <td>True</td>\n",
              "      <td>True</td>\n",
              "      <td>False</td>\n",
              "      <td>False</td>\n",
              "      <td>True</td>\n",
              "      <td>False</td>\n",
              "      <td>True</td>\n",
              "      <td>True</td>\n",
              "      <td>7.108262</td>\n",
              "      <td>2042.161115</td>\n",
              "      <td>26 - 35</td>\n",
              "      <td>Urban area</td>\n",
              "      <td>3.0</td>\n",
              "      <td>Kerb</td>\n",
              "      <td>Other permanent object</td>\n",
              "      <td>Other/Not known (2005-10)</td>\n",
              "      <td>Not at or within 20 metres of junction</td>\n",
              "      <td>BMW</td>\n",
              "      <td>C1</td>\n",
              "      <td>Petrol</td>\n",
              "      <td>Male</td>\n",
              "      <td>Skidded</td>\n",
              "      <td>No</td>\n",
              "    </tr>\n",
              "    <tr>\n",
              "      <th>2</th>\n",
              "      <td>200401BS00003</td>\n",
              "      <td>No tow/articulation</td>\n",
              "      <td>Did not leave carriageway</td>\n",
              "      <td>0.0</td>\n",
              "      <td>Turning right</td>\n",
              "      <td>1</td>\n",
              "      <td>109</td>\n",
              "      <td>Front</td>\n",
              "      <td>2004</td>\n",
              "      <td>False</td>\n",
              "      <td>False</td>\n",
              "      <td>True</td>\n",
              "      <td>True</td>\n",
              "      <td>False</td>\n",
              "      <td>True</td>\n",
              "      <td>True</td>\n",
              "      <td>True</td>\n",
              "      <td>True</td>\n",
              "      <td>False</td>\n",
              "      <td>False</td>\n",
              "      <td>False</td>\n",
              "      <td>False</td>\n",
              "      <td>True</td>\n",
              "      <td>True</td>\n",
              "      <td>4.000000</td>\n",
              "      <td>998.000000</td>\n",
              "      <td>26 - 35</td>\n",
              "      <td>Urban area</td>\n",
              "      <td>3.0</td>\n",
              "      <td>Kerb</td>\n",
              "      <td>Other permanent object</td>\n",
              "      <td>Other/Not known (2005-10)</td>\n",
              "      <td>Not at or within 20 metres of junction</td>\n",
              "      <td>NISSAN</td>\n",
              "      <td>MICRA CELEBRATION 16V</td>\n",
              "      <td>Petrol</td>\n",
              "      <td>Male</td>\n",
              "      <td>Skidded</td>\n",
              "      <td>No</td>\n",
              "    </tr>\n",
              "    <tr>\n",
              "      <th>3</th>\n",
              "      <td>200401BS00003</td>\n",
              "      <td>No tow/articulation</td>\n",
              "      <td>Did not leave carriageway</td>\n",
              "      <td>0.0</td>\n",
              "      <td>Going ahead other</td>\n",
              "      <td>2</td>\n",
              "      <td>109</td>\n",
              "      <td>Front</td>\n",
              "      <td>2004</td>\n",
              "      <td>False</td>\n",
              "      <td>True</td>\n",
              "      <td>True</td>\n",
              "      <td>True</td>\n",
              "      <td>True</td>\n",
              "      <td>True</td>\n",
              "      <td>True</td>\n",
              "      <td>True</td>\n",
              "      <td>True</td>\n",
              "      <td>False</td>\n",
              "      <td>False</td>\n",
              "      <td>True</td>\n",
              "      <td>False</td>\n",
              "      <td>True</td>\n",
              "      <td>True</td>\n",
              "      <td>7.108262</td>\n",
              "      <td>2042.161115</td>\n",
              "      <td>66 - 75</td>\n",
              "      <td>Urban area</td>\n",
              "      <td>3.0</td>\n",
              "      <td>Kerb</td>\n",
              "      <td>Other permanent object</td>\n",
              "      <td>Other/Not known (2005-10)</td>\n",
              "      <td>Not at or within 20 metres of junction</td>\n",
              "      <td>LONDON TAXIS INT</td>\n",
              "      <td>TXII GOLD AUTO</td>\n",
              "      <td>Petrol</td>\n",
              "      <td>Male</td>\n",
              "      <td>Skidded</td>\n",
              "      <td>No</td>\n",
              "    </tr>\n",
              "    <tr>\n",
              "      <th>4</th>\n",
              "      <td>200401BS00004</td>\n",
              "      <td>No tow/articulation</td>\n",
              "      <td>Did not leave carriageway</td>\n",
              "      <td>0.0</td>\n",
              "      <td>Going ahead other</td>\n",
              "      <td>1</td>\n",
              "      <td>Motorcycle 125cc and under</td>\n",
              "      <td>Front</td>\n",
              "      <td>2004</td>\n",
              "      <td>False</td>\n",
              "      <td>False</td>\n",
              "      <td>False</td>\n",
              "      <td>False</td>\n",
              "      <td>False</td>\n",
              "      <td>True</td>\n",
              "      <td>True</td>\n",
              "      <td>True</td>\n",
              "      <td>True</td>\n",
              "      <td>False</td>\n",
              "      <td>False</td>\n",
              "      <td>False</td>\n",
              "      <td>False</td>\n",
              "      <td>True</td>\n",
              "      <td>True</td>\n",
              "      <td>1.000000</td>\n",
              "      <td>124.000000</td>\n",
              "      <td>26 - 35</td>\n",
              "      <td>Urban area</td>\n",
              "      <td>4.0</td>\n",
              "      <td>Kerb</td>\n",
              "      <td>Other permanent object</td>\n",
              "      <td>Other/Not known (2005-10)</td>\n",
              "      <td>Not at or within 20 metres of junction</td>\n",
              "      <td>PIAGGIO</td>\n",
              "      <td>VESPA ET4</td>\n",
              "      <td>Petrol</td>\n",
              "      <td>Male</td>\n",
              "      <td>Skidded</td>\n",
              "      <td>No</td>\n",
              "    </tr>\n",
              "  </tbody>\n",
              "</table>\n",
              "</div>\n",
              "      <button class=\"colab-df-convert\" onclick=\"convertToInteractive('df-c4fdc44b-e183-444c-9a69-85edd33fd161')\"\n",
              "              title=\"Convert this dataframe to an interactive table.\"\n",
              "              style=\"display:none;\">\n",
              "        \n",
              "  <svg xmlns=\"http://www.w3.org/2000/svg\" height=\"24px\"viewBox=\"0 0 24 24\"\n",
              "       width=\"24px\">\n",
              "    <path d=\"M0 0h24v24H0V0z\" fill=\"none\"/>\n",
              "    <path d=\"M18.56 5.44l.94 2.06.94-2.06 2.06-.94-2.06-.94-.94-2.06-.94 2.06-2.06.94zm-11 1L8.5 8.5l.94-2.06 2.06-.94-2.06-.94L8.5 2.5l-.94 2.06-2.06.94zm10 10l.94 2.06.94-2.06 2.06-.94-2.06-.94-.94-2.06-.94 2.06-2.06.94z\"/><path d=\"M17.41 7.96l-1.37-1.37c-.4-.4-.92-.59-1.43-.59-.52 0-1.04.2-1.43.59L10.3 9.45l-7.72 7.72c-.78.78-.78 2.05 0 2.83L4 21.41c.39.39.9.59 1.41.59.51 0 1.02-.2 1.41-.59l7.78-7.78 2.81-2.81c.8-.78.8-2.07 0-2.86zM5.41 20L4 18.59l7.72-7.72 1.47 1.35L5.41 20z\"/>\n",
              "  </svg>\n",
              "      </button>\n",
              "      \n",
              "  <style>\n",
              "    .colab-df-container {\n",
              "      display:flex;\n",
              "      flex-wrap:wrap;\n",
              "      gap: 12px;\n",
              "    }\n",
              "\n",
              "    .colab-df-convert {\n",
              "      background-color: #E8F0FE;\n",
              "      border: none;\n",
              "      border-radius: 50%;\n",
              "      cursor: pointer;\n",
              "      display: none;\n",
              "      fill: #1967D2;\n",
              "      height: 32px;\n",
              "      padding: 0 0 0 0;\n",
              "      width: 32px;\n",
              "    }\n",
              "\n",
              "    .colab-df-convert:hover {\n",
              "      background-color: #E2EBFA;\n",
              "      box-shadow: 0px 1px 2px rgba(60, 64, 67, 0.3), 0px 1px 3px 1px rgba(60, 64, 67, 0.15);\n",
              "      fill: #174EA6;\n",
              "    }\n",
              "\n",
              "    [theme=dark] .colab-df-convert {\n",
              "      background-color: #3B4455;\n",
              "      fill: #D2E3FC;\n",
              "    }\n",
              "\n",
              "    [theme=dark] .colab-df-convert:hover {\n",
              "      background-color: #434B5C;\n",
              "      box-shadow: 0px 1px 3px 1px rgba(0, 0, 0, 0.15);\n",
              "      filter: drop-shadow(0px 1px 2px rgba(0, 0, 0, 0.3));\n",
              "      fill: #FFFFFF;\n",
              "    }\n",
              "  </style>\n",
              "\n",
              "      <script>\n",
              "        const buttonEl =\n",
              "          document.querySelector('#df-c4fdc44b-e183-444c-9a69-85edd33fd161 button.colab-df-convert');\n",
              "        buttonEl.style.display =\n",
              "          google.colab.kernel.accessAllowed ? 'block' : 'none';\n",
              "\n",
              "        async function convertToInteractive(key) {\n",
              "          const element = document.querySelector('#df-c4fdc44b-e183-444c-9a69-85edd33fd161');\n",
              "          const dataTable =\n",
              "            await google.colab.kernel.invokeFunction('convertToInteractive',\n",
              "                                                     [key], {});\n",
              "          if (!dataTable) return;\n",
              "\n",
              "          const docLinkHtml = 'Like what you see? Visit the ' +\n",
              "            '<a target=\"_blank\" href=https://colab.research.google.com/notebooks/data_table.ipynb>data table notebook</a>'\n",
              "            + ' to learn more about interactive tables.';\n",
              "          element.innerHTML = '';\n",
              "          dataTable['output_type'] = 'display_data';\n",
              "          await google.colab.output.renderOutput(dataTable, element);\n",
              "          const docLink = document.createElement('div');\n",
              "          docLink.innerHTML = docLinkHtml;\n",
              "          element.appendChild(docLink);\n",
              "        }\n",
              "      </script>\n",
              "    </div>\n",
              "  </div>\n",
              "  "
            ],
            "text/plain": [
              "  Accident_Index Towing_and_Articulation Vehicle_Leaving_Carriageway  \\\n",
              "0  200401BS00001     No tow/articulation   Did not leave carriageway   \n",
              "1  200401BS00002     No tow/articulation   Did not leave carriageway   \n",
              "2  200401BS00003     No tow/articulation   Did not leave carriageway   \n",
              "3  200401BS00003     No tow/articulation   Did not leave carriageway   \n",
              "4  200401BS00004     No tow/articulation   Did not leave carriageway   \n",
              "\n",
              "   Vehicle_Location.Restricted_Lane  Vehicle_Manoeuvre  Vehicle_Reference  \\\n",
              "0                               0.0  Going ahead other                  2   \n",
              "1                               0.0  Going ahead other                  1   \n",
              "2                               0.0      Turning right                  1   \n",
              "3                               0.0  Going ahead other                  2   \n",
              "4                               0.0  Going ahead other                  1   \n",
              "\n",
              "                 Vehicle_Type X1st_Point_of_Impact  Year  \\\n",
              "0                         109                Front  2004   \n",
              "1                         109                Front  2004   \n",
              "2                         109                Front  2004   \n",
              "3                         109                Front  2004   \n",
              "4  Motorcycle 125cc and under                Front  2004   \n",
              "\n",
              "   Age_Band_of_Driver_missing  Age_of_Vehicle_missing  \\\n",
              "0                       False                   False   \n",
              "1                       False                    True   \n",
              "2                       False                   False   \n",
              "3                       False                    True   \n",
              "4                       False                   False   \n",
              "\n",
              "   Driver_Home_Area_Type_missing  Driver_IMD_Decile_missing  \\\n",
              "0                          False                      False   \n",
              "1                          False                      False   \n",
              "2                           True                       True   \n",
              "3                           True                       True   \n",
              "4                          False                      False   \n",
              "\n",
              "   Engine_Capacity_.CC._missing  Hit_Object_in_Carriageway_missing  \\\n",
              "0                         False                               True   \n",
              "1                          True                               True   \n",
              "2                         False                               True   \n",
              "3                          True                               True   \n",
              "4                         False                               True   \n",
              "\n",
              "   Hit_Object_off_Carriageway_missing  Journey_Purpose_of_Driver_missing  \\\n",
              "0                                True                               True   \n",
              "1                                True                               True   \n",
              "2                                True                               True   \n",
              "3                                True                               True   \n",
              "4                                True                               True   \n",
              "\n",
              "   Junction_Location_missing  make_missing  model_missing  \\\n",
              "0                       True         False          False   \n",
              "1                       True         False          False   \n",
              "2                       True         False          False   \n",
              "3                       True         False          False   \n",
              "4                       True         False          False   \n",
              "\n",
              "   Propulsion_Code_missing  Sex_of_Driver_missing  \\\n",
              "0                    False                  False   \n",
              "1                     True                  False   \n",
              "2                    False                  False   \n",
              "3                     True                  False   \n",
              "4                    False                  False   \n",
              "\n",
              "   Skidding_and_Overturning_missing  Was_Vehicle_Left_Hand_Drive_missing  \\\n",
              "0                              True                                 True   \n",
              "1                              True                                 True   \n",
              "2                              True                                 True   \n",
              "3                              True                                 True   \n",
              "4                              True                                 True   \n",
              "\n",
              "   Age_of_Vehicle  Engine_Capacity_.CC. Age_Band_of_Driver  \\\n",
              "0        3.000000           1588.000000            26 - 35   \n",
              "1        7.108262           2042.161115            26 - 35   \n",
              "2        4.000000            998.000000            26 - 35   \n",
              "3        7.108262           2042.161115            66 - 75   \n",
              "4        1.000000            124.000000            26 - 35   \n",
              "\n",
              "  Driver_Home_Area_Type  Driver_IMD_Decile Hit_Object_in_Carriageway  \\\n",
              "0            Urban area                4.0                      Kerb   \n",
              "1            Urban area                3.0                      Kerb   \n",
              "2            Urban area                3.0                      Kerb   \n",
              "3            Urban area                3.0                      Kerb   \n",
              "4            Urban area                4.0                      Kerb   \n",
              "\n",
              "  Hit_Object_off_Carriageway  Journey_Purpose_of_Driver  \\\n",
              "0     Other permanent object  Other/Not known (2005-10)   \n",
              "1     Other permanent object  Other/Not known (2005-10)   \n",
              "2     Other permanent object  Other/Not known (2005-10)   \n",
              "3     Other permanent object  Other/Not known (2005-10)   \n",
              "4     Other permanent object  Other/Not known (2005-10)   \n",
              "\n",
              "                        Junction_Location              make  \\\n",
              "0  Not at or within 20 metres of junction             ROVER   \n",
              "1  Not at or within 20 metres of junction               BMW   \n",
              "2  Not at or within 20 metres of junction            NISSAN   \n",
              "3  Not at or within 20 metres of junction  LONDON TAXIS INT   \n",
              "4  Not at or within 20 metres of junction           PIAGGIO   \n",
              "\n",
              "                   model Propulsion_Code Sex_of_Driver  \\\n",
              "0         45 CLASSIC 16V          Petrol          Male   \n",
              "1                     C1          Petrol          Male   \n",
              "2  MICRA CELEBRATION 16V          Petrol          Male   \n",
              "3         TXII GOLD AUTO          Petrol          Male   \n",
              "4              VESPA ET4          Petrol          Male   \n",
              "\n",
              "  Skidding_and_Overturning Was_Vehicle_Left_Hand_Drive  \n",
              "0                  Skidded                          No  \n",
              "1                  Skidded                          No  \n",
              "2                  Skidded                          No  \n",
              "3                  Skidded                          No  \n",
              "4                  Skidded                          No  "
            ]
          },
          "execution_count": 52,
          "metadata": {},
          "output_type": "execute_result"
        }
      ],
      "source": [
        "im_df =  pd.read_parquet(SIMPLE_IMPUTE_VEHICLE_PATH, engine='pyarrow')\n",
        "im_df.head()"
      ]
    },
    {
      "cell_type": "code",
      "execution_count": null,
      "metadata": {
        "colab": {
          "base_uri": "https://localhost:8080/"
        },
        "id": "WUONHppARQFU",
        "outputId": "707e8e79-4053-47de-aef7-16973b756a3e"
      },
      "outputs": [
        {
          "name": "stdout",
          "output_type": "stream",
          "text": [
            "No of samples: 2172689\n",
            "No of columns: 39\n"
          ]
        }
      ],
      "source": [
        "print(\"No of samples:\", im_df.shape[0])\n",
        "print(\"No of columns:\", im_df.shape[1])"
      ]
    },
    {
      "cell_type": "markdown",
      "metadata": {
        "id": "c1i6A_ERRhvj"
      },
      "source": [
        "We have 2172689 samples and 39 features in the `simple_imputed dataset`."
      ]
    },
    {
      "cell_type": "code",
      "execution_count": null,
      "metadata": {
        "colab": {
          "base_uri": "https://localhost:8080/"
        },
        "id": "ZT_4Rb4zReMH",
        "outputId": "e0ca44bd-3e1a-4473-98c8-bd565274bb1e"
      },
      "outputs": [
        {
          "data": {
            "text/plain": [
              "object     18\n",
              "bool       15\n",
              "float64     4\n",
              "int64       2\n",
              "dtype: int64"
            ]
          },
          "execution_count": 15,
          "metadata": {},
          "output_type": "execute_result"
        }
      ],
      "source": [
        "pd.value_counts(im_df.dtypes)"
      ]
    },
    {
      "cell_type": "code",
      "execution_count": null,
      "metadata": {
        "colab": {
          "base_uri": "https://localhost:8080/"
        },
        "id": "ZrOyVUe2Sajw",
        "outputId": "fce927bf-7c37-4792-9c51-73bb25f2a961"
      },
      "outputs": [
        {
          "name": "stdout",
          "output_type": "stream",
          "text": [
            "<class 'pandas.core.frame.DataFrame'>\n",
            "Int64Index: 2172689 entries, 0 to 2177204\n",
            "Data columns (total 39 columns):\n",
            " #   Column                               Dtype  \n",
            "---  ------                               -----  \n",
            " 0   Accident_Index                       object \n",
            " 1   Towing_and_Articulation              object \n",
            " 2   Vehicle_Leaving_Carriageway          object \n",
            " 3   Vehicle_Location.Restricted_Lane     float64\n",
            " 4   Vehicle_Manoeuvre                    object \n",
            " 5   Vehicle_Reference                    int64  \n",
            " 6   Vehicle_Type                         object \n",
            " 7   X1st_Point_of_Impact                 object \n",
            " 8   Year                                 int64  \n",
            " 9   Age_Band_of_Driver_missing           bool   \n",
            " 10  Age_of_Vehicle_missing               bool   \n",
            " 11  Driver_Home_Area_Type_missing        bool   \n",
            " 12  Driver_IMD_Decile_missing            bool   \n",
            " 13  Engine_Capacity_.CC._missing         bool   \n",
            " 14  Hit_Object_in_Carriageway_missing    bool   \n",
            " 15  Hit_Object_off_Carriageway_missing   bool   \n",
            " 16  Journey_Purpose_of_Driver_missing    bool   \n",
            " 17  Junction_Location_missing            bool   \n",
            " 18  make_missing                         bool   \n",
            " 19  model_missing                        bool   \n",
            " 20  Propulsion_Code_missing              bool   \n",
            " 21  Sex_of_Driver_missing                bool   \n",
            " 22  Skidding_and_Overturning_missing     bool   \n",
            " 23  Was_Vehicle_Left_Hand_Drive_missing  bool   \n",
            " 24  Age_of_Vehicle                       float64\n",
            " 25  Engine_Capacity_.CC.                 float64\n",
            " 26  Age_Band_of_Driver                   object \n",
            " 27  Driver_Home_Area_Type                object \n",
            " 28  Driver_IMD_Decile                    float64\n",
            " 29  Hit_Object_in_Carriageway            object \n",
            " 30  Hit_Object_off_Carriageway           object \n",
            " 31  Journey_Purpose_of_Driver            object \n",
            " 32  Junction_Location                    object \n",
            " 33  make                                 object \n",
            " 34  model                                object \n",
            " 35  Propulsion_Code                      object \n",
            " 36  Sex_of_Driver                        object \n",
            " 37  Skidding_and_Overturning             object \n",
            " 38  Was_Vehicle_Left_Hand_Drive          object \n",
            "dtypes: bool(15), float64(4), int64(2), object(18)\n",
            "memory usage: 445.5+ MB\n"
          ]
        }
      ],
      "source": [
        "im_df.info()"
      ]
    },
    {
      "cell_type": "markdown",
      "metadata": {
        "id": "NBNzv80HR5e5"
      },
      "source": [
        "The above analysis shows that we have columns of dtypes as object, bool, float64, int64 \n",
        "\n",
        "\n",
        "* The above analysis shows that we don't have enough numeric features,  most of them are categorical, therefore effective strategy has to be analyzed and used to convert them into numerical values.\n",
        "\n",
        "\n",
        "* The given dataset comprises of only vehicle, passenger related information which were involved in the accident, that implies we do not have entries apart from vehicles involved in accident, **we have a pure dataset.**\n",
        "\n",
        "* The problem we are trying to solve seems like a novelty problem. So, exploring data to gather information regarding their importance has to be performed without a target variable.\n",
        "\n",
        "Column type:\n",
        "* float64 columns: 4\n",
        "*  int64 columns : 2\n",
        "*  boolean columns: 15\n",
        "*  object/categorical columns: 18\n",
        "\n",
        "\n",
        "\n",
        "\n",
        "\n",
        "\n"
      ]
    },
    {
      "cell_type": "markdown",
      "metadata": {
        "id": "mznayJDuS4lu"
      },
      "source": [
        "### 1.4 Structure of numerical and non numerical columns"
      ]
    },
    {
      "cell_type": "markdown",
      "metadata": {
        "id": "Vg4piEkaTPMr"
      },
      "source": [
        "#### Numerical Columns"
      ]
    },
    {
      "cell_type": "code",
      "execution_count": null,
      "metadata": {
        "colab": {
          "base_uri": "https://localhost:8080/",
          "height": 238
        },
        "id": "9VeNczYgTJDO",
        "outputId": "176f15f8-586e-42a7-fafd-ffc4e2f01291"
      },
      "outputs": [
        {
          "data": {
            "text/html": [
              "\n",
              "  <div id=\"df-fc50eddb-9ef8-455a-9aa7-5edb2f8473e1\">\n",
              "    <div class=\"colab-df-container\">\n",
              "      <div>\n",
              "<style scoped>\n",
              "    .dataframe tbody tr th:only-of-type {\n",
              "        vertical-align: middle;\n",
              "    }\n",
              "\n",
              "    .dataframe tbody tr th {\n",
              "        vertical-align: top;\n",
              "    }\n",
              "\n",
              "    .dataframe thead th {\n",
              "        text-align: right;\n",
              "    }\n",
              "</style>\n",
              "<table border=\"1\" class=\"dataframe\">\n",
              "  <thead>\n",
              "    <tr style=\"text-align: right;\">\n",
              "      <th></th>\n",
              "      <th>count</th>\n",
              "      <th>mean</th>\n",
              "      <th>std</th>\n",
              "      <th>min</th>\n",
              "      <th>25%</th>\n",
              "      <th>50%</th>\n",
              "      <th>75%</th>\n",
              "      <th>max</th>\n",
              "    </tr>\n",
              "  </thead>\n",
              "  <tbody>\n",
              "    <tr>\n",
              "      <th>Vehicle_Location.Restricted_Lane</th>\n",
              "      <td>2172689.0</td>\n",
              "      <td>0.107248</td>\n",
              "      <td>0.879788</td>\n",
              "      <td>0.0</td>\n",
              "      <td>0.0</td>\n",
              "      <td>0.000000</td>\n",
              "      <td>0.000000</td>\n",
              "      <td>9.0</td>\n",
              "    </tr>\n",
              "    <tr>\n",
              "      <th>Vehicle_Reference</th>\n",
              "      <td>2172689.0</td>\n",
              "      <td>1.553519</td>\n",
              "      <td>0.775350</td>\n",
              "      <td>1.0</td>\n",
              "      <td>1.0</td>\n",
              "      <td>1.000000</td>\n",
              "      <td>2.000000</td>\n",
              "      <td>91.0</td>\n",
              "    </tr>\n",
              "    <tr>\n",
              "      <th>Year</th>\n",
              "      <td>2172689.0</td>\n",
              "      <td>2010.933269</td>\n",
              "      <td>3.689380</td>\n",
              "      <td>2004.0</td>\n",
              "      <td>2008.0</td>\n",
              "      <td>2011.000000</td>\n",
              "      <td>2014.000000</td>\n",
              "      <td>2016.0</td>\n",
              "    </tr>\n",
              "    <tr>\n",
              "      <th>Age_of_Vehicle</th>\n",
              "      <td>2172689.0</td>\n",
              "      <td>7.108262</td>\n",
              "      <td>4.321033</td>\n",
              "      <td>1.0</td>\n",
              "      <td>4.0</td>\n",
              "      <td>7.108262</td>\n",
              "      <td>9.000000</td>\n",
              "      <td>111.0</td>\n",
              "    </tr>\n",
              "    <tr>\n",
              "      <th>Engine_Capacity_.CC.</th>\n",
              "      <td>2172689.0</td>\n",
              "      <td>2042.161115</td>\n",
              "      <td>1827.729708</td>\n",
              "      <td>1.0</td>\n",
              "      <td>1360.0</td>\n",
              "      <td>1796.000000</td>\n",
              "      <td>2042.161115</td>\n",
              "      <td>96000.0</td>\n",
              "    </tr>\n",
              "    <tr>\n",
              "      <th>Driver_IMD_Decile</th>\n",
              "      <td>2172689.0</td>\n",
              "      <td>4.583191</td>\n",
              "      <td>2.559937</td>\n",
              "      <td>1.0</td>\n",
              "      <td>3.0</td>\n",
              "      <td>3.000000</td>\n",
              "      <td>7.000000</td>\n",
              "      <td>10.0</td>\n",
              "    </tr>\n",
              "  </tbody>\n",
              "</table>\n",
              "</div>\n",
              "      <button class=\"colab-df-convert\" onclick=\"convertToInteractive('df-fc50eddb-9ef8-455a-9aa7-5edb2f8473e1')\"\n",
              "              title=\"Convert this dataframe to an interactive table.\"\n",
              "              style=\"display:none;\">\n",
              "        \n",
              "  <svg xmlns=\"http://www.w3.org/2000/svg\" height=\"24px\"viewBox=\"0 0 24 24\"\n",
              "       width=\"24px\">\n",
              "    <path d=\"M0 0h24v24H0V0z\" fill=\"none\"/>\n",
              "    <path d=\"M18.56 5.44l.94 2.06.94-2.06 2.06-.94-2.06-.94-.94-2.06-.94 2.06-2.06.94zm-11 1L8.5 8.5l.94-2.06 2.06-.94-2.06-.94L8.5 2.5l-.94 2.06-2.06.94zm10 10l.94 2.06.94-2.06 2.06-.94-2.06-.94-.94-2.06-.94 2.06-2.06.94z\"/><path d=\"M17.41 7.96l-1.37-1.37c-.4-.4-.92-.59-1.43-.59-.52 0-1.04.2-1.43.59L10.3 9.45l-7.72 7.72c-.78.78-.78 2.05 0 2.83L4 21.41c.39.39.9.59 1.41.59.51 0 1.02-.2 1.41-.59l7.78-7.78 2.81-2.81c.8-.78.8-2.07 0-2.86zM5.41 20L4 18.59l7.72-7.72 1.47 1.35L5.41 20z\"/>\n",
              "  </svg>\n",
              "      </button>\n",
              "      \n",
              "  <style>\n",
              "    .colab-df-container {\n",
              "      display:flex;\n",
              "      flex-wrap:wrap;\n",
              "      gap: 12px;\n",
              "    }\n",
              "\n",
              "    .colab-df-convert {\n",
              "      background-color: #E8F0FE;\n",
              "      border: none;\n",
              "      border-radius: 50%;\n",
              "      cursor: pointer;\n",
              "      display: none;\n",
              "      fill: #1967D2;\n",
              "      height: 32px;\n",
              "      padding: 0 0 0 0;\n",
              "      width: 32px;\n",
              "    }\n",
              "\n",
              "    .colab-df-convert:hover {\n",
              "      background-color: #E2EBFA;\n",
              "      box-shadow: 0px 1px 2px rgba(60, 64, 67, 0.3), 0px 1px 3px 1px rgba(60, 64, 67, 0.15);\n",
              "      fill: #174EA6;\n",
              "    }\n",
              "\n",
              "    [theme=dark] .colab-df-convert {\n",
              "      background-color: #3B4455;\n",
              "      fill: #D2E3FC;\n",
              "    }\n",
              "\n",
              "    [theme=dark] .colab-df-convert:hover {\n",
              "      background-color: #434B5C;\n",
              "      box-shadow: 0px 1px 3px 1px rgba(0, 0, 0, 0.15);\n",
              "      filter: drop-shadow(0px 1px 2px rgba(0, 0, 0, 0.3));\n",
              "      fill: #FFFFFF;\n",
              "    }\n",
              "  </style>\n",
              "\n",
              "      <script>\n",
              "        const buttonEl =\n",
              "          document.querySelector('#df-fc50eddb-9ef8-455a-9aa7-5edb2f8473e1 button.colab-df-convert');\n",
              "        buttonEl.style.display =\n",
              "          google.colab.kernel.accessAllowed ? 'block' : 'none';\n",
              "\n",
              "        async function convertToInteractive(key) {\n",
              "          const element = document.querySelector('#df-fc50eddb-9ef8-455a-9aa7-5edb2f8473e1');\n",
              "          const dataTable =\n",
              "            await google.colab.kernel.invokeFunction('convertToInteractive',\n",
              "                                                     [key], {});\n",
              "          if (!dataTable) return;\n",
              "\n",
              "          const docLinkHtml = 'Like what you see? Visit the ' +\n",
              "            '<a target=\"_blank\" href=https://colab.research.google.com/notebooks/data_table.ipynb>data table notebook</a>'\n",
              "            + ' to learn more about interactive tables.';\n",
              "          element.innerHTML = '';\n",
              "          dataTable['output_type'] = 'display_data';\n",
              "          await google.colab.output.renderOutput(dataTable, element);\n",
              "          const docLink = document.createElement('div');\n",
              "          docLink.innerHTML = docLinkHtml;\n",
              "          element.appendChild(docLink);\n",
              "        }\n",
              "      </script>\n",
              "    </div>\n",
              "  </div>\n",
              "  "
            ],
            "text/plain": [
              "                                      count         mean          std     min  \\\n",
              "Vehicle_Location.Restricted_Lane  2172689.0     0.107248     0.879788     0.0   \n",
              "Vehicle_Reference                 2172689.0     1.553519     0.775350     1.0   \n",
              "Year                              2172689.0  2010.933269     3.689380  2004.0   \n",
              "Age_of_Vehicle                    2172689.0     7.108262     4.321033     1.0   \n",
              "Engine_Capacity_.CC.              2172689.0  2042.161115  1827.729708     1.0   \n",
              "Driver_IMD_Decile                 2172689.0     4.583191     2.559937     1.0   \n",
              "\n",
              "                                     25%          50%          75%      max  \n",
              "Vehicle_Location.Restricted_Lane     0.0     0.000000     0.000000      9.0  \n",
              "Vehicle_Reference                    1.0     1.000000     2.000000     91.0  \n",
              "Year                              2008.0  2011.000000  2014.000000   2016.0  \n",
              "Age_of_Vehicle                       4.0     7.108262     9.000000    111.0  \n",
              "Engine_Capacity_.CC.              1360.0  1796.000000  2042.161115  96000.0  \n",
              "Driver_IMD_Decile                    3.0     3.000000     7.000000     10.0  "
            ]
          },
          "execution_count": 8,
          "metadata": {},
          "output_type": "execute_result"
        }
      ],
      "source": [
        "im_df.describe().T\n"
      ]
    },
    {
      "cell_type": "code",
      "execution_count": null,
      "metadata": {
        "colab": {
          "base_uri": "https://localhost:8080/",
          "height": 437
        },
        "id": "Xt98WDwDcLiz",
        "outputId": "0249d54c-58eb-4b53-de93-42caa299fbe4"
      },
      "outputs": [
        {
          "data": {
            "image/png": "[encoded data removed]",
            "text/plain": [
              "<Figure size 1080x288 with 1 Axes>"
            ]
          },
          "metadata": {
            "needs_background": "light"
          },
          "output_type": "display_data"
        }
      ],
      "source": [
        "# For each numerical feature compute number of unique entries\n",
        "unique_values = im_df.select_dtypes(include=\"number\").nunique().sort_values()\n",
        "\n",
        "# Plot information with y-axis in log-scale\n",
        "unique_values.plot.bar(logy=True, figsize=(15, 4), title=\"Unique values per feature\");\n"
      ]
    },
    {
      "cell_type": "markdown",
      "metadata": {
        "id": "3Y_DS9_2eJIg"
      },
      "source": [
        "We might see a lot of skewness in Engine capacity and age of vehicle features as compared to other numerical features.\n"
      ]
    },
    {
      "cell_type": "markdown",
      "metadata": {
        "id": "ZUHguxdQTjG_"
      },
      "source": [
        "#### Non-numerical columns"
      ]
    },
    {
      "cell_type": "code",
      "execution_count": null,
      "metadata": {
        "colab": {
          "base_uri": "https://localhost:8080/",
          "height": 614
        },
        "id": "lSHIqz04TozU",
        "outputId": "4668d692-e968-4e4b-e147-c62bc1cf3d7c"
      },
      "outputs": [
        {
          "data": {
            "text/html": [
              "\n",
              "  <div id=\"df-c102b44c-bf66-4613-b0af-1c0f7c95977e\">\n",
              "    <div class=\"colab-df-container\">\n",
              "      <div>\n",
              "<style scoped>\n",
              "    .dataframe tbody tr th:only-of-type {\n",
              "        vertical-align: middle;\n",
              "    }\n",
              "\n",
              "    .dataframe tbody tr th {\n",
              "        vertical-align: top;\n",
              "    }\n",
              "\n",
              "    .dataframe thead th {\n",
              "        text-align: right;\n",
              "    }\n",
              "</style>\n",
              "<table border=\"1\" class=\"dataframe\">\n",
              "  <thead>\n",
              "    <tr style=\"text-align: right;\">\n",
              "      <th></th>\n",
              "      <th>count</th>\n",
              "      <th>unique</th>\n",
              "      <th>top</th>\n",
              "      <th>freq</th>\n",
              "    </tr>\n",
              "  </thead>\n",
              "  <tbody>\n",
              "    <tr>\n",
              "      <th>Accident_Index</th>\n",
              "      <td>2172689</td>\n",
              "      <td>1486290</td>\n",
              "      <td>2013460234852</td>\n",
              "      <td>53</td>\n",
              "    </tr>\n",
              "    <tr>\n",
              "      <th>Towing_and_Articulation</th>\n",
              "      <td>2172689</td>\n",
              "      <td>6</td>\n",
              "      <td>No tow/articulation</td>\n",
              "      <td>2133102</td>\n",
              "    </tr>\n",
              "    <tr>\n",
              "      <th>Vehicle_Leaving_Carriageway</th>\n",
              "      <td>2172689</td>\n",
              "      <td>9</td>\n",
              "      <td>Did not leave carriageway</td>\n",
              "      <td>1919714</td>\n",
              "    </tr>\n",
              "    <tr>\n",
              "      <th>Vehicle_Manoeuvre</th>\n",
              "      <td>2172689</td>\n",
              "      <td>18</td>\n",
              "      <td>Going ahead other</td>\n",
              "      <td>992974</td>\n",
              "    </tr>\n",
              "    <tr>\n",
              "      <th>Vehicle_Type</th>\n",
              "      <td>2172689</td>\n",
              "      <td>23</td>\n",
              "      <td>Car</td>\n",
              "      <td>1526770</td>\n",
              "    </tr>\n",
              "    <tr>\n",
              "      <th>X1st_Point_of_Impact</th>\n",
              "      <td>2172689</td>\n",
              "      <td>5</td>\n",
              "      <td>Front</td>\n",
              "      <td>1059530</td>\n",
              "    </tr>\n",
              "    <tr>\n",
              "      <th>Age_Band_of_Driver</th>\n",
              "      <td>2172689</td>\n",
              "      <td>11</td>\n",
              "      <td>26 - 35</td>\n",
              "      <td>619364</td>\n",
              "    </tr>\n",
              "    <tr>\n",
              "      <th>Driver_Home_Area_Type</th>\n",
              "      <td>2172689</td>\n",
              "      <td>3</td>\n",
              "      <td>Urban area</td>\n",
              "      <td>1766718</td>\n",
              "    </tr>\n",
              "    <tr>\n",
              "      <th>Hit_Object_in_Carriageway</th>\n",
              "      <td>2172689</td>\n",
              "      <td>11</td>\n",
              "      <td>Kerb</td>\n",
              "      <td>2119031</td>\n",
              "    </tr>\n",
              "    <tr>\n",
              "      <th>Hit_Object_off_Carriageway</th>\n",
              "      <td>2172689</td>\n",
              "      <td>11</td>\n",
              "      <td>Other permanent object</td>\n",
              "      <td>2042437</td>\n",
              "    </tr>\n",
              "    <tr>\n",
              "      <th>Journey_Purpose_of_Driver</th>\n",
              "      <td>2172689</td>\n",
              "      <td>6</td>\n",
              "      <td>Other/Not known (2005-10)</td>\n",
              "      <td>1519761</td>\n",
              "    </tr>\n",
              "    <tr>\n",
              "      <th>Junction_Location</th>\n",
              "      <td>2172689</td>\n",
              "      <td>9</td>\n",
              "      <td>Not at or within 20 metres of junction</td>\n",
              "      <td>927172</td>\n",
              "    </tr>\n",
              "    <tr>\n",
              "      <th>make</th>\n",
              "      <td>2172689</td>\n",
              "      <td>535</td>\n",
              "      <td>VAUXHALL</td>\n",
              "      <td>348845</td>\n",
              "    </tr>\n",
              "    <tr>\n",
              "      <th>model</th>\n",
              "      <td>2172689</td>\n",
              "      <td>35705</td>\n",
              "      <td>MISSING</td>\n",
              "      <td>335353</td>\n",
              "    </tr>\n",
              "    <tr>\n",
              "      <th>Propulsion_Code</th>\n",
              "      <td>2172689</td>\n",
              "      <td>12</td>\n",
              "      <td>Petrol</td>\n",
              "      <td>1385493</td>\n",
              "    </tr>\n",
              "    <tr>\n",
              "      <th>Sex_of_Driver</th>\n",
              "      <td>2172689</td>\n",
              "      <td>2</td>\n",
              "      <td>Male</td>\n",
              "      <td>1540586</td>\n",
              "    </tr>\n",
              "    <tr>\n",
              "      <th>Skidding_and_Overturning</th>\n",
              "      <td>2172689</td>\n",
              "      <td>5</td>\n",
              "      <td>Skidded</td>\n",
              "      <td>2094582</td>\n",
              "    </tr>\n",
              "    <tr>\n",
              "      <th>Was_Vehicle_Left_Hand_Drive</th>\n",
              "      <td>2172689</td>\n",
              "      <td>2</td>\n",
              "      <td>No</td>\n",
              "      <td>2168811</td>\n",
              "    </tr>\n",
              "  </tbody>\n",
              "</table>\n",
              "</div>\n",
              "      <button class=\"colab-df-convert\" onclick=\"convertToInteractive('df-c102b44c-bf66-4613-b0af-1c0f7c95977e')\"\n",
              "              title=\"Convert this dataframe to an interactive table.\"\n",
              "              style=\"display:none;\">\n",
              "        \n",
              "  <svg xmlns=\"http://www.w3.org/2000/svg\" height=\"24px\"viewBox=\"0 0 24 24\"\n",
              "       width=\"24px\">\n",
              "    <path d=\"M0 0h24v24H0V0z\" fill=\"none\"/>\n",
              "    <path d=\"M18.56 5.44l.94 2.06.94-2.06 2.06-.94-2.06-.94-.94-2.06-.94 2.06-2.06.94zm-11 1L8.5 8.5l.94-2.06 2.06-.94-2.06-.94L8.5 2.5l-.94 2.06-2.06.94zm10 10l.94 2.06.94-2.06 2.06-.94-2.06-.94-.94-2.06-.94 2.06-2.06.94z\"/><path d=\"M17.41 7.96l-1.37-1.37c-.4-.4-.92-.59-1.43-.59-.52 0-1.04.2-1.43.59L10.3 9.45l-7.72 7.72c-.78.78-.78 2.05 0 2.83L4 21.41c.39.39.9.59 1.41.59.51 0 1.02-.2 1.41-.59l7.78-7.78 2.81-2.81c.8-.78.8-2.07 0-2.86zM5.41 20L4 18.59l7.72-7.72 1.47 1.35L5.41 20z\"/>\n",
              "  </svg>\n",
              "      </button>\n",
              "      \n",
              "  <style>\n",
              "    .colab-df-container {\n",
              "      display:flex;\n",
              "      flex-wrap:wrap;\n",
              "      gap: 12px;\n",
              "    }\n",
              "\n",
              "    .colab-df-convert {\n",
              "      background-color: #E8F0FE;\n",
              "      border: none;\n",
              "      border-radius: 50%;\n",
              "      cursor: pointer;\n",
              "      display: none;\n",
              "      fill: #1967D2;\n",
              "      height: 32px;\n",
              "      padding: 0 0 0 0;\n",
              "      width: 32px;\n",
              "    }\n",
              "\n",
              "    .colab-df-convert:hover {\n",
              "      background-color: #E2EBFA;\n",
              "      box-shadow: 0px 1px 2px rgba(60, 64, 67, 0.3), 0px 1px 3px 1px rgba(60, 64, 67, 0.15);\n",
              "      fill: #174EA6;\n",
              "    }\n",
              "\n",
              "    [theme=dark] .colab-df-convert {\n",
              "      background-color: #3B4455;\n",
              "      fill: #D2E3FC;\n",
              "    }\n",
              "\n",
              "    [theme=dark] .colab-df-convert:hover {\n",
              "      background-color: #434B5C;\n",
              "      box-shadow: 0px 1px 3px 1px rgba(0, 0, 0, 0.15);\n",
              "      filter: drop-shadow(0px 1px 2px rgba(0, 0, 0, 0.3));\n",
              "      fill: #FFFFFF;\n",
              "    }\n",
              "  </style>\n",
              "\n",
              "      <script>\n",
              "        const buttonEl =\n",
              "          document.querySelector('#df-c102b44c-bf66-4613-b0af-1c0f7c95977e button.colab-df-convert');\n",
              "        buttonEl.style.display =\n",
              "          google.colab.kernel.accessAllowed ? 'block' : 'none';\n",
              "\n",
              "        async function convertToInteractive(key) {\n",
              "          const element = document.querySelector('#df-c102b44c-bf66-4613-b0af-1c0f7c95977e');\n",
              "          const dataTable =\n",
              "            await google.colab.kernel.invokeFunction('convertToInteractive',\n",
              "                                                     [key], {});\n",
              "          if (!dataTable) return;\n",
              "\n",
              "          const docLinkHtml = 'Like what you see? Visit the ' +\n",
              "            '<a target=\"_blank\" href=https://colab.research.google.com/notebooks/data_table.ipynb>data table notebook</a>'\n",
              "            + ' to learn more about interactive tables.';\n",
              "          element.innerHTML = '';\n",
              "          dataTable['output_type'] = 'display_data';\n",
              "          await google.colab.output.renderOutput(dataTable, element);\n",
              "          const docLink = document.createElement('div');\n",
              "          docLink.innerHTML = docLinkHtml;\n",
              "          element.appendChild(docLink);\n",
              "        }\n",
              "      </script>\n",
              "    </div>\n",
              "  </div>\n",
              "  "
            ],
            "text/plain": [
              "                               count   unique  \\\n",
              "Accident_Index               2172689  1486290   \n",
              "Towing_and_Articulation      2172689        6   \n",
              "Vehicle_Leaving_Carriageway  2172689        9   \n",
              "Vehicle_Manoeuvre            2172689       18   \n",
              "Vehicle_Type                 2172689       23   \n",
              "X1st_Point_of_Impact         2172689        5   \n",
              "Age_Band_of_Driver           2172689       11   \n",
              "Driver_Home_Area_Type        2172689        3   \n",
              "Hit_Object_in_Carriageway    2172689       11   \n",
              "Hit_Object_off_Carriageway   2172689       11   \n",
              "Journey_Purpose_of_Driver    2172689        6   \n",
              "Junction_Location            2172689        9   \n",
              "make                         2172689      535   \n",
              "model                        2172689    35705   \n",
              "Propulsion_Code              2172689       12   \n",
              "Sex_of_Driver                2172689        2   \n",
              "Skidding_and_Overturning     2172689        5   \n",
              "Was_Vehicle_Left_Hand_Drive  2172689        2   \n",
              "\n",
              "                                                                top     freq  \n",
              "Accident_Index                                        2013460234852       53  \n",
              "Towing_and_Articulation                         No tow/articulation  2133102  \n",
              "Vehicle_Leaving_Carriageway               Did not leave carriageway  1919714  \n",
              "Vehicle_Manoeuvre                                 Going ahead other   992974  \n",
              "Vehicle_Type                                                    Car  1526770  \n",
              "X1st_Point_of_Impact                                          Front  1059530  \n",
              "Age_Band_of_Driver                                          26 - 35   619364  \n",
              "Driver_Home_Area_Type                                    Urban area  1766718  \n",
              "Hit_Object_in_Carriageway                                      Kerb  2119031  \n",
              "Hit_Object_off_Carriageway                   Other permanent object  2042437  \n",
              "Journey_Purpose_of_Driver                 Other/Not known (2005-10)  1519761  \n",
              "Junction_Location            Not at or within 20 metres of junction   927172  \n",
              "make                                                       VAUXHALL   348845  \n",
              "model                                                       MISSING   335353  \n",
              "Propulsion_Code                                              Petrol  1385493  \n",
              "Sex_of_Driver                                                  Male  1540586  \n",
              "Skidding_and_Overturning                                    Skidded  2094582  \n",
              "Was_Vehicle_Left_Hand_Drive                                      No  2168811  "
            ]
          },
          "execution_count": 26,
          "metadata": {},
          "output_type": "execute_result"
        }
      ],
      "source": [
        "im_df.describe(exclude=['number','boolean']).T"
      ]
    },
    {
      "cell_type": "code",
      "execution_count": null,
      "metadata": {
        "colab": {
          "base_uri": "https://localhost:8080/",
          "height": 639
        },
        "id": "MFLjgE7wlod7",
        "outputId": "8517500c-4e0c-45ac-fdf2-117df2928752"
      },
      "outputs": [
        {
          "data": {
            "text/plain": [
              "Was_Vehicle_Left_Hand_Drive            0.998215\n",
              "Towing_and_Articulation                0.981780\n",
              "Vehicle_Location.Restricted_Lane       0.981669\n",
              "Hit_Object_in_Carriageway              0.975303\n",
              "Sex_of_Driver_missing                  0.965416\n",
              "Skidding_and_Overturning               0.964051\n",
              "Hit_Object_in_Carriageway_missing      0.959504\n",
              "make_missing                           0.949609\n",
              "Junction_Location_missing              0.944624\n",
              "Was_Vehicle_Left_Hand_Drive_missing    0.942147\n",
              "dtype: float64"
            ]
          },
          "metadata": {},
          "output_type": "display_data"
        },
        {
          "data": {
            "image/png": "[encoded data removed]",
            "text/plain": [
              "<Figure size 1080x288 with 1 Axes>"
            ]
          },
          "metadata": {
            "needs_background": "light"
          },
          "output_type": "display_data"
        }
      ],
      "source": [
        "# get most frequent columns \n",
        "most_frequent_entry = im_df.mode()\n",
        "\n",
        "# Checks for each entry if it contains the most frequent entry\n",
        "df_freq = im_df.eq(most_frequent_entry.values, axis=1)\n",
        "\n",
        "# Computes the mean of the 'is_most_frequent' occurrence\n",
        "df_freq = df_freq.mean().sort_values(ascending=False)\n",
        "\n",
        "\n",
        "display(df_freq.head(10))\n",
        "\n",
        "df_freq.plot.bar(figsize=(15, 4));"
      ]
    },
    {
      "cell_type": "markdown",
      "metadata": {
        "id": "gF8KAhgols8h"
      },
      "source": [
        "We can see the top 10 features which have almost repeating value in the whole dataset.\n",
        "For feature engineering, the following columns can be considered to be removed:\n",
        "- Was_Vehicle_Left_Hand_Drive  => Right Handed         \n",
        "- Towing_and_Articulation => No tow/articulation                   \n",
        "- Hit_Object_in_Carriageway  => kerb           \n",
        "- Skidding_and_Overturning  => Skidding            \n"
      ]
    },
    {
      "cell_type": "markdown",
      "metadata": {
        "id": "h-vhgEKOc2Vf"
      },
      "source": [
        "# 2. Quality Investigation"
      ]
    },
    {
      "cell_type": "markdown",
      "metadata": {
        "id": "LFiLQiaved1_"
      },
      "source": [
        "2.1 Looking for duplicate entries in the dataset"
      ]
    },
    {
      "cell_type": "code",
      "execution_count": null,
      "metadata": {
        "colab": {
          "base_uri": "https://localhost:8080/"
        },
        "id": "E1bRmM1ve9-i",
        "outputId": "1bb54887-c873-4950-dfcd-8858b506a448"
      },
      "outputs": [
        {
          "name": "stdout",
          "output_type": "stream",
          "text": [
            "Total duplicates:  0\n"
          ]
        }
      ],
      "source": [
        "# Duplicates\n",
        "print(\"Total duplicates: \", im_df.duplicated().sum())"
      ]
    },
    {
      "cell_type": "markdown",
      "metadata": {
        "id": "9wkv9hmPed-1"
      },
      "source": [
        "2.2 Looking for null/missing entries in the dataset"
      ]
    },
    {
      "cell_type": "code",
      "execution_count": null,
      "metadata": {
        "colab": {
          "base_uri": "https://localhost:8080/"
        },
        "id": "lduBNMPJfM2P",
        "outputId": "d6e2dd16-1b0e-4455-dd78-597007b1863c"
      },
      "outputs": [
        {
          "name": "stdout",
          "output_type": "stream",
          "text": [
            "% Missing Values: \n",
            "\n",
            " Accident_Index                         0.0\n",
            "Hit_Object_in_Carriageway              0.0\n",
            "Skidding_and_Overturning_missing       0.0\n",
            "Was_Vehicle_Left_Hand_Drive_missing    0.0\n",
            "Age_of_Vehicle                         0.0\n",
            "Engine_Capacity_.CC.                   0.0\n",
            "Age_Band_of_Driver                     0.0\n",
            "Driver_Home_Area_Type                  0.0\n",
            "Driver_IMD_Decile                      0.0\n",
            "Hit_Object_off_Carriageway             0.0\n",
            "Propulsion_Code_missing                0.0\n",
            "Journey_Purpose_of_Driver              0.0\n",
            "Junction_Location                      0.0\n",
            "make                                   0.0\n",
            "model                                  0.0\n",
            "Propulsion_Code                        0.0\n",
            "Sex_of_Driver                          0.0\n",
            "Skidding_and_Overturning               0.0\n",
            "Sex_of_Driver_missing                  0.0\n",
            "model_missing                          0.0\n",
            "Towing_and_Articulation                0.0\n",
            "Age_Band_of_Driver_missing             0.0\n",
            "Vehicle_Leaving_Carriageway            0.0\n",
            "Vehicle_Location.Restricted_Lane       0.0\n",
            "Vehicle_Manoeuvre                      0.0\n",
            "Vehicle_Reference                      0.0\n",
            "Vehicle_Type                           0.0\n",
            "X1st_Point_of_Impact                   0.0\n",
            "Year                                   0.0\n",
            "Age_of_Vehicle_missing                 0.0\n",
            "make_missing                           0.0\n",
            "Driver_Home_Area_Type_missing          0.0\n",
            "Driver_IMD_Decile_missing              0.0\n",
            "Engine_Capacity_.CC._missing           0.0\n",
            "Hit_Object_in_Carriageway_missing      0.0\n",
            "Hit_Object_off_Carriageway_missing     0.0\n",
            "Journey_Purpose_of_Driver_missing      0.0\n",
            "Junction_Location_missing              0.0\n",
            "Was_Vehicle_Left_Hand_Drive            0.0\n",
            "dtype: float64\n"
          ]
        }
      ],
      "source": [
        "# Missing values\n",
        "print(\"% Missing Values: \\n\\n\", np.round(100*im_df.isnull().mean().sort_values(ascending=False),2))"
      ]
    },
    {
      "cell_type": "markdown",
      "metadata": {
        "id": "ljrE8Hg4fT1I"
      },
      "source": [
        "This was expected as we are using imputed dataset."
      ]
    },
    {
      "cell_type": "code",
      "execution_count": null,
      "metadata": {
        "colab": {
          "base_uri": "https://localhost:8080/",
          "height": 668
        },
        "id": "8usqahgyfuVm",
        "outputId": "497f80cb-a810-41d9-8302-86827795c8e9"
      },
      "outputs": [
        {
          "data": {
            "image/png": "[encoded data removed]",
            "text/plain": [
              "<Figure size 1800x720 with 2 Axes>"
            ]
          },
          "metadata": {
            "needs_background": "light"
          },
          "output_type": "display_data"
        }
      ],
      "source": [
        "import missingno as msno\n",
        "\n",
        "msno.matrix(im_df)\n",
        "plt.show()"
      ]
    },
    {
      "cell_type": "markdown",
      "metadata": {
        "id": "pDZXrdGGeeGt"
      },
      "source": [
        "### 3. Content Investigation"
      ]
    },
    {
      "cell_type": "markdown",
      "metadata": {
        "id": "CEK4pSkmjs5J"
      },
      "source": [
        "#### 3.1 Distribution of feature"
      ]
    },
    {
      "cell_type": "code",
      "execution_count": null,
      "metadata": {
        "colab": {
          "base_uri": "https://localhost:8080/",
          "height": 1000
        },
        "id": "yaW6wah9kQh9",
        "outputId": "8207fb0d-fe29-47be-dace-88f9d9c6f181"
      },
      "outputs": [
        {
          "data": {
            "image/png": "[encoded data removed]",
            "text/plain": [
              "<Figure size 1800x1080 with 10 Axes>"
            ]
          },
          "metadata": {
            "needs_background": "light"
          },
          "output_type": "display_data"
        }
      ],
      "source": [
        "im_df.hist(bins=25, figsize=(25, 15), layout=(-1, 5), edgecolor=\"black\")\n",
        "plt.tight_layout()"
      ]
    },
    {
      "cell_type": "markdown",
      "metadata": {
        "id": "fQNkGyrijtX1"
      },
      "source": [
        "We can consider to remove some features such as:\n",
        "- Vehicle location restricted lane => 0\n",
        "- Vehicle reference(doesn't hold much information as refering to data dictionary)\n",
        "\n",
        "We can see that number vehicles involved in accidents is continuously rising each year.\n"
      ]
    },
    {
      "cell_type": "markdown",
      "metadata": {
        "id": "F7bpI4t1jtaj"
      },
      "source": [
        "3.2 Feature Relationship"
      ]
    },
    {
      "cell_type": "code",
      "execution_count": null,
      "metadata": {
        "id": "UWokBVJUxtIo"
      },
      "outputs": [],
      "source": [
        "dropcols = [\n",
        "    \"Vehicle_Location.Restricted_Lane\",\n",
        "    \"Vehicle_Reference\",\n",
        "    \"Driver_IMD_Decile\",\n",
        "    \"Was_Vehicle_Left_Hand_Drive\",\n",
        "    \"Towing_and_Articulation\",\n",
        "    \"Hit_Object_in_Carriageway\",\n",
        "    \"Skidding_and_Overturning\",\n",
        "]\n",
        "im_df.drop(columns=dropcols, inplace=True)\n"
      ]
    },
    {
      "cell_type": "code",
      "execution_count": null,
      "metadata": {
        "colab": {
          "base_uri": "https://localhost:8080/",
          "height": 678
        },
        "id": "HJ7wEfhzy8kT",
        "outputId": "3280415e-034f-4900-98f9-d1999c9aa319"
      },
      "outputs": [
        {
          "data": {
            "text/html": [
              "\n",
              "  <div id=\"df-343f5085-ee99-4f27-8b1f-5a0aee8f483e\">\n",
              "    <div class=\"colab-df-container\">\n",
              "      <div>\n",
              "<style scoped>\n",
              "    .dataframe tbody tr th:only-of-type {\n",
              "        vertical-align: middle;\n",
              "    }\n",
              "\n",
              "    .dataframe tbody tr th {\n",
              "        vertical-align: top;\n",
              "    }\n",
              "\n",
              "    .dataframe thead th {\n",
              "        text-align: right;\n",
              "    }\n",
              "</style>\n",
              "<table border=\"1\" class=\"dataframe\">\n",
              "  <thead>\n",
              "    <tr style=\"text-align: right;\">\n",
              "      <th></th>\n",
              "      <th>Year</th>\n",
              "      <th>Age_Band_of_Driver_missing</th>\n",
              "      <th>Age_of_Vehicle_missing</th>\n",
              "      <th>Driver_Home_Area_Type_missing</th>\n",
              "      <th>Driver_IMD_Decile_missing</th>\n",
              "      <th>Engine_Capacity_.CC._missing</th>\n",
              "      <th>Hit_Object_in_Carriageway_missing</th>\n",
              "      <th>Hit_Object_off_Carriageway_missing</th>\n",
              "      <th>Journey_Purpose_of_Driver_missing</th>\n",
              "      <th>Junction_Location_missing</th>\n",
              "      <th>make_missing</th>\n",
              "      <th>model_missing</th>\n",
              "      <th>Propulsion_Code_missing</th>\n",
              "      <th>Sex_of_Driver_missing</th>\n",
              "      <th>Skidding_and_Overturning_missing</th>\n",
              "      <th>Was_Vehicle_Left_Hand_Drive_missing</th>\n",
              "      <th>Age_of_Vehicle</th>\n",
              "      <th>Engine_Capacity_.CC.</th>\n",
              "    </tr>\n",
              "  </thead>\n",
              "  <tbody>\n",
              "    <tr>\n",
              "      <th>Year</th>\n",
              "      <td>1.000000</td>\n",
              "      <td>0.048940</td>\n",
              "      <td>9.469566e-02</td>\n",
              "      <td>-0.028316</td>\n",
              "      <td>0.162548</td>\n",
              "      <td>1.179719e-01</td>\n",
              "      <td>-0.004395</td>\n",
              "      <td>0.019819</td>\n",
              "      <td>0.368393</td>\n",
              "      <td>-0.451354</td>\n",
              "      <td>0.280446</td>\n",
              "      <td>0.004033</td>\n",
              "      <td>1.462416e-01</td>\n",
              "      <td>0.070878</td>\n",
              "      <td>0.056628</td>\n",
              "      <td>-0.451809</td>\n",
              "      <td>1.356422e-01</td>\n",
              "      <td>-6.672963e-02</td>\n",
              "    </tr>\n",
              "    <tr>\n",
              "      <th>Age_Band_of_Driver_missing</th>\n",
              "      <td>0.048940</td>\n",
              "      <td>1.000000</td>\n",
              "      <td>8.714890e-02</td>\n",
              "      <td>0.454882</td>\n",
              "      <td>0.256844</td>\n",
              "      <td>1.076349e-01</td>\n",
              "      <td>0.011057</td>\n",
              "      <td>0.067209</td>\n",
              "      <td>0.084651</td>\n",
              "      <td>-0.009354</td>\n",
              "      <td>0.157108</td>\n",
              "      <td>0.075841</td>\n",
              "      <td>1.143283e-01</td>\n",
              "      <td>0.587183</td>\n",
              "      <td>0.080017</td>\n",
              "      <td>-0.008320</td>\n",
              "      <td>1.653340e-02</td>\n",
              "      <td>1.055327e-02</td>\n",
              "    </tr>\n",
              "    <tr>\n",
              "      <th>Age_of_Vehicle_missing</th>\n",
              "      <td>0.094696</td>\n",
              "      <td>0.087149</td>\n",
              "      <td>1.000000e+00</td>\n",
              "      <td>0.106670</td>\n",
              "      <td>0.123769</td>\n",
              "      <td>7.664257e-01</td>\n",
              "      <td>0.011599</td>\n",
              "      <td>0.037302</td>\n",
              "      <td>0.038240</td>\n",
              "      <td>0.004728</td>\n",
              "      <td>0.516284</td>\n",
              "      <td>0.307220</td>\n",
              "      <td>8.033707e-01</td>\n",
              "      <td>0.104464</td>\n",
              "      <td>0.021063</td>\n",
              "      <td>0.004884</td>\n",
              "      <td>-1.979268e-15</td>\n",
              "      <td>-6.780976e-03</td>\n",
              "    </tr>\n",
              "    <tr>\n",
              "      <th>Driver_Home_Area_Type_missing</th>\n",
              "      <td>-0.028316</td>\n",
              "      <td>0.454882</td>\n",
              "      <td>1.066702e-01</td>\n",
              "      <td>1.000000</td>\n",
              "      <td>0.596003</td>\n",
              "      <td>1.218732e-01</td>\n",
              "      <td>0.003634</td>\n",
              "      <td>0.036658</td>\n",
              "      <td>0.062706</td>\n",
              "      <td>0.081684</td>\n",
              "      <td>0.155228</td>\n",
              "      <td>0.107529</td>\n",
              "      <td>1.247533e-01</td>\n",
              "      <td>0.396085</td>\n",
              "      <td>0.042658</td>\n",
              "      <td>0.082451</td>\n",
              "      <td>-3.055622e-03</td>\n",
              "      <td>2.839131e-02</td>\n",
              "    </tr>\n",
              "    <tr>\n",
              "      <th>Driver_IMD_Decile_missing</th>\n",
              "      <td>0.162548</td>\n",
              "      <td>0.256844</td>\n",
              "      <td>1.237690e-01</td>\n",
              "      <td>0.596003</td>\n",
              "      <td>1.000000</td>\n",
              "      <td>1.423367e-01</td>\n",
              "      <td>-0.004615</td>\n",
              "      <td>0.007304</td>\n",
              "      <td>0.129360</td>\n",
              "      <td>0.020463</td>\n",
              "      <td>0.218514</td>\n",
              "      <td>0.123224</td>\n",
              "      <td>1.483125e-01</td>\n",
              "      <td>0.236611</td>\n",
              "      <td>0.020469</td>\n",
              "      <td>0.021419</td>\n",
              "      <td>5.661134e-03</td>\n",
              "      <td>1.601583e-02</td>\n",
              "    </tr>\n",
              "    <tr>\n",
              "      <th>Engine_Capacity_.CC._missing</th>\n",
              "      <td>0.117972</td>\n",
              "      <td>0.107635</td>\n",
              "      <td>7.664257e-01</td>\n",
              "      <td>0.121873</td>\n",
              "      <td>0.142337</td>\n",
              "      <td>1.000000e+00</td>\n",
              "      <td>0.013444</td>\n",
              "      <td>0.041930</td>\n",
              "      <td>0.048242</td>\n",
              "      <td>0.007674</td>\n",
              "      <td>0.611884</td>\n",
              "      <td>0.437793</td>\n",
              "      <td>9.564573e-01</td>\n",
              "      <td>0.126995</td>\n",
              "      <td>0.024240</td>\n",
              "      <td>0.008433</td>\n",
              "      <td>1.848748e-02</td>\n",
              "      <td>3.391458e-15</td>\n",
              "    </tr>\n",
              "    <tr>\n",
              "      <th>Hit_Object_in_Carriageway_missing</th>\n",
              "      <td>-0.004395</td>\n",
              "      <td>0.011057</td>\n",
              "      <td>1.159902e-02</td>\n",
              "      <td>0.003634</td>\n",
              "      <td>-0.004615</td>\n",
              "      <td>1.344421e-02</td>\n",
              "      <td>1.000000</td>\n",
              "      <td>0.196149</td>\n",
              "      <td>-0.011780</td>\n",
              "      <td>-0.000477</td>\n",
              "      <td>0.002441</td>\n",
              "      <td>0.009412</td>\n",
              "      <td>1.089672e-02</td>\n",
              "      <td>0.000344</td>\n",
              "      <td>0.143543</td>\n",
              "      <td>-0.000098</td>\n",
              "      <td>-2.465476e-02</td>\n",
              "      <td>2.119086e-02</td>\n",
              "    </tr>\n",
              "    <tr>\n",
              "      <th>Hit_Object_off_Carriageway_missing</th>\n",
              "      <td>0.019819</td>\n",
              "      <td>0.067209</td>\n",
              "      <td>3.730216e-02</td>\n",
              "      <td>0.036658</td>\n",
              "      <td>0.007304</td>\n",
              "      <td>4.192986e-02</td>\n",
              "      <td>0.196149</td>\n",
              "      <td>1.000000</td>\n",
              "      <td>0.004030</td>\n",
              "      <td>-0.002146</td>\n",
              "      <td>0.033052</td>\n",
              "      <td>0.043284</td>\n",
              "      <td>3.817901e-02</td>\n",
              "      <td>0.040919</td>\n",
              "      <td>0.347352</td>\n",
              "      <td>-0.001288</td>\n",
              "      <td>-3.740425e-02</td>\n",
              "      <td>2.708233e-02</td>\n",
              "    </tr>\n",
              "    <tr>\n",
              "      <th>Journey_Purpose_of_Driver_missing</th>\n",
              "      <td>0.368393</td>\n",
              "      <td>0.084651</td>\n",
              "      <td>3.824036e-02</td>\n",
              "      <td>0.062706</td>\n",
              "      <td>0.129360</td>\n",
              "      <td>4.824237e-02</td>\n",
              "      <td>-0.011780</td>\n",
              "      <td>0.004030</td>\n",
              "      <td>1.000000</td>\n",
              "      <td>0.270582</td>\n",
              "      <td>0.147016</td>\n",
              "      <td>-0.028171</td>\n",
              "      <td>6.355105e-02</td>\n",
              "      <td>0.093376</td>\n",
              "      <td>0.036960</td>\n",
              "      <td>0.275921</td>\n",
              "      <td>1.227918e-01</td>\n",
              "      <td>-1.327288e-01</td>\n",
              "    </tr>\n",
              "    <tr>\n",
              "      <th>Junction_Location_missing</th>\n",
              "      <td>-0.451354</td>\n",
              "      <td>-0.009354</td>\n",
              "      <td>4.728083e-03</td>\n",
              "      <td>0.081684</td>\n",
              "      <td>0.020463</td>\n",
              "      <td>7.674139e-03</td>\n",
              "      <td>-0.000477</td>\n",
              "      <td>-0.002146</td>\n",
              "      <td>0.270582</td>\n",
              "      <td>1.000000</td>\n",
              "      <td>-0.055636</td>\n",
              "      <td>0.047709</td>\n",
              "      <td>-6.225191e-03</td>\n",
              "      <td>-0.011222</td>\n",
              "      <td>-0.026183</td>\n",
              "      <td>0.974410</td>\n",
              "      <td>-2.781664e-02</td>\n",
              "      <td>2.788939e-02</td>\n",
              "    </tr>\n",
              "    <tr>\n",
              "      <th>make_missing</th>\n",
              "      <td>0.280446</td>\n",
              "      <td>0.157108</td>\n",
              "      <td>5.162841e-01</td>\n",
              "      <td>0.155228</td>\n",
              "      <td>0.218514</td>\n",
              "      <td>6.118837e-01</td>\n",
              "      <td>0.002441</td>\n",
              "      <td>0.033052</td>\n",
              "      <td>0.147016</td>\n",
              "      <td>-0.055636</td>\n",
              "      <td>1.000000</td>\n",
              "      <td>0.550714</td>\n",
              "      <td>6.395733e-01</td>\n",
              "      <td>0.194930</td>\n",
              "      <td>0.031920</td>\n",
              "      <td>-0.053496</td>\n",
              "      <td>1.485262e-03</td>\n",
              "      <td>2.725071e-04</td>\n",
              "    </tr>\n",
              "    <tr>\n",
              "      <th>model_missing</th>\n",
              "      <td>0.004033</td>\n",
              "      <td>0.075841</td>\n",
              "      <td>3.072201e-01</td>\n",
              "      <td>0.107529</td>\n",
              "      <td>0.123224</td>\n",
              "      <td>4.377928e-01</td>\n",
              "      <td>0.009412</td>\n",
              "      <td>0.043284</td>\n",
              "      <td>-0.028171</td>\n",
              "      <td>0.047709</td>\n",
              "      <td>0.550714</td>\n",
              "      <td>1.000000</td>\n",
              "      <td>3.909004e-01</td>\n",
              "      <td>0.096684</td>\n",
              "      <td>0.010436</td>\n",
              "      <td>0.048469</td>\n",
              "      <td>6.082898e-02</td>\n",
              "      <td>4.446881e-01</td>\n",
              "    </tr>\n",
              "    <tr>\n",
              "      <th>Propulsion_Code_missing</th>\n",
              "      <td>0.146242</td>\n",
              "      <td>0.114328</td>\n",
              "      <td>8.033707e-01</td>\n",
              "      <td>0.124753</td>\n",
              "      <td>0.148313</td>\n",
              "      <td>9.564573e-01</td>\n",
              "      <td>0.010897</td>\n",
              "      <td>0.038179</td>\n",
              "      <td>0.063551</td>\n",
              "      <td>-0.006225</td>\n",
              "      <td>0.639573</td>\n",
              "      <td>0.390900</td>\n",
              "      <td>1.000000e+00</td>\n",
              "      <td>0.134428</td>\n",
              "      <td>0.020681</td>\n",
              "      <td>-0.005267</td>\n",
              "      <td>4.985764e-06</td>\n",
              "      <td>7.930731e-07</td>\n",
              "    </tr>\n",
              "    <tr>\n",
              "      <th>Sex_of_Driver_missing</th>\n",
              "      <td>0.070878</td>\n",
              "      <td>0.587183</td>\n",
              "      <td>1.044640e-01</td>\n",
              "      <td>0.396085</td>\n",
              "      <td>0.236611</td>\n",
              "      <td>1.269950e-01</td>\n",
              "      <td>0.000344</td>\n",
              "      <td>0.040919</td>\n",
              "      <td>0.093376</td>\n",
              "      <td>-0.011222</td>\n",
              "      <td>0.194930</td>\n",
              "      <td>0.096684</td>\n",
              "      <td>1.344279e-01</td>\n",
              "      <td>1.000000</td>\n",
              "      <td>0.054708</td>\n",
              "      <td>-0.009474</td>\n",
              "      <td>1.963064e-02</td>\n",
              "      <td>3.249792e-03</td>\n",
              "    </tr>\n",
              "    <tr>\n",
              "      <th>Skidding_and_Overturning_missing</th>\n",
              "      <td>0.056628</td>\n",
              "      <td>0.080017</td>\n",
              "      <td>2.106254e-02</td>\n",
              "      <td>0.042658</td>\n",
              "      <td>0.020469</td>\n",
              "      <td>2.424003e-02</td>\n",
              "      <td>0.143543</td>\n",
              "      <td>0.347352</td>\n",
              "      <td>0.036960</td>\n",
              "      <td>-0.026183</td>\n",
              "      <td>0.031920</td>\n",
              "      <td>0.010436</td>\n",
              "      <td>2.068052e-02</td>\n",
              "      <td>0.054708</td>\n",
              "      <td>1.000000</td>\n",
              "      <td>-0.025519</td>\n",
              "      <td>-5.709923e-02</td>\n",
              "      <td>3.867910e-02</td>\n",
              "    </tr>\n",
              "    <tr>\n",
              "      <th>Was_Vehicle_Left_Hand_Drive_missing</th>\n",
              "      <td>-0.451809</td>\n",
              "      <td>-0.008320</td>\n",
              "      <td>4.884050e-03</td>\n",
              "      <td>0.082451</td>\n",
              "      <td>0.021419</td>\n",
              "      <td>8.433070e-03</td>\n",
              "      <td>-0.000098</td>\n",
              "      <td>-0.001288</td>\n",
              "      <td>0.275921</td>\n",
              "      <td>0.974410</td>\n",
              "      <td>-0.053496</td>\n",
              "      <td>0.048469</td>\n",
              "      <td>-5.267247e-03</td>\n",
              "      <td>-0.009474</td>\n",
              "      <td>-0.025519</td>\n",
              "      <td>1.000000</td>\n",
              "      <td>-2.796072e-02</td>\n",
              "      <td>2.738793e-02</td>\n",
              "    </tr>\n",
              "    <tr>\n",
              "      <th>Age_of_Vehicle</th>\n",
              "      <td>0.135642</td>\n",
              "      <td>0.016533</td>\n",
              "      <td>-1.979268e-15</td>\n",
              "      <td>-0.003056</td>\n",
              "      <td>0.005661</td>\n",
              "      <td>1.848748e-02</td>\n",
              "      <td>-0.024655</td>\n",
              "      <td>-0.037404</td>\n",
              "      <td>0.122792</td>\n",
              "      <td>-0.027817</td>\n",
              "      <td>0.001485</td>\n",
              "      <td>0.060829</td>\n",
              "      <td>4.985764e-06</td>\n",
              "      <td>0.019631</td>\n",
              "      <td>-0.057099</td>\n",
              "      <td>-0.027961</td>\n",
              "      <td>1.000000e+00</td>\n",
              "      <td>-7.654205e-02</td>\n",
              "    </tr>\n",
              "    <tr>\n",
              "      <th>Engine_Capacity_.CC.</th>\n",
              "      <td>-0.066730</td>\n",
              "      <td>0.010553</td>\n",
              "      <td>-6.780976e-03</td>\n",
              "      <td>0.028391</td>\n",
              "      <td>0.016016</td>\n",
              "      <td>3.391458e-15</td>\n",
              "      <td>0.021191</td>\n",
              "      <td>0.027082</td>\n",
              "      <td>-0.132729</td>\n",
              "      <td>0.027889</td>\n",
              "      <td>0.000273</td>\n",
              "      <td>0.444688</td>\n",
              "      <td>7.930731e-07</td>\n",
              "      <td>0.003250</td>\n",
              "      <td>0.038679</td>\n",
              "      <td>0.027388</td>\n",
              "      <td>-7.654205e-02</td>\n",
              "      <td>1.000000e+00</td>\n",
              "    </tr>\n",
              "  </tbody>\n",
              "</table>\n",
              "</div>\n",
              "      <button class=\"colab-df-convert\" onclick=\"convertToInteractive('df-343f5085-ee99-4f27-8b1f-5a0aee8f483e')\"\n",
              "              title=\"Convert this dataframe to an interactive table.\"\n",
              "              style=\"display:none;\">\n",
              "        \n",
              "  <svg xmlns=\"http://www.w3.org/2000/svg\" height=\"24px\"viewBox=\"0 0 24 24\"\n",
              "       width=\"24px\">\n",
              "    <path d=\"M0 0h24v24H0V0z\" fill=\"none\"/>\n",
              "    <path d=\"M18.56 5.44l.94 2.06.94-2.06 2.06-.94-2.06-.94-.94-2.06-.94 2.06-2.06.94zm-11 1L8.5 8.5l.94-2.06 2.06-.94-2.06-.94L8.5 2.5l-.94 2.06-2.06.94zm10 10l.94 2.06.94-2.06 2.06-.94-2.06-.94-.94-2.06-.94 2.06-2.06.94z\"/><path d=\"M17.41 7.96l-1.37-1.37c-.4-.4-.92-.59-1.43-.59-.52 0-1.04.2-1.43.59L10.3 9.45l-7.72 7.72c-.78.78-.78 2.05 0 2.83L4 21.41c.39.39.9.59 1.41.59.51 0 1.02-.2 1.41-.59l7.78-7.78 2.81-2.81c.8-.78.8-2.07 0-2.86zM5.41 20L4 18.59l7.72-7.72 1.47 1.35L5.41 20z\"/>\n",
              "  </svg>\n",
              "      </button>\n",
              "      \n",
              "  <style>\n",
              "    .colab-df-container {\n",
              "      display:flex;\n",
              "      flex-wrap:wrap;\n",
              "      gap: 12px;\n",
              "    }\n",
              "\n",
              "    .colab-df-convert {\n",
              "      background-color: #E8F0FE;\n",
              "      border: none;\n",
              "      border-radius: 50%;\n",
              "      cursor: pointer;\n",
              "      display: none;\n",
              "      fill: #1967D2;\n",
              "      height: 32px;\n",
              "      padding: 0 0 0 0;\n",
              "      width: 32px;\n",
              "    }\n",
              "\n",
              "    .colab-df-convert:hover {\n",
              "      background-color: #E2EBFA;\n",
              "      box-shadow: 0px 1px 2px rgba(60, 64, 67, 0.3), 0px 1px 3px 1px rgba(60, 64, 67, 0.15);\n",
              "      fill: #174EA6;\n",
              "    }\n",
              "\n",
              "    [theme=dark] .colab-df-convert {\n",
              "      background-color: #3B4455;\n",
              "      fill: #D2E3FC;\n",
              "    }\n",
              "\n",
              "    [theme=dark] .colab-df-convert:hover {\n",
              "      background-color: #434B5C;\n",
              "      box-shadow: 0px 1px 3px 1px rgba(0, 0, 0, 0.15);\n",
              "      filter: drop-shadow(0px 1px 2px rgba(0, 0, 0, 0.3));\n",
              "      fill: #FFFFFF;\n",
              "    }\n",
              "  </style>\n",
              "\n",
              "      <script>\n",
              "        const buttonEl =\n",
              "          document.querySelector('#df-343f5085-ee99-4f27-8b1f-5a0aee8f483e button.colab-df-convert');\n",
              "        buttonEl.style.display =\n",
              "          google.colab.kernel.accessAllowed ? 'block' : 'none';\n",
              "\n",
              "        async function convertToInteractive(key) {\n",
              "          const element = document.querySelector('#df-343f5085-ee99-4f27-8b1f-5a0aee8f483e');\n",
              "          const dataTable =\n",
              "            await google.colab.kernel.invokeFunction('convertToInteractive',\n",
              "                                                     [key], {});\n",
              "          if (!dataTable) return;\n",
              "\n",
              "          const docLinkHtml = 'Like what you see? Visit the ' +\n",
              "            '<a target=\"_blank\" href=https://colab.research.google.com/notebooks/data_table.ipynb>data table notebook</a>'\n",
              "            + ' to learn more about interactive tables.';\n",
              "          element.innerHTML = '';\n",
              "          dataTable['output_type'] = 'display_data';\n",
              "          await google.colab.output.renderOutput(dataTable, element);\n",
              "          const docLink = document.createElement('div');\n",
              "          docLink.innerHTML = docLinkHtml;\n",
              "          element.appendChild(docLink);\n",
              "        }\n",
              "      </script>\n",
              "    </div>\n",
              "  </div>\n",
              "  "
            ],
            "text/plain": [
              "                                         Year  Age_Band_of_Driver_missing  \\\n",
              "Year                                 1.000000                    0.048940   \n",
              "Age_Band_of_Driver_missing           0.048940                    1.000000   \n",
              "Age_of_Vehicle_missing               0.094696                    0.087149   \n",
              "Driver_Home_Area_Type_missing       -0.028316                    0.454882   \n",
              "Driver_IMD_Decile_missing            0.162548                    0.256844   \n",
              "Engine_Capacity_.CC._missing         0.117972                    0.107635   \n",
              "Hit_Object_in_Carriageway_missing   -0.004395                    0.011057   \n",
              "Hit_Object_off_Carriageway_missing   0.019819                    0.067209   \n",
              "Journey_Purpose_of_Driver_missing    0.368393                    0.084651   \n",
              "Junction_Location_missing           -0.451354                   -0.009354   \n",
              "make_missing                         0.280446                    0.157108   \n",
              "model_missing                        0.004033                    0.075841   \n",
              "Propulsion_Code_missing              0.146242                    0.114328   \n",
              "Sex_of_Driver_missing                0.070878                    0.587183   \n",
              "Skidding_and_Overturning_missing     0.056628                    0.080017   \n",
              "Was_Vehicle_Left_Hand_Drive_missing -0.451809                   -0.008320   \n",
              "Age_of_Vehicle                       0.135642                    0.016533   \n",
              "Engine_Capacity_.CC.                -0.066730                    0.010553   \n",
              "\n",
              "                                     Age_of_Vehicle_missing  \\\n",
              "Year                                           9.469566e-02   \n",
              "Age_Band_of_Driver_missing                     8.714890e-02   \n",
              "Age_of_Vehicle_missing                         1.000000e+00   \n",
              "Driver_Home_Area_Type_missing                  1.066702e-01   \n",
              "Driver_IMD_Decile_missing                      1.237690e-01   \n",
              "Engine_Capacity_.CC._missing                   7.664257e-01   \n",
              "Hit_Object_in_Carriageway_missing              1.159902e-02   \n",
              "Hit_Object_off_Carriageway_missing             3.730216e-02   \n",
              "Journey_Purpose_of_Driver_missing              3.824036e-02   \n",
              "Junction_Location_missing                      4.728083e-03   \n",
              "make_missing                                   5.162841e-01   \n",
              "model_missing                                  3.072201e-01   \n",
              "Propulsion_Code_missing                        8.033707e-01   \n",
              "Sex_of_Driver_missing                          1.044640e-01   \n",
              "Skidding_and_Overturning_missing               2.106254e-02   \n",
              "Was_Vehicle_Left_Hand_Drive_missing            4.884050e-03   \n",
              "Age_of_Vehicle                                -1.979268e-15   \n",
              "Engine_Capacity_.CC.                          -6.780976e-03   \n",
              "\n",
              "                                     Driver_Home_Area_Type_missing  \\\n",
              "Year                                                     -0.028316   \n",
              "Age_Band_of_Driver_missing                                0.454882   \n",
              "Age_of_Vehicle_missing                                    0.106670   \n",
              "Driver_Home_Area_Type_missing                             1.000000   \n",
              "Driver_IMD_Decile_missing                                 0.596003   \n",
              "Engine_Capacity_.CC._missing                              0.121873   \n",
              "Hit_Object_in_Carriageway_missing                         0.003634   \n",
              "Hit_Object_off_Carriageway_missing                        0.036658   \n",
              "Journey_Purpose_of_Driver_missing                         0.062706   \n",
              "Junction_Location_missing                                 0.081684   \n",
              "make_missing                                              0.155228   \n",
              "model_missing                                             0.107529   \n",
              "Propulsion_Code_missing                                   0.124753   \n",
              "Sex_of_Driver_missing                                     0.396085   \n",
              "Skidding_and_Overturning_missing                          0.042658   \n",
              "Was_Vehicle_Left_Hand_Drive_missing                       0.082451   \n",
              "Age_of_Vehicle                                           -0.003056   \n",
              "Engine_Capacity_.CC.                                      0.028391   \n",
              "\n",
              "                                     Driver_IMD_Decile_missing  \\\n",
              "Year                                                  0.162548   \n",
              "Age_Band_of_Driver_missing                            0.256844   \n",
              "Age_of_Vehicle_missing                                0.123769   \n",
              "Driver_Home_Area_Type_missing                         0.596003   \n",
              "Driver_IMD_Decile_missing                             1.000000   \n",
              "Engine_Capacity_.CC._missing                          0.142337   \n",
              "Hit_Object_in_Carriageway_missing                    -0.004615   \n",
              "Hit_Object_off_Carriageway_missing                    0.007304   \n",
              "Journey_Purpose_of_Driver_missing                     0.129360   \n",
              "Junction_Location_missing                             0.020463   \n",
              "make_missing                                          0.218514   \n",
              "model_missing                                         0.123224   \n",
              "Propulsion_Code_missing                               0.148313   \n",
              "Sex_of_Driver_missing                                 0.236611   \n",
              "Skidding_and_Overturning_missing                      0.020469   \n",
              "Was_Vehicle_Left_Hand_Drive_missing                   0.021419   \n",
              "Age_of_Vehicle                                        0.005661   \n",
              "Engine_Capacity_.CC.                                  0.016016   \n",
              "\n",
              "                                     Engine_Capacity_.CC._missing  \\\n",
              "Year                                                 1.179719e-01   \n",
              "Age_Band_of_Driver_missing                           1.076349e-01   \n",
              "Age_of_Vehicle_missing                               7.664257e-01   \n",
              "Driver_Home_Area_Type_missing                        1.218732e-01   \n",
              "Driver_IMD_Decile_missing                            1.423367e-01   \n",
              "Engine_Capacity_.CC._missing                         1.000000e+00   \n",
              "Hit_Object_in_Carriageway_missing                    1.344421e-02   \n",
              "Hit_Object_off_Carriageway_missing                   4.192986e-02   \n",
              "Journey_Purpose_of_Driver_missing                    4.824237e-02   \n",
              "Junction_Location_missing                            7.674139e-03   \n",
              "make_missing                                         6.118837e-01   \n",
              "model_missing                                        4.377928e-01   \n",
              "Propulsion_Code_missing                              9.564573e-01   \n",
              "Sex_of_Driver_missing                                1.269950e-01   \n",
              "Skidding_and_Overturning_missing                     2.424003e-02   \n",
              "Was_Vehicle_Left_Hand_Drive_missing                  8.433070e-03   \n",
              "Age_of_Vehicle                                       1.848748e-02   \n",
              "Engine_Capacity_.CC.                                 3.391458e-15   \n",
              "\n",
              "                                     Hit_Object_in_Carriageway_missing  \\\n",
              "Year                                                         -0.004395   \n",
              "Age_Band_of_Driver_missing                                    0.011057   \n",
              "Age_of_Vehicle_missing                                        0.011599   \n",
              "Driver_Home_Area_Type_missing                                 0.003634   \n",
              "Driver_IMD_Decile_missing                                    -0.004615   \n",
              "Engine_Capacity_.CC._missing                                  0.013444   \n",
              "Hit_Object_in_Carriageway_missing                             1.000000   \n",
              "Hit_Object_off_Carriageway_missing                            0.196149   \n",
              "Journey_Purpose_of_Driver_missing                            -0.011780   \n",
              "Junction_Location_missing                                    -0.000477   \n",
              "make_missing                                                  0.002441   \n",
              "model_missing                                                 0.009412   \n",
              "Propulsion_Code_missing                                       0.010897   \n",
              "Sex_of_Driver_missing                                         0.000344   \n",
              "Skidding_and_Overturning_missing                              0.143543   \n",
              "Was_Vehicle_Left_Hand_Drive_missing                          -0.000098   \n",
              "Age_of_Vehicle                                               -0.024655   \n",
              "Engine_Capacity_.CC.                                          0.021191   \n",
              "\n",
              "                                     Hit_Object_off_Carriageway_missing  \\\n",
              "Year                                                           0.019819   \n",
              "Age_Band_of_Driver_missing                                     0.067209   \n",
              "Age_of_Vehicle_missing                                         0.037302   \n",
              "Driver_Home_Area_Type_missing                                  0.036658   \n",
              "Driver_IMD_Decile_missing                                      0.007304   \n",
              "Engine_Capacity_.CC._missing                                   0.041930   \n",
              "Hit_Object_in_Carriageway_missing                              0.196149   \n",
              "Hit_Object_off_Carriageway_missing                             1.000000   \n",
              "Journey_Purpose_of_Driver_missing                              0.004030   \n",
              "Junction_Location_missing                                     -0.002146   \n",
              "make_missing                                                   0.033052   \n",
              "model_missing                                                  0.043284   \n",
              "Propulsion_Code_missing                                        0.038179   \n",
              "Sex_of_Driver_missing                                          0.040919   \n",
              "Skidding_and_Overturning_missing                               0.347352   \n",
              "Was_Vehicle_Left_Hand_Drive_missing                           -0.001288   \n",
              "Age_of_Vehicle                                                -0.037404   \n",
              "Engine_Capacity_.CC.                                           0.027082   \n",
              "\n",
              "                                     Journey_Purpose_of_Driver_missing  \\\n",
              "Year                                                          0.368393   \n",
              "Age_Band_of_Driver_missing                                    0.084651   \n",
              "Age_of_Vehicle_missing                                        0.038240   \n",
              "Driver_Home_Area_Type_missing                                 0.062706   \n",
              "Driver_IMD_Decile_missing                                     0.129360   \n",
              "Engine_Capacity_.CC._missing                                  0.048242   \n",
              "Hit_Object_in_Carriageway_missing                            -0.011780   \n",
              "Hit_Object_off_Carriageway_missing                            0.004030   \n",
              "Journey_Purpose_of_Driver_missing                             1.000000   \n",
              "Junction_Location_missing                                     0.270582   \n",
              "make_missing                                                  0.147016   \n",
              "model_missing                                                -0.028171   \n",
              "Propulsion_Code_missing                                       0.063551   \n",
              "Sex_of_Driver_missing                                         0.093376   \n",
              "Skidding_and_Overturning_missing                              0.036960   \n",
              "Was_Vehicle_Left_Hand_Drive_missing                           0.275921   \n",
              "Age_of_Vehicle                                                0.122792   \n",
              "Engine_Capacity_.CC.                                         -0.132729   \n",
              "\n",
              "                                     Junction_Location_missing  make_missing  \\\n",
              "Year                                                 -0.451354      0.280446   \n",
              "Age_Band_of_Driver_missing                           -0.009354      0.157108   \n",
              "Age_of_Vehicle_missing                                0.004728      0.516284   \n",
              "Driver_Home_Area_Type_missing                         0.081684      0.155228   \n",
              "Driver_IMD_Decile_missing                             0.020463      0.218514   \n",
              "Engine_Capacity_.CC._missing                          0.007674      0.611884   \n",
              "Hit_Object_in_Carriageway_missing                    -0.000477      0.002441   \n",
              "Hit_Object_off_Carriageway_missing                   -0.002146      0.033052   \n",
              "Journey_Purpose_of_Driver_missing                     0.270582      0.147016   \n",
              "Junction_Location_missing                             1.000000     -0.055636   \n",
              "make_missing                                         -0.055636      1.000000   \n",
              "model_missing                                         0.047709      0.550714   \n",
              "Propulsion_Code_missing                              -0.006225      0.639573   \n",
              "Sex_of_Driver_missing                                -0.011222      0.194930   \n",
              "Skidding_and_Overturning_missing                     -0.026183      0.031920   \n",
              "Was_Vehicle_Left_Hand_Drive_missing                   0.974410     -0.053496   \n",
              "Age_of_Vehicle                                       -0.027817      0.001485   \n",
              "Engine_Capacity_.CC.                                  0.027889      0.000273   \n",
              "\n",
              "                                     model_missing  Propulsion_Code_missing  \\\n",
              "Year                                      0.004033             1.462416e-01   \n",
              "Age_Band_of_Driver_missing                0.075841             1.143283e-01   \n",
              "Age_of_Vehicle_missing                    0.307220             8.033707e-01   \n",
              "Driver_Home_Area_Type_missing             0.107529             1.247533e-01   \n",
              "Driver_IMD_Decile_missing                 0.123224             1.483125e-01   \n",
              "Engine_Capacity_.CC._missing              0.437793             9.564573e-01   \n",
              "Hit_Object_in_Carriageway_missing         0.009412             1.089672e-02   \n",
              "Hit_Object_off_Carriageway_missing        0.043284             3.817901e-02   \n",
              "Journey_Purpose_of_Driver_missing        -0.028171             6.355105e-02   \n",
              "Junction_Location_missing                 0.047709            -6.225191e-03   \n",
              "make_missing                              0.550714             6.395733e-01   \n",
              "model_missing                             1.000000             3.909004e-01   \n",
              "Propulsion_Code_missing                   0.390900             1.000000e+00   \n",
              "Sex_of_Driver_missing                     0.096684             1.344279e-01   \n",
              "Skidding_and_Overturning_missing          0.010436             2.068052e-02   \n",
              "Was_Vehicle_Left_Hand_Drive_missing       0.048469            -5.267247e-03   \n",
              "Age_of_Vehicle                            0.060829             4.985764e-06   \n",
              "Engine_Capacity_.CC.                      0.444688             7.930731e-07   \n",
              "\n",
              "                                     Sex_of_Driver_missing  \\\n",
              "Year                                              0.070878   \n",
              "Age_Band_of_Driver_missing                        0.587183   \n",
              "Age_of_Vehicle_missing                            0.104464   \n",
              "Driver_Home_Area_Type_missing                     0.396085   \n",
              "Driver_IMD_Decile_missing                         0.236611   \n",
              "Engine_Capacity_.CC._missing                      0.126995   \n",
              "Hit_Object_in_Carriageway_missing                 0.000344   \n",
              "Hit_Object_off_Carriageway_missing                0.040919   \n",
              "Journey_Purpose_of_Driver_missing                 0.093376   \n",
              "Junction_Location_missing                        -0.011222   \n",
              "make_missing                                      0.194930   \n",
              "model_missing                                     0.096684   \n",
              "Propulsion_Code_missing                           0.134428   \n",
              "Sex_of_Driver_missing                             1.000000   \n",
              "Skidding_and_Overturning_missing                  0.054708   \n",
              "Was_Vehicle_Left_Hand_Drive_missing              -0.009474   \n",
              "Age_of_Vehicle                                    0.019631   \n",
              "Engine_Capacity_.CC.                              0.003250   \n",
              "\n",
              "                                     Skidding_and_Overturning_missing  \\\n",
              "Year                                                         0.056628   \n",
              "Age_Band_of_Driver_missing                                   0.080017   \n",
              "Age_of_Vehicle_missing                                       0.021063   \n",
              "Driver_Home_Area_Type_missing                                0.042658   \n",
              "Driver_IMD_Decile_missing                                    0.020469   \n",
              "Engine_Capacity_.CC._missing                                 0.024240   \n",
              "Hit_Object_in_Carriageway_missing                            0.143543   \n",
              "Hit_Object_off_Carriageway_missing                           0.347352   \n",
              "Journey_Purpose_of_Driver_missing                            0.036960   \n",
              "Junction_Location_missing                                   -0.026183   \n",
              "make_missing                                                 0.031920   \n",
              "model_missing                                                0.010436   \n",
              "Propulsion_Code_missing                                      0.020681   \n",
              "Sex_of_Driver_missing                                        0.054708   \n",
              "Skidding_and_Overturning_missing                             1.000000   \n",
              "Was_Vehicle_Left_Hand_Drive_missing                         -0.025519   \n",
              "Age_of_Vehicle                                              -0.057099   \n",
              "Engine_Capacity_.CC.                                         0.038679   \n",
              "\n",
              "                                     Was_Vehicle_Left_Hand_Drive_missing  \\\n",
              "Year                                                           -0.451809   \n",
              "Age_Band_of_Driver_missing                                     -0.008320   \n",
              "Age_of_Vehicle_missing                                          0.004884   \n",
              "Driver_Home_Area_Type_missing                                   0.082451   \n",
              "Driver_IMD_Decile_missing                                       0.021419   \n",
              "Engine_Capacity_.CC._missing                                    0.008433   \n",
              "Hit_Object_in_Carriageway_missing                              -0.000098   \n",
              "Hit_Object_off_Carriageway_missing                             -0.001288   \n",
              "Journey_Purpose_of_Driver_missing                               0.275921   \n",
              "Junction_Location_missing                                       0.974410   \n",
              "make_missing                                                   -0.053496   \n",
              "model_missing                                                   0.048469   \n",
              "Propulsion_Code_missing                                        -0.005267   \n",
              "Sex_of_Driver_missing                                          -0.009474   \n",
              "Skidding_and_Overturning_missing                               -0.025519   \n",
              "Was_Vehicle_Left_Hand_Drive_missing                             1.000000   \n",
              "Age_of_Vehicle                                                 -0.027961   \n",
              "Engine_Capacity_.CC.                                            0.027388   \n",
              "\n",
              "                                     Age_of_Vehicle  Engine_Capacity_.CC.  \n",
              "Year                                   1.356422e-01         -6.672963e-02  \n",
              "Age_Band_of_Driver_missing             1.653340e-02          1.055327e-02  \n",
              "Age_of_Vehicle_missing                -1.979268e-15         -6.780976e-03  \n",
              "Driver_Home_Area_Type_missing         -3.055622e-03          2.839131e-02  \n",
              "Driver_IMD_Decile_missing              5.661134e-03          1.601583e-02  \n",
              "Engine_Capacity_.CC._missing           1.848748e-02          3.391458e-15  \n",
              "Hit_Object_in_Carriageway_missing     -2.465476e-02          2.119086e-02  \n",
              "Hit_Object_off_Carriageway_missing    -3.740425e-02          2.708233e-02  \n",
              "Journey_Purpose_of_Driver_missing      1.227918e-01         -1.327288e-01  \n",
              "Junction_Location_missing             -2.781664e-02          2.788939e-02  \n",
              "make_missing                           1.485262e-03          2.725071e-04  \n",
              "model_missing                          6.082898e-02          4.446881e-01  \n",
              "Propulsion_Code_missing                4.985764e-06          7.930731e-07  \n",
              "Sex_of_Driver_missing                  1.963064e-02          3.249792e-03  \n",
              "Skidding_and_Overturning_missing      -5.709923e-02          3.867910e-02  \n",
              "Was_Vehicle_Left_Hand_Drive_missing   -2.796072e-02          2.738793e-02  \n",
              "Age_of_Vehicle                         1.000000e+00         -7.654205e-02  \n",
              "Engine_Capacity_.CC.                  -7.654205e-02          1.000000e+00  "
            ]
          },
          "execution_count": 55,
          "metadata": {},
          "output_type": "execute_result"
        }
      ],
      "source": [
        "im_df.corr()"
      ]
    },
    {
      "cell_type": "markdown",
      "metadata": {
        "id": "nlP6hAJQjthE"
      },
      "source": [
        "### Question Answering\n",
        "\n"
      ]
    },
    {
      "cell_type": "markdown",
      "metadata": {
        "id": "Q8XM0zWfzrBH"
      },
      "source": [
        "1. What was the direction of most of the vehicles during accident?"
      ]
    },
    {
      "cell_type": "code",
      "execution_count": null,
      "metadata": {
        "colab": {
          "base_uri": "https://localhost:8080/",
          "height": 1000
        },
        "id": "e2oaJ7IZdd2W",
        "outputId": "361182b2-e1a1-4a0c-cdda-1d32b9ff770e"
      },
      "outputs": [
        {
          "data": {
            "text/plain": [
              "(array([ 0,  1,  2,  3,  4,  5,  6,  7,  8,  9, 10, 11, 12, 13, 14, 15, 16,\n",
              "        17]), <a list of 18 Text major ticklabel objects>)"
            ]
          },
          "execution_count": 56,
          "metadata": {},
          "output_type": "execute_result"
        },
        {
          "data": {
            "image/png": "[encoded data removed]",
            "text/plain": [
              "<Figure size 1440x1440 with 1 Axes>"
            ]
          },
          "metadata": {
            "needs_background": "light"
          },
          "output_type": "display_data"
        }
      ],
      "source": [
        "plt.figure(figsize=(20,20))\n",
        "sns.countplot(x=im_df['Vehicle_Manoeuvre'])\n",
        "plt.xticks(rotation=90)"
      ]
    },
    {
      "cell_type": "markdown",
      "metadata": {
        "id": "_8JhUTx50OjM"
      },
      "source": [
        "Seems like most of the accident happened while going ahead of others."
      ]
    },
    {
      "cell_type": "markdown",
      "metadata": {
        "id": "Fl0zGPhD0ghU"
      },
      "source": [
        "2. Which company's vehicle is involved in most of the accidents?"
      ]
    },
    {
      "cell_type": "code",
      "execution_count": null,
      "metadata": {
        "colab": {
          "base_uri": "https://localhost:8080/"
        },
        "id": "mGYbR9Ls05R7",
        "outputId": "0851968c-1188-47ec-dbf9-9c3ce32a36b7"
      },
      "outputs": [
        {
          "data": {
            "text/plain": [
              "VAUXHALL             16.055910\n",
              "FORD                 10.897510\n",
              "PEUGEOT               5.816755\n",
              "VOLKSWAGEN            5.553119\n",
              "RENAULT               5.253536\n",
              "                       ...    \n",
              "POCLAIN               0.000046\n",
              "THINK                 0.000046\n",
              "JORDAN                0.000046\n",
              "KINGTON               0.000046\n",
              "ERIK BUELL RACING     0.000046\n",
              "Name: make, Length: 535, dtype: float64"
            ]
          },
          "execution_count": 59,
          "metadata": {},
          "output_type": "execute_result"
        }
      ],
      "source": [
        "(im_df['make'].value_counts() / im_df.shape[0]) * 100\n"
      ]
    },
    {
      "cell_type": "markdown",
      "metadata": {
        "id": "ffvId9sf1Diy"
      },
      "source": [
        "Vauxhall, Ford, Peugeot, Volkswagen, Renault make about 40% accidents in whole dataset."
      ]
    },
    {
      "cell_type": "code",
      "execution_count": null,
      "metadata": {
        "colab": {
          "base_uri": "https://localhost:8080/"
        },
        "id": "-fKH9A2j5dDL",
        "outputId": "22f7b28e-b920-48c6-c475-171254847838"
      },
      "outputs": [
        {
          "data": {
            "text/plain": [
              "make    model              \n",
              "ABARTH  500                    90\n",
              "        500 C                   5\n",
              "        500 C S-A              13\n",
              "        500 CUSTOM              3\n",
              "        500 S-A                 1\n",
              "                               ..\n",
              "ZONTES  MANTIS 125 ZT 125-E     2\n",
              "        TIGER 50                4\n",
              "        ZT 125-3A TIGER        62\n",
              "        ZT 125-5A MONSTER      38\n",
              "        ZT 125-8A PANTHER      35\n",
              "Name: Accident_Index, Length: 36401, dtype: int64"
            ]
          },
          "execution_count": 80,
          "metadata": {},
          "output_type": "execute_result"
        }
      ],
      "source": [
        "im_df.groupby(['make','model'])['Accident_Index'].count()\n",
        "\n"
      ]
    },
    {
      "cell_type": "markdown",
      "metadata": {
        "id": "2RF_IANP2i9L"
      },
      "source": [
        "3. What is the mean age of the vehicles involved in accidents?"
      ]
    },
    {
      "cell_type": "code",
      "execution_count": null,
      "metadata": {
        "colab": {
          "base_uri": "https://localhost:8080/",
          "height": 363
        },
        "id": "p77oQfZS23FX",
        "outputId": "767d26be-eef4-445b-d425-51f684cf69d8"
      },
      "outputs": [
        {
          "data": {
            "text/html": [
              "\n",
              "  <div id=\"df-2c8de82c-0400-45f4-a0ae-957fd4b4753b\">\n",
              "    <div class=\"colab-df-container\">\n",
              "      <div>\n",
              "<style scoped>\n",
              "    .dataframe tbody tr th:only-of-type {\n",
              "        vertical-align: middle;\n",
              "    }\n",
              "\n",
              "    .dataframe tbody tr th {\n",
              "        vertical-align: top;\n",
              "    }\n",
              "\n",
              "    .dataframe thead th {\n",
              "        text-align: right;\n",
              "    }\n",
              "</style>\n",
              "<table border=\"1\" class=\"dataframe\">\n",
              "  <thead>\n",
              "    <tr style=\"text-align: right;\">\n",
              "      <th></th>\n",
              "      <th>Age_of_Vehicle</th>\n",
              "    </tr>\n",
              "  </thead>\n",
              "  <tbody>\n",
              "    <tr>\n",
              "      <th>7</th>\n",
              "      <td>22.379365</td>\n",
              "    </tr>\n",
              "    <tr>\n",
              "      <th>1</th>\n",
              "      <td>8.287012</td>\n",
              "    </tr>\n",
              "    <tr>\n",
              "      <th>2</th>\n",
              "      <td>7.402210</td>\n",
              "    </tr>\n",
              "    <tr>\n",
              "      <th>3</th>\n",
              "      <td>6.832317</td>\n",
              "    </tr>\n",
              "    <tr>\n",
              "      <th>4</th>\n",
              "      <td>6.640159</td>\n",
              "    </tr>\n",
              "    <tr>\n",
              "      <th>5</th>\n",
              "      <td>6.363497</td>\n",
              "    </tr>\n",
              "    <tr>\n",
              "      <th>6</th>\n",
              "      <td>6.182707</td>\n",
              "    </tr>\n",
              "    <tr>\n",
              "      <th>8</th>\n",
              "      <td>5.857350</td>\n",
              "    </tr>\n",
              "    <tr>\n",
              "      <th>9</th>\n",
              "      <td>5.574751</td>\n",
              "    </tr>\n",
              "    <tr>\n",
              "      <th>10</th>\n",
              "      <td>5.214368</td>\n",
              "    </tr>\n",
              "  </tbody>\n",
              "</table>\n",
              "</div>\n",
              "      <button class=\"colab-df-convert\" onclick=\"convertToInteractive('df-2c8de82c-0400-45f4-a0ae-957fd4b4753b')\"\n",
              "              title=\"Convert this dataframe to an interactive table.\"\n",
              "              style=\"display:none;\">\n",
              "        \n",
              "  <svg xmlns=\"http://www.w3.org/2000/svg\" height=\"24px\"viewBox=\"0 0 24 24\"\n",
              "       width=\"24px\">\n",
              "    <path d=\"M0 0h24v24H0V0z\" fill=\"none\"/>\n",
              "    <path d=\"M18.56 5.44l.94 2.06.94-2.06 2.06-.94-2.06-.94-.94-2.06-.94 2.06-2.06.94zm-11 1L8.5 8.5l.94-2.06 2.06-.94-2.06-.94L8.5 2.5l-.94 2.06-2.06.94zm10 10l.94 2.06.94-2.06 2.06-.94-2.06-.94-.94-2.06-.94 2.06-2.06.94z\"/><path d=\"M17.41 7.96l-1.37-1.37c-.4-.4-.92-.59-1.43-.59-.52 0-1.04.2-1.43.59L10.3 9.45l-7.72 7.72c-.78.78-.78 2.05 0 2.83L4 21.41c.39.39.9.59 1.41.59.51 0 1.02-.2 1.41-.59l7.78-7.78 2.81-2.81c.8-.78.8-2.07 0-2.86zM5.41 20L4 18.59l7.72-7.72 1.47 1.35L5.41 20z\"/>\n",
              "  </svg>\n",
              "      </button>\n",
              "      \n",
              "  <style>\n",
              "    .colab-df-container {\n",
              "      display:flex;\n",
              "      flex-wrap:wrap;\n",
              "      gap: 12px;\n",
              "    }\n",
              "\n",
              "    .colab-df-convert {\n",
              "      background-color: #E8F0FE;\n",
              "      border: none;\n",
              "      border-radius: 50%;\n",
              "      cursor: pointer;\n",
              "      display: none;\n",
              "      fill: #1967D2;\n",
              "      height: 32px;\n",
              "      padding: 0 0 0 0;\n",
              "      width: 32px;\n",
              "    }\n",
              "\n",
              "    .colab-df-convert:hover {\n",
              "      background-color: #E2EBFA;\n",
              "      box-shadow: 0px 1px 2px rgba(60, 64, 67, 0.3), 0px 1px 3px 1px rgba(60, 64, 67, 0.15);\n",
              "      fill: #174EA6;\n",
              "    }\n",
              "\n",
              "    [theme=dark] .colab-df-convert {\n",
              "      background-color: #3B4455;\n",
              "      fill: #D2E3FC;\n",
              "    }\n",
              "\n",
              "    [theme=dark] .colab-df-convert:hover {\n",
              "      background-color: #434B5C;\n",
              "      box-shadow: 0px 1px 3px 1px rgba(0, 0, 0, 0.15);\n",
              "      filter: drop-shadow(0px 1px 2px rgba(0, 0, 0, 0.3));\n",
              "      fill: #FFFFFF;\n",
              "    }\n",
              "  </style>\n",
              "\n",
              "      <script>\n",
              "        const buttonEl =\n",
              "          document.querySelector('#df-2c8de82c-0400-45f4-a0ae-957fd4b4753b button.colab-df-convert');\n",
              "        buttonEl.style.display =\n",
              "          google.colab.kernel.accessAllowed ? 'block' : 'none';\n",
              "\n",
              "        async function convertToInteractive(key) {\n",
              "          const element = document.querySelector('#df-2c8de82c-0400-45f4-a0ae-957fd4b4753b');\n",
              "          const dataTable =\n",
              "            await google.colab.kernel.invokeFunction('convertToInteractive',\n",
              "                                                     [key], {});\n",
              "          if (!dataTable) return;\n",
              "\n",
              "          const docLinkHtml = 'Like what you see? Visit the ' +\n",
              "            '<a target=\"_blank\" href=https://colab.research.google.com/notebooks/data_table.ipynb>data table notebook</a>'\n",
              "            + ' to learn more about interactive tables.';\n",
              "          element.innerHTML = '';\n",
              "          dataTable['output_type'] = 'display_data';\n",
              "          await google.colab.output.renderOutput(dataTable, element);\n",
              "          const docLink = document.createElement('div');\n",
              "          docLink.innerHTML = docLinkHtml;\n",
              "          element.appendChild(docLink);\n",
              "        }\n",
              "      </script>\n",
              "    </div>\n",
              "  </div>\n",
              "  "
            ],
            "text/plain": [
              "    Age_of_Vehicle\n",
              "7        22.379365\n",
              "1         8.287012\n",
              "2         7.402210\n",
              "3         6.832317\n",
              "4         6.640159\n",
              "5         6.363497\n",
              "6         6.182707\n",
              "8         5.857350\n",
              "9         5.574751\n",
              "10        5.214368"
            ]
          },
          "execution_count": 64,
          "metadata": {},
          "output_type": "execute_result"
        }
      ],
      "source": [
        "pd.DataFrame((im_df['Age_of_Vehicle'].astype('int').value_counts() / im_df.shape[0]) * 100).head(10)\n"
      ]
    },
    {
      "cell_type": "markdown",
      "metadata": {
        "id": "8fXLVSrj2_Rb"
      },
      "source": [
        "Older aged vehicles are less likely to be involved in collisions. Whereas, new vehicle and vehicles aged near 7 are more likely to be in collisions "
      ]
    },
    {
      "cell_type": "markdown",
      "metadata": {
        "id": "ZyRsDUsq3gmr"
      },
      "source": [
        "4. Type of Vehicle to be involved in most accidents?\n"
      ]
    },
    {
      "cell_type": "code",
      "execution_count": null,
      "metadata": {
        "colab": {
          "base_uri": "https://localhost:8080/"
        },
        "id": "hw54J99S2rs4",
        "outputId": "392cb3c6-e1a2-4abf-88c7-fc240fc56d2a"
      },
      "outputs": [
        {
          "data": {
            "text/plain": [
              "Car                                      70.270987\n",
              "Van / Goods 3.5 tonnes mgw or under       5.396170\n",
              "109                                       3.773435\n",
              "Bus or coach (17 or more pass seats)      3.525125\n",
              "Motorcycle over 500cc                     3.287539\n",
              "Motorcycle 125cc and under                2.828707\n",
              "Goods 7.5 tonnes mgw and over             2.545693\n",
              "Taxi/Private hire car                     2.013081\n",
              "Pedal cycle                               1.778625\n",
              "Motorcycle 50cc and under                 1.030014\n",
              "Motorcycle over 125cc and up to 500cc     0.963967\n",
              "Goods over 3.5t. and under 7.5t           0.838362\n",
              "Other vehicle                             0.641095\n",
              "106                                       0.341973\n",
              "Agricultural vehicle                      0.276386\n",
              "Minibus (8 - 16 passenger seats)          0.271277\n",
              "Goods vehicle - unknown weight            0.084780\n",
              "108                                       0.060478\n",
              "Motorcycle - unknown cc                   0.033599\n",
              "Mobility scooter                          0.022875\n",
              "Ridden horse                              0.010264\n",
              "Electric motorcycle                       0.003590\n",
              "Tram                                      0.001979\n",
              "Name: Vehicle_Type, dtype: float64"
            ]
          },
          "execution_count": 62,
          "metadata": {},
          "output_type": "execute_result"
        }
      ],
      "source": [
        "(im_df['Vehicle_Type'].value_counts() / im_df.shape[0]) * 100\n"
      ]
    },
    {
      "cell_type": "markdown",
      "metadata": {
        "id": "qzVbSeRj3rUT"
      },
      "source": [
        "Its seems clear that nearly 70% accidents are car accidents, so what is it that makes car accident more prevalent?"
      ]
    },
    {
      "cell_type": "code",
      "execution_count": null,
      "metadata": {
        "id": "1BxBw5843qmT"
      },
      "outputs": [],
      "source": []
    },
    {
      "cell_type": "code",
      "execution_count": null,
      "metadata": {
        "colab": {
          "base_uri": "https://localhost:8080/"
        },
        "id": "1BXBjaA2fo52",
        "outputId": "3726e6ec-d2ac-4a87-b9ed-e643476bc82e"
      },
      "outputs": [
        {
          "data": {
            "text/plain": [
              "0.0    0.981669\n",
              "9.0    0.006431\n",
              "2.0    0.004463\n",
              "6.0    0.002733\n",
              "8.0    0.001262\n",
              "4.0    0.001113\n",
              "3.0    0.000683\n",
              "7.0    0.000599\n",
              "5.0    0.000552\n",
              "1.0    0.000496\n",
              "Name: Vehicle_Location.Restricted_Lane, dtype: float64"
            ]
          },
          "execution_count": 20,
          "metadata": {},
          "output_type": "execute_result"
        }
      ],
      "source": [
        "im_df[\"Vehicle_Location.Restricted_Lane\"].value_counts(normalize=True)"
      ]
    },
    {
      "cell_type": "code",
      "execution_count": null,
      "metadata": {
        "colab": {
          "base_uri": "https://localhost:8080/",
          "height": 293
        },
        "id": "1SU-Sq9mj5KN",
        "outputId": "ee7429ad-9a66-4141-cee4-2eda3b9ee4de"
      },
      "outputs": [
        {
          "data": {
            "text/plain": [
              "<matplotlib.axes._subplots.AxesSubplot at 0x7fd97e21d250>"
            ]
          },
          "execution_count": 18,
          "metadata": {},
          "output_type": "execute_result"
        },
        {
          "data": {
            "image/png": "[encoded data removed]",
            "text/plain": [
              "<Figure size 432x288 with 1 Axes>"
            ]
          },
          "metadata": {
            "needs_background": "light"
          },
          "output_type": "display_data"
        }
      ],
      "source": [
        "im_df[\"Vehicle_Location.Restricted_Lane\"].hist()"
      ]
    },
    {
      "cell_type": "code",
      "execution_count": null,
      "metadata": {
        "id": "Pdlx-fTM6OWs"
      },
      "outputs": [],
      "source": []
    },
    {
      "cell_type": "markdown",
      "metadata": {
        "id": "lVA5Okv1k66q"
      },
      "source": [
        "- \"Vehicle_Location.Restricted_Lane\" itself is a categorical feature with encoded values ranging from 0 to 10 (but the column value is rather in float)\n",
        "- We have have \"Vehicle_Location.Restricted_Lane\" with value 0 : On main c'way - not in restricted lane \n",
        "- it is better to drop this feature/use for test dataset as we see 0 holds about 98% occurances in whole dataset"
      ]
    },
    {
      "cell_type": "code",
      "execution_count": null,
      "metadata": {
        "colab": {
          "base_uri": "https://localhost:8080/"
        },
        "id": "0IJBSeozoToe",
        "outputId": "d93d6199-fd87-451f-ed28-5fa13c114a01"
      },
      "outputs": [
        {
          "data": {
            "text/plain": [
              "1    1199463\n",
              "2     807576\n",
              "3     125391\n",
              "4      28474\n",
              "5       7203\n",
              "Name: Vehicle_Reference, dtype: int64"
            ]
          },
          "execution_count": 34,
          "metadata": {},
          "output_type": "execute_result"
        }
      ],
      "source": [
        "im_df.Vehicle_Reference.value_counts()[:5]"
      ]
    },
    {
      "cell_type": "markdown",
      "metadata": {
        "id": "BiJS9cCWok2p"
      },
      "source": [
        "Vehicle reference: unique value for each vehicle in a singular accident. Can be used to join a Casualty to a vehicle"
      ]
    },
    {
      "cell_type": "code",
      "execution_count": null,
      "metadata": {
        "colab": {
          "base_uri": "https://localhost:8080/",
          "height": 297
        },
        "id": "wHc9QK6nny32",
        "outputId": "08736cbf-be0e-4ac6-9dc7-b78276d562c8"
      },
      "outputs": [
        {
          "data": {
            "text/plain": [
              "<matplotlib.axes._subplots.AxesSubplot at 0x7fd97db2d990>"
            ]
          },
          "execution_count": 33,
          "metadata": {},
          "output_type": "execute_result"
        },
        {
          "data": {
            "image/png": "[encoded data removed]",
            "text/plain": [
              "<Figure size 432x288 with 1 Axes>"
            ]
          },
          "metadata": {
            "needs_background": "light"
          },
          "output_type": "display_data"
        }
      ],
      "source": [
        "sns.boxplot(data=im_df, x='Vehicle_Reference')\n"
      ]
    },
    {
      "cell_type": "code",
      "execution_count": null,
      "metadata": {
        "colab": {
          "base_uri": "https://localhost:8080/",
          "height": 294
        },
        "id": "TDs97Y-gnclp",
        "outputId": "76f84ac1-9662-4ece-c30c-1b3e887b1338"
      },
      "outputs": [
        {
          "data": {
            "text/html": [
              "\n",
              "  <div id=\"df-203e4c20-7972-4eb0-ae47-538ced41e9df\">\n",
              "    <div class=\"colab-df-container\">\n",
              "      <div>\n",
              "<style scoped>\n",
              "    .dataframe tbody tr th:only-of-type {\n",
              "        vertical-align: middle;\n",
              "    }\n",
              "\n",
              "    .dataframe tbody tr th {\n",
              "        vertical-align: top;\n",
              "    }\n",
              "\n",
              "    .dataframe thead th {\n",
              "        text-align: right;\n",
              "    }\n",
              "</style>\n",
              "<table border=\"1\" class=\"dataframe\">\n",
              "  <thead>\n",
              "    <tr style=\"text-align: right;\">\n",
              "      <th></th>\n",
              "      <th>Accident_Index</th>\n",
              "      <th>Towing_and_Articulation</th>\n",
              "      <th>Vehicle_Leaving_Carriageway</th>\n",
              "      <th>Vehicle_Location.Restricted_Lane</th>\n",
              "      <th>Vehicle_Manoeuvre</th>\n",
              "      <th>Vehicle_Reference</th>\n",
              "      <th>Vehicle_Type</th>\n",
              "      <th>X1st_Point_of_Impact</th>\n",
              "      <th>Year</th>\n",
              "      <th>Age_Band_of_Driver_missing</th>\n",
              "      <th>Age_of_Vehicle_missing</th>\n",
              "      <th>Driver_Home_Area_Type_missing</th>\n",
              "      <th>Driver_IMD_Decile_missing</th>\n",
              "      <th>Engine_Capacity_.CC._missing</th>\n",
              "      <th>Hit_Object_in_Carriageway_missing</th>\n",
              "      <th>Hit_Object_off_Carriageway_missing</th>\n",
              "      <th>Journey_Purpose_of_Driver_missing</th>\n",
              "      <th>Junction_Location_missing</th>\n",
              "      <th>make_missing</th>\n",
              "      <th>model_missing</th>\n",
              "      <th>Propulsion_Code_missing</th>\n",
              "      <th>Sex_of_Driver_missing</th>\n",
              "      <th>Skidding_and_Overturning_missing</th>\n",
              "      <th>Was_Vehicle_Left_Hand_Drive_missing</th>\n",
              "      <th>Age_of_Vehicle</th>\n",
              "      <th>Engine_Capacity_.CC.</th>\n",
              "      <th>Age_Band_of_Driver</th>\n",
              "      <th>Driver_Home_Area_Type</th>\n",
              "      <th>Driver_IMD_Decile</th>\n",
              "      <th>Hit_Object_in_Carriageway</th>\n",
              "      <th>Hit_Object_off_Carriageway</th>\n",
              "      <th>Journey_Purpose_of_Driver</th>\n",
              "      <th>Junction_Location</th>\n",
              "      <th>make</th>\n",
              "      <th>model</th>\n",
              "      <th>Propulsion_Code</th>\n",
              "      <th>Sex_of_Driver</th>\n",
              "      <th>Skidding_and_Overturning</th>\n",
              "      <th>Was_Vehicle_Left_Hand_Drive</th>\n",
              "    </tr>\n",
              "  </thead>\n",
              "  <tbody>\n",
              "    <tr>\n",
              "      <th>1</th>\n",
              "      <td>200401BS00002</td>\n",
              "      <td>No tow/articulation</td>\n",
              "      <td>Did not leave carriageway</td>\n",
              "      <td>0.0</td>\n",
              "      <td>Going ahead other</td>\n",
              "      <td>1</td>\n",
              "      <td>109</td>\n",
              "      <td>Front</td>\n",
              "      <td>2004</td>\n",
              "      <td>False</td>\n",
              "      <td>True</td>\n",
              "      <td>False</td>\n",
              "      <td>False</td>\n",
              "      <td>True</td>\n",
              "      <td>True</td>\n",
              "      <td>True</td>\n",
              "      <td>True</td>\n",
              "      <td>True</td>\n",
              "      <td>False</td>\n",
              "      <td>False</td>\n",
              "      <td>True</td>\n",
              "      <td>False</td>\n",
              "      <td>True</td>\n",
              "      <td>True</td>\n",
              "      <td>7.108262</td>\n",
              "      <td>2042.161115</td>\n",
              "      <td>26 - 35</td>\n",
              "      <td>Urban area</td>\n",
              "      <td>3.0</td>\n",
              "      <td>Kerb</td>\n",
              "      <td>Other permanent object</td>\n",
              "      <td>Other/Not known (2005-10)</td>\n",
              "      <td>Not at or within 20 metres of junction</td>\n",
              "      <td>BMW</td>\n",
              "      <td>C1</td>\n",
              "      <td>Petrol</td>\n",
              "      <td>Male</td>\n",
              "      <td>Skidded</td>\n",
              "      <td>No</td>\n",
              "    </tr>\n",
              "    <tr>\n",
              "      <th>2</th>\n",
              "      <td>200401BS00003</td>\n",
              "      <td>No tow/articulation</td>\n",
              "      <td>Did not leave carriageway</td>\n",
              "      <td>0.0</td>\n",
              "      <td>Turning right</td>\n",
              "      <td>1</td>\n",
              "      <td>109</td>\n",
              "      <td>Front</td>\n",
              "      <td>2004</td>\n",
              "      <td>False</td>\n",
              "      <td>False</td>\n",
              "      <td>True</td>\n",
              "      <td>True</td>\n",
              "      <td>False</td>\n",
              "      <td>True</td>\n",
              "      <td>True</td>\n",
              "      <td>True</td>\n",
              "      <td>True</td>\n",
              "      <td>False</td>\n",
              "      <td>False</td>\n",
              "      <td>False</td>\n",
              "      <td>False</td>\n",
              "      <td>True</td>\n",
              "      <td>True</td>\n",
              "      <td>4.000000</td>\n",
              "      <td>998.000000</td>\n",
              "      <td>26 - 35</td>\n",
              "      <td>Urban area</td>\n",
              "      <td>3.0</td>\n",
              "      <td>Kerb</td>\n",
              "      <td>Other permanent object</td>\n",
              "      <td>Other/Not known (2005-10)</td>\n",
              "      <td>Not at or within 20 metres of junction</td>\n",
              "      <td>NISSAN</td>\n",
              "      <td>MICRA CELEBRATION 16V</td>\n",
              "      <td>Petrol</td>\n",
              "      <td>Male</td>\n",
              "      <td>Skidded</td>\n",
              "      <td>No</td>\n",
              "    </tr>\n",
              "    <tr>\n",
              "      <th>4</th>\n",
              "      <td>200401BS00004</td>\n",
              "      <td>No tow/articulation</td>\n",
              "      <td>Did not leave carriageway</td>\n",
              "      <td>0.0</td>\n",
              "      <td>Going ahead other</td>\n",
              "      <td>1</td>\n",
              "      <td>Motorcycle 125cc and under</td>\n",
              "      <td>Front</td>\n",
              "      <td>2004</td>\n",
              "      <td>False</td>\n",
              "      <td>False</td>\n",
              "      <td>False</td>\n",
              "      <td>False</td>\n",
              "      <td>False</td>\n",
              "      <td>True</td>\n",
              "      <td>True</td>\n",
              "      <td>True</td>\n",
              "      <td>True</td>\n",
              "      <td>False</td>\n",
              "      <td>False</td>\n",
              "      <td>False</td>\n",
              "      <td>False</td>\n",
              "      <td>True</td>\n",
              "      <td>True</td>\n",
              "      <td>1.000000</td>\n",
              "      <td>124.000000</td>\n",
              "      <td>26 - 35</td>\n",
              "      <td>Urban area</td>\n",
              "      <td>4.0</td>\n",
              "      <td>Kerb</td>\n",
              "      <td>Other permanent object</td>\n",
              "      <td>Other/Not known (2005-10)</td>\n",
              "      <td>Not at or within 20 metres of junction</td>\n",
              "      <td>PIAGGIO</td>\n",
              "      <td>VESPA ET4</td>\n",
              "      <td>Petrol</td>\n",
              "      <td>Male</td>\n",
              "      <td>Skidded</td>\n",
              "      <td>No</td>\n",
              "    </tr>\n",
              "  </tbody>\n",
              "</table>\n",
              "</div>\n",
              "      <button class=\"colab-df-convert\" onclick=\"convertToInteractive('df-203e4c20-7972-4eb0-ae47-538ced41e9df')\"\n",
              "              title=\"Convert this dataframe to an interactive table.\"\n",
              "              style=\"display:none;\">\n",
              "        \n",
              "  <svg xmlns=\"http://www.w3.org/2000/svg\" height=\"24px\"viewBox=\"0 0 24 24\"\n",
              "       width=\"24px\">\n",
              "    <path d=\"M0 0h24v24H0V0z\" fill=\"none\"/>\n",
              "    <path d=\"M18.56 5.44l.94 2.06.94-2.06 2.06-.94-2.06-.94-.94-2.06-.94 2.06-2.06.94zm-11 1L8.5 8.5l.94-2.06 2.06-.94-2.06-.94L8.5 2.5l-.94 2.06-2.06.94zm10 10l.94 2.06.94-2.06 2.06-.94-2.06-.94-.94-2.06-.94 2.06-2.06.94z\"/><path d=\"M17.41 7.96l-1.37-1.37c-.4-.4-.92-.59-1.43-.59-.52 0-1.04.2-1.43.59L10.3 9.45l-7.72 7.72c-.78.78-.78 2.05 0 2.83L4 21.41c.39.39.9.59 1.41.59.51 0 1.02-.2 1.41-.59l7.78-7.78 2.81-2.81c.8-.78.8-2.07 0-2.86zM5.41 20L4 18.59l7.72-7.72 1.47 1.35L5.41 20z\"/>\n",
              "  </svg>\n",
              "      </button>\n",
              "      \n",
              "  <style>\n",
              "    .colab-df-container {\n",
              "      display:flex;\n",
              "      flex-wrap:wrap;\n",
              "      gap: 12px;\n",
              "    }\n",
              "\n",
              "    .colab-df-convert {\n",
              "      background-color: #E8F0FE;\n",
              "      border: none;\n",
              "      border-radius: 50%;\n",
              "      cursor: pointer;\n",
              "      display: none;\n",
              "      fill: #1967D2;\n",
              "      height: 32px;\n",
              "      padding: 0 0 0 0;\n",
              "      width: 32px;\n",
              "    }\n",
              "\n",
              "    .colab-df-convert:hover {\n",
              "      background-color: #E2EBFA;\n",
              "      box-shadow: 0px 1px 2px rgba(60, 64, 67, 0.3), 0px 1px 3px 1px rgba(60, 64, 67, 0.15);\n",
              "      fill: #174EA6;\n",
              "    }\n",
              "\n",
              "    [theme=dark] .colab-df-convert {\n",
              "      background-color: #3B4455;\n",
              "      fill: #D2E3FC;\n",
              "    }\n",
              "\n",
              "    [theme=dark] .colab-df-convert:hover {\n",
              "      background-color: #434B5C;\n",
              "      box-shadow: 0px 1px 3px 1px rgba(0, 0, 0, 0.15);\n",
              "      filter: drop-shadow(0px 1px 2px rgba(0, 0, 0, 0.3));\n",
              "      fill: #FFFFFF;\n",
              "    }\n",
              "  </style>\n",
              "\n",
              "      <script>\n",
              "        const buttonEl =\n",
              "          document.querySelector('#df-203e4c20-7972-4eb0-ae47-538ced41e9df button.colab-df-convert');\n",
              "        buttonEl.style.display =\n",
              "          google.colab.kernel.accessAllowed ? 'block' : 'none';\n",
              "\n",
              "        async function convertToInteractive(key) {\n",
              "          const element = document.querySelector('#df-203e4c20-7972-4eb0-ae47-538ced41e9df');\n",
              "          const dataTable =\n",
              "            await google.colab.kernel.invokeFunction('convertToInteractive',\n",
              "                                                     [key], {});\n",
              "          if (!dataTable) return;\n",
              "\n",
              "          const docLinkHtml = 'Like what you see? Visit the ' +\n",
              "            '<a target=\"_blank\" href=https://colab.research.google.com/notebooks/data_table.ipynb>data table notebook</a>'\n",
              "            + ' to learn more about interactive tables.';\n",
              "          element.innerHTML = '';\n",
              "          dataTable['output_type'] = 'display_data';\n",
              "          await google.colab.output.renderOutput(dataTable, element);\n",
              "          const docLink = document.createElement('div');\n",
              "          docLink.innerHTML = docLinkHtml;\n",
              "          element.appendChild(docLink);\n",
              "        }\n",
              "      </script>\n",
              "    </div>\n",
              "  </div>\n",
              "  "
            ],
            "text/plain": [
              "  Accident_Index Towing_and_Articulation Vehicle_Leaving_Carriageway  \\\n",
              "1  200401BS00002     No tow/articulation   Did not leave carriageway   \n",
              "2  200401BS00003     No tow/articulation   Did not leave carriageway   \n",
              "4  200401BS00004     No tow/articulation   Did not leave carriageway   \n",
              "\n",
              "   Vehicle_Location.Restricted_Lane  Vehicle_Manoeuvre  Vehicle_Reference  \\\n",
              "1                               0.0  Going ahead other                  1   \n",
              "2                               0.0      Turning right                  1   \n",
              "4                               0.0  Going ahead other                  1   \n",
              "\n",
              "                 Vehicle_Type X1st_Point_of_Impact  Year  \\\n",
              "1                         109                Front  2004   \n",
              "2                         109                Front  2004   \n",
              "4  Motorcycle 125cc and under                Front  2004   \n",
              "\n",
              "   Age_Band_of_Driver_missing  Age_of_Vehicle_missing  \\\n",
              "1                       False                    True   \n",
              "2                       False                   False   \n",
              "4                       False                   False   \n",
              "\n",
              "   Driver_Home_Area_Type_missing  Driver_IMD_Decile_missing  \\\n",
              "1                          False                      False   \n",
              "2                           True                       True   \n",
              "4                          False                      False   \n",
              "\n",
              "   Engine_Capacity_.CC._missing  Hit_Object_in_Carriageway_missing  \\\n",
              "1                          True                               True   \n",
              "2                         False                               True   \n",
              "4                         False                               True   \n",
              "\n",
              "   Hit_Object_off_Carriageway_missing  Journey_Purpose_of_Driver_missing  \\\n",
              "1                                True                               True   \n",
              "2                                True                               True   \n",
              "4                                True                               True   \n",
              "\n",
              "   Junction_Location_missing  make_missing  model_missing  \\\n",
              "1                       True         False          False   \n",
              "2                       True         False          False   \n",
              "4                       True         False          False   \n",
              "\n",
              "   Propulsion_Code_missing  Sex_of_Driver_missing  \\\n",
              "1                     True                  False   \n",
              "2                    False                  False   \n",
              "4                    False                  False   \n",
              "\n",
              "   Skidding_and_Overturning_missing  Was_Vehicle_Left_Hand_Drive_missing  \\\n",
              "1                              True                                 True   \n",
              "2                              True                                 True   \n",
              "4                              True                                 True   \n",
              "\n",
              "   Age_of_Vehicle  Engine_Capacity_.CC. Age_Band_of_Driver  \\\n",
              "1        7.108262           2042.161115            26 - 35   \n",
              "2        4.000000            998.000000            26 - 35   \n",
              "4        1.000000            124.000000            26 - 35   \n",
              "\n",
              "  Driver_Home_Area_Type  Driver_IMD_Decile Hit_Object_in_Carriageway  \\\n",
              "1            Urban area                3.0                      Kerb   \n",
              "2            Urban area                3.0                      Kerb   \n",
              "4            Urban area                4.0                      Kerb   \n",
              "\n",
              "  Hit_Object_off_Carriageway  Journey_Purpose_of_Driver  \\\n",
              "1     Other permanent object  Other/Not known (2005-10)   \n",
              "2     Other permanent object  Other/Not known (2005-10)   \n",
              "4     Other permanent object  Other/Not known (2005-10)   \n",
              "\n",
              "                        Junction_Location     make                  model  \\\n",
              "1  Not at or within 20 metres of junction      BMW                     C1   \n",
              "2  Not at or within 20 metres of junction   NISSAN  MICRA CELEBRATION 16V   \n",
              "4  Not at or within 20 metres of junction  PIAGGIO              VESPA ET4   \n",
              "\n",
              "  Propulsion_Code Sex_of_Driver Skidding_and_Overturning  \\\n",
              "1          Petrol          Male                  Skidded   \n",
              "2          Petrol          Male                  Skidded   \n",
              "4          Petrol          Male                  Skidded   \n",
              "\n",
              "  Was_Vehicle_Left_Hand_Drive  \n",
              "1                          No  \n",
              "2                          No  \n",
              "4                          No  "
            ]
          },
          "execution_count": 30,
          "metadata": {},
          "output_type": "execute_result"
        }
      ],
      "source": [
        "im_df[im_df.Vehicle_Reference == 1].head(3)"
      ]
    },
    {
      "cell_type": "code",
      "execution_count": null,
      "metadata": {
        "colab": {
          "base_uri": "https://localhost:8080/",
          "height": 206
        },
        "id": "9KkzL1oJpJCs",
        "outputId": "cdd4d12f-e68a-4f95-dc2f-3c4500ef027e"
      },
      "outputs": [
        {
          "data": {
            "text/html": [
              "\n",
              "  <div id=\"df-34025145-e81f-40df-9dd9-e0355b3bd877\">\n",
              "    <div class=\"colab-df-container\">\n",
              "      <div>\n",
              "<style scoped>\n",
              "    .dataframe tbody tr th:only-of-type {\n",
              "        vertical-align: middle;\n",
              "    }\n",
              "\n",
              "    .dataframe tbody tr th {\n",
              "        vertical-align: top;\n",
              "    }\n",
              "\n",
              "    .dataframe thead th {\n",
              "        text-align: right;\n",
              "    }\n",
              "</style>\n",
              "<table border=\"1\" class=\"dataframe\">\n",
              "  <thead>\n",
              "    <tr style=\"text-align: right;\">\n",
              "      <th></th>\n",
              "      <th>make</th>\n",
              "      <th>model</th>\n",
              "    </tr>\n",
              "  </thead>\n",
              "  <tbody>\n",
              "    <tr>\n",
              "      <th>1</th>\n",
              "      <td>BMW</td>\n",
              "      <td>C1</td>\n",
              "    </tr>\n",
              "    <tr>\n",
              "      <th>2</th>\n",
              "      <td>NISSAN</td>\n",
              "      <td>MICRA CELEBRATION 16V</td>\n",
              "    </tr>\n",
              "    <tr>\n",
              "      <th>4</th>\n",
              "      <td>PIAGGIO</td>\n",
              "      <td>VESPA ET4</td>\n",
              "    </tr>\n",
              "    <tr>\n",
              "      <th>6</th>\n",
              "      <td>PIAGGIO</td>\n",
              "      <td>VESPA GT 125</td>\n",
              "    </tr>\n",
              "    <tr>\n",
              "      <th>7</th>\n",
              "      <td>BMW</td>\n",
              "      <td>R1100 RT</td>\n",
              "    </tr>\n",
              "  </tbody>\n",
              "</table>\n",
              "</div>\n",
              "      <button class=\"colab-df-convert\" onclick=\"convertToInteractive('df-34025145-e81f-40df-9dd9-e0355b3bd877')\"\n",
              "              title=\"Convert this dataframe to an interactive table.\"\n",
              "              style=\"display:none;\">\n",
              "        \n",
              "  <svg xmlns=\"http://www.w3.org/2000/svg\" height=\"24px\"viewBox=\"0 0 24 24\"\n",
              "       width=\"24px\">\n",
              "    <path d=\"M0 0h24v24H0V0z\" fill=\"none\"/>\n",
              "    <path d=\"M18.56 5.44l.94 2.06.94-2.06 2.06-.94-2.06-.94-.94-2.06-.94 2.06-2.06.94zm-11 1L8.5 8.5l.94-2.06 2.06-.94-2.06-.94L8.5 2.5l-.94 2.06-2.06.94zm10 10l.94 2.06.94-2.06 2.06-.94-2.06-.94-.94-2.06-.94 2.06-2.06.94z\"/><path d=\"M17.41 7.96l-1.37-1.37c-.4-.4-.92-.59-1.43-.59-.52 0-1.04.2-1.43.59L10.3 9.45l-7.72 7.72c-.78.78-.78 2.05 0 2.83L4 21.41c.39.39.9.59 1.41.59.51 0 1.02-.2 1.41-.59l7.78-7.78 2.81-2.81c.8-.78.8-2.07 0-2.86zM5.41 20L4 18.59l7.72-7.72 1.47 1.35L5.41 20z\"/>\n",
              "  </svg>\n",
              "      </button>\n",
              "      \n",
              "  <style>\n",
              "    .colab-df-container {\n",
              "      display:flex;\n",
              "      flex-wrap:wrap;\n",
              "      gap: 12px;\n",
              "    }\n",
              "\n",
              "    .colab-df-convert {\n",
              "      background-color: #E8F0FE;\n",
              "      border: none;\n",
              "      border-radius: 50%;\n",
              "      cursor: pointer;\n",
              "      display: none;\n",
              "      fill: #1967D2;\n",
              "      height: 32px;\n",
              "      padding: 0 0 0 0;\n",
              "      width: 32px;\n",
              "    }\n",
              "\n",
              "    .colab-df-convert:hover {\n",
              "      background-color: #E2EBFA;\n",
              "      box-shadow: 0px 1px 2px rgba(60, 64, 67, 0.3), 0px 1px 3px 1px rgba(60, 64, 67, 0.15);\n",
              "      fill: #174EA6;\n",
              "    }\n",
              "\n",
              "    [theme=dark] .colab-df-convert {\n",
              "      background-color: #3B4455;\n",
              "      fill: #D2E3FC;\n",
              "    }\n",
              "\n",
              "    [theme=dark] .colab-df-convert:hover {\n",
              "      background-color: #434B5C;\n",
              "      box-shadow: 0px 1px 3px 1px rgba(0, 0, 0, 0.15);\n",
              "      filter: drop-shadow(0px 1px 2px rgba(0, 0, 0, 0.3));\n",
              "      fill: #FFFFFF;\n",
              "    }\n",
              "  </style>\n",
              "\n",
              "      <script>\n",
              "        const buttonEl =\n",
              "          document.querySelector('#df-34025145-e81f-40df-9dd9-e0355b3bd877 button.colab-df-convert');\n",
              "        buttonEl.style.display =\n",
              "          google.colab.kernel.accessAllowed ? 'block' : 'none';\n",
              "\n",
              "        async function convertToInteractive(key) {\n",
              "          const element = document.querySelector('#df-34025145-e81f-40df-9dd9-e0355b3bd877');\n",
              "          const dataTable =\n",
              "            await google.colab.kernel.invokeFunction('convertToInteractive',\n",
              "                                                     [key], {});\n",
              "          if (!dataTable) return;\n",
              "\n",
              "          const docLinkHtml = 'Like what you see? Visit the ' +\n",
              "            '<a target=\"_blank\" href=https://colab.research.google.com/notebooks/data_table.ipynb>data table notebook</a>'\n",
              "            + ' to learn more about interactive tables.';\n",
              "          element.innerHTML = '';\n",
              "          dataTable['output_type'] = 'display_data';\n",
              "          await google.colab.output.renderOutput(dataTable, element);\n",
              "          const docLink = document.createElement('div');\n",
              "          docLink.innerHTML = docLinkHtml;\n",
              "          element.appendChild(docLink);\n",
              "        }\n",
              "      </script>\n",
              "    </div>\n",
              "  </div>\n",
              "  "
            ],
            "text/plain": [
              "      make                  model\n",
              "1      BMW                     C1\n",
              "2   NISSAN  MICRA CELEBRATION 16V\n",
              "4  PIAGGIO              VESPA ET4\n",
              "6  PIAGGIO           VESPA GT 125\n",
              "7      BMW               R1100 RT"
            ]
          },
          "execution_count": 35,
          "metadata": {},
          "output_type": "execute_result"
        }
      ],
      "source": [
        "im_df[im_df.Vehicle_Reference == 1][[\"make\",\"model\"]].head()"
      ]
    },
    {
      "cell_type": "markdown",
      "metadata": {
        "id": "1QarjFeppY7-"
      },
      "source": [
        "This shows that each vehicle reference id, does not correspond to unique vehicle\n",
        "Moreover, the vehicle id feature can be considered to drop. "
      ]
    },
    {
      "cell_type": "code",
      "execution_count": null,
      "metadata": {
        "colab": {
          "base_uri": "https://localhost:8080/",
          "height": 297
        },
        "id": "MefOjudDp7g6",
        "outputId": "0d0fbf5e-e03a-4900-fcc0-be081ceab9f4"
      },
      "outputs": [
        {
          "data": {
            "text/plain": [
              "<matplotlib.axes._subplots.AxesSubplot at 0x7fd97c08f110>"
            ]
          },
          "execution_count": 37,
          "metadata": {},
          "output_type": "execute_result"
        },
        {
          "data": {
            "image/png": "[encoded data removed]",
            "text/plain": [
              "<Figure size 432x288 with 1 Axes>"
            ]
          },
          "metadata": {
            "needs_background": "light"
          },
          "output_type": "display_data"
        }
      ],
      "source": [
        "sns.boxplot(data=im_df, x='Age_of_Vehicle')\n"
      ]
    },
    {
      "cell_type": "code",
      "execution_count": null,
      "metadata": {
        "colab": {
          "base_uri": "https://localhost:8080/"
        },
        "id": "_a2IhgB3qL6L",
        "outputId": "e9f4d845-fff7-4baa-c320-e2b3023f9157"
      },
      "outputs": [
        {
          "data": {
            "text/plain": [
              "1.338018187542452"
            ]
          },
          "execution_count": 40,
          "metadata": {},
          "output_type": "execute_result"
        }
      ],
      "source": [
        "im_df.Age_of_Vehicle.skew()"
      ]
    },
    {
      "cell_type": "code",
      "execution_count": null,
      "metadata": {
        "colab": {
          "base_uri": "https://localhost:8080/"
        },
        "id": "zqWhfPH-r0EZ",
        "outputId": "9b5818e7-88b6-4999-bb2a-5c97bbb2fb77"
      },
      "outputs": [
        {
          "data": {
            "text/plain": [
              "7.108262      16.399632\n",
              "1.000000       8.287012\n",
              "2.000000       7.402210\n",
              "3.000000       6.832317\n",
              "4.000000       6.640159\n",
              "                ...    \n",
              "104.000000     0.000046\n",
              "90.000000      0.000046\n",
              "105.000000     0.000046\n",
              "84.000000      0.000046\n",
              "111.000000     0.000046\n",
              "Name: Age_of_Vehicle, Length: 89, dtype: float64"
            ]
          },
          "execution_count": 43,
          "metadata": {},
          "output_type": "execute_result"
        }
      ],
      "source": [
        "im_df.Age_of_Vehicle.value_counts(normalize=True)*100"
      ]
    },
    {
      "cell_type": "markdown",
      "metadata": {
        "id": "AwhPt4YNrebq"
      },
      "source": [
        " - From above we can see the mean age is 7 years, with deviation of about 4 years, older vehicles are less likely to be involved in an accident.\n",
        " - vehicles of age between 1 to 7 holds about 43% of whole dataset\n"
      ]
    },
    {
      "cell_type": "code",
      "execution_count": null,
      "metadata": {
        "colab": {
          "base_uri": "https://localhost:8080/"
        },
        "id": "WtnIEsMzsgws",
        "outputId": "4a4b49f9-6986-41fc-8e3d-34af35219072"
      },
      "outputs": [
        {
          "data": {
            "text/plain": [
              "2042.161115    12.157193\n",
              "1598.000000     4.916856\n",
              "1997.000000     2.685612\n",
              "1998.000000     2.623569\n",
              "1242.000000     2.541321\n",
              "                 ...    \n",
              "1982.000000     0.000046\n",
              "9464.000000     0.000046\n",
              "3233.000000     0.000046\n",
              "4056.000000     0.000046\n",
              "2632.000000     0.000046\n",
              "Name: Engine_Capacity_.CC., Length: 2554, dtype: float64"
            ]
          },
          "execution_count": 46,
          "metadata": {},
          "output_type": "execute_result"
        }
      ],
      "source": [
        "im_df[\"Engine_Capacity_.CC.\"].value_counts(normalize=True)*100"
      ]
    },
    {
      "cell_type": "code",
      "execution_count": null,
      "metadata": {
        "colab": {
          "base_uri": "https://localhost:8080/",
          "height": 297
        },
        "id": "xMBhdFhgsySK",
        "outputId": "134ed9b6-60a7-498f-95c3-15adab64d80b"
      },
      "outputs": [
        {
          "data": {
            "text/plain": [
              "<matplotlib.axes._subplots.AxesSubplot at 0x7fd97bff7390>"
            ]
          },
          "execution_count": 47,
          "metadata": {},
          "output_type": "execute_result"
        },
        {
          "data": {
            "image/png": "[encoded data removed]",
            "text/plain": [
              "<Figure size 432x288 with 1 Axes>"
            ]
          },
          "metadata": {
            "needs_background": "light"
          },
          "output_type": "display_data"
        }
      ],
      "source": [
        "sns.boxplot(data=im_df, x='Engine_Capacity_.CC.')\n"
      ]
    },
    {
      "cell_type": "code",
      "execution_count": null,
      "metadata": {
        "colab": {
          "base_uri": "https://localhost:8080/"
        },
        "id": "JxOK95AUs6J0",
        "outputId": "a4420c62-1218-4088-984d-9b42fba68510"
      },
      "outputs": [
        {
          "data": {
            "text/plain": [
              "5.911487183952861"
            ]
          },
          "execution_count": 48,
          "metadata": {},
          "output_type": "execute_result"
        }
      ],
      "source": [
        "im_df[\"Engine_Capacity_.CC.\"].skew()"
      ]
    },
    {
      "cell_type": "code",
      "execution_count": null,
      "metadata": {
        "id": "gd_Jb1ijotl1"
      },
      "outputs": [],
      "source": [
        "im_df[\"Engine_Capacity_.CC.\"].max()"
      ]
    },
    {
      "cell_type": "code",
      "execution_count": null,
      "metadata": {
        "id": "9myEkPnEpHB5"
      },
      "outputs": [],
      "source": [
        "im_df[\"Engine_Capacity_.CC.\"].min()"
      ]
    },
    {
      "cell_type": "markdown",
      "metadata": {
        "id": "pnsTzJSJ8q-n"
      },
      "source": [
        "Accident Index"
      ]
    },
    {
      "cell_type": "code",
      "execution_count": null,
      "metadata": {
        "id": "rvYgsQmh8uKm"
      },
      "outputs": [],
      "source": [
        "im_df.Accident_Index.value_counts().sort_values(ascending=False)"
      ]
    },
    {
      "cell_type": "markdown",
      "metadata": {
        "id": "BSgxfyppAhXq"
      },
      "source": [
        "we have an accident involving 53 vehicles maximum, but we may not need the feature column for further analysis. "
      ]
    },
    {
      "cell_type": "markdown",
      "metadata": {
        "id": "caX2PUG8Izv9"
      },
      "source": [
        "\n",
        "\n",
        "## **References:**\n",
        "  1. https://assets.publishing.service.gov.uk/government/uploads/system/uploads/attachment_data/file/995423/stats20-2011.pdf\n",
        "  2. https://drive.google.com/file/d/1ndPCHUyO4ZajxA2qWPnpM6N_2anKiIfr/view\n",
        "\n",
        "\n"
      ]
    },
    {
      "cell_type": "markdown",
      "metadata": {
        "id": "WFLtjawOkcbX"
      },
      "source": [
        "### Credits\n",
        "Shrawan, Faizan, Hasaan, Retin, et al (Group 4- vehicle analysis team)"
      ]
    }
  ],
  "metadata": {
    "colab": {
      "collapsed_sections": [],
      "provenance": []
    },
    "kernelspec": {
      "display_name": "Python 3.9.12 ('base')",
      "language": "python",
      "name": "python3"
    },
    "language_info": {
      "name": "python",
      "version": "3.9.12"
    },
    "vscode": {
      "interpreter": {
        "hash": "3165825ed7053c8e1afa96bce8518cd8bc26e25fcb10caf600515faea5597791"
      }
    }
  },
  "nbformat": 4,
  "nbformat_minor": 0
}
