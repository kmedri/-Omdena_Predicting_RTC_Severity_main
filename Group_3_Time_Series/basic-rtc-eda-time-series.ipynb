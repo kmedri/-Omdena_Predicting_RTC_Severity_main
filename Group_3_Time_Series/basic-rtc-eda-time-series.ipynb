{
 "cells": [
  {
   "cell_type": "markdown",
   "id": "04bfae15",
   "metadata": {
    "papermill": {
     "duration": 0.00866,
     "end_time": "2022-11-02T02:04:33.691046",
     "exception": false,
     "start_time": "2022-11-02T02:04:33.682386",
     "status": "completed"
    },
    "tags": []
   },
   "source": [
    "# Import libraries"
   ]
  },
  {
   "cell_type": "code",
   "execution_count": 1,
   "id": "fb0a22b1",
   "metadata": {
    "execution": {
     "iopub.execute_input": "2022-11-02T02:04:33.708516Z",
     "iopub.status.busy": "2022-11-02T02:04:33.707503Z",
     "iopub.status.idle": "2022-11-02T02:04:40.310759Z",
     "shell.execute_reply": "2022-11-02T02:04:40.309453Z"
    },
    "papermill": {
     "duration": 6.615935,
     "end_time": "2022-11-02T02:04:40.314255",
     "exception": false,
     "start_time": "2022-11-02T02:04:33.698320",
     "status": "completed"
    },
    "tags": []
   },
   "outputs": [
    {
     "name": "stdout",
     "output_type": "stream",
     "text": [
      "2.6.4\n"
     ]
    }
   ],
   "source": [
    "import tensorflow as tf\n",
    "print(tf.__version__)\n",
    "\n",
    "import numpy as np\n",
    "import matplotlib.pyplot as plt\n",
    "import tensorflow as tf\n",
    "from tensorflow import keras\n",
    "import pandas as pd\n",
    "import seaborn as sns\n",
    "import functools as ft\n",
    "\n",
    "from sklearn.model_selection import TimeSeriesSplit"
   ]
  },
  {
   "cell_type": "markdown",
   "id": "356bc2fb",
   "metadata": {
    "papermill": {
     "duration": 0.006917,
     "end_time": "2022-11-02T02:04:40.328313",
     "exception": false,
     "start_time": "2022-11-02T02:04:40.321396",
     "status": "completed"
    },
    "tags": []
   },
   "source": [
    "# Load the data"
   ]
  },
  {
   "cell_type": "code",
   "execution_count": 2,
   "id": "b2a90692",
   "metadata": {
    "execution": {
     "iopub.execute_input": "2022-11-02T02:04:40.345047Z",
     "iopub.status.busy": "2022-11-02T02:04:40.344370Z",
     "iopub.status.idle": "2022-11-02T02:05:02.137186Z",
     "shell.execute_reply": "2022-11-02T02:05:02.135822Z"
    },
    "papermill": {
     "duration": 21.804283,
     "end_time": "2022-11-02T02:05:02.139945",
     "exception": false,
     "start_time": "2022-11-02T02:04:40.335662",
     "status": "completed"
    },
    "tags": []
   },
   "outputs": [
    {
     "name": "stderr",
     "output_type": "stream",
     "text": [
      "/opt/conda/lib/python3.7/site-packages/IPython/core/interactiveshell.py:3552: DtypeWarning: Columns (1) have mixed types.Specify dtype option on import or set low_memory=False.\n",
      "  exec(code_obj, self.user_global_ns, self.user_ns)\n"
     ]
    }
   ],
   "source": [
    "df = pd.read_csv(\"../input/omdenaliverpoolrtc/accident_data_time_series_imputed.csv\")"
   ]
  },
  {
   "cell_type": "code",
   "execution_count": 3,
   "id": "ead19fa3",
   "metadata": {
    "execution": {
     "iopub.execute_input": "2022-11-02T02:05:02.156269Z",
     "iopub.status.busy": "2022-11-02T02:05:02.155796Z",
     "iopub.status.idle": "2022-11-02T02:05:02.198381Z",
     "shell.execute_reply": "2022-11-02T02:05:02.197247Z"
    },
    "papermill": {
     "duration": 0.053469,
     "end_time": "2022-11-02T02:05:02.200823",
     "exception": false,
     "start_time": "2022-11-02T02:05:02.147354",
     "status": "completed"
    },
    "tags": []
   },
   "outputs": [
    {
     "data": {
      "text/html": [
       "<div>\n",
       "<style scoped>\n",
       "    .dataframe tbody tr th:only-of-type {\n",
       "        vertical-align: middle;\n",
       "    }\n",
       "\n",
       "    .dataframe tbody tr th {\n",
       "        vertical-align: top;\n",
       "    }\n",
       "\n",
       "    .dataframe thead th {\n",
       "        text-align: right;\n",
       "    }\n",
       "</style>\n",
       "<table border=\"1\" class=\"dataframe\">\n",
       "  <thead>\n",
       "    <tr style=\"text-align: right;\">\n",
       "      <th></th>\n",
       "      <th>Unnamed: 0</th>\n",
       "      <th>Accident_Index</th>\n",
       "      <th>1st_Road_Number</th>\n",
       "      <th>2nd_Road_Number</th>\n",
       "      <th>Accident_Severity</th>\n",
       "      <th>Date</th>\n",
       "      <th>Day_of_Week</th>\n",
       "      <th>Did_Police_Officer_Attend_Scene_of_Accident</th>\n",
       "      <th>Junction_Detail</th>\n",
       "      <th>Latitude</th>\n",
       "      <th>...</th>\n",
       "      <th>Junction_Control_missing</th>\n",
       "      <th>LSOA_of_Accident_Location_missing</th>\n",
       "      <th>Special_Conditions_at_Site_missing</th>\n",
       "      <th>2nd_Road_Number.1</th>\n",
       "      <th>1st_Road_Class</th>\n",
       "      <th>2nd_Road_Class</th>\n",
       "      <th>Carriageway_Hazards</th>\n",
       "      <th>Junction_Control</th>\n",
       "      <th>LSOA_of_Accident_Location</th>\n",
       "      <th>Special_Conditions_at_Site</th>\n",
       "    </tr>\n",
       "  </thead>\n",
       "  <tbody>\n",
       "    <tr>\n",
       "      <th>0</th>\n",
       "      <td>0</td>\n",
       "      <td>200501BS00001</td>\n",
       "      <td>3218.0</td>\n",
       "      <td>0.0</td>\n",
       "      <td>Serious</td>\n",
       "      <td>2005-01-04</td>\n",
       "      <td>Tuesday</td>\n",
       "      <td>1.0</td>\n",
       "      <td>Not at junction or within 20 metres</td>\n",
       "      <td>51.489096</td>\n",
       "      <td>...</td>\n",
       "      <td>True</td>\n",
       "      <td>False</td>\n",
       "      <td>True</td>\n",
       "      <td>0.0</td>\n",
       "      <td>A</td>\n",
       "      <td>A</td>\n",
       "      <td>Other object on road</td>\n",
       "      <td>Give way or uncontrolled</td>\n",
       "      <td>E01002849</td>\n",
       "      <td>Roadworks</td>\n",
       "    </tr>\n",
       "    <tr>\n",
       "      <th>1</th>\n",
       "      <td>1</td>\n",
       "      <td>200501BS00002</td>\n",
       "      <td>450.0</td>\n",
       "      <td>0.0</td>\n",
       "      <td>Slight</td>\n",
       "      <td>2005-01-05</td>\n",
       "      <td>Wednesday</td>\n",
       "      <td>1.0</td>\n",
       "      <td>Crossroads</td>\n",
       "      <td>51.520075</td>\n",
       "      <td>...</td>\n",
       "      <td>False</td>\n",
       "      <td>False</td>\n",
       "      <td>True</td>\n",
       "      <td>0.0</td>\n",
       "      <td>B</td>\n",
       "      <td>C</td>\n",
       "      <td>Other object on road</td>\n",
       "      <td>Auto traffic signal</td>\n",
       "      <td>E01002909</td>\n",
       "      <td>Roadworks</td>\n",
       "    </tr>\n",
       "    <tr>\n",
       "      <th>2</th>\n",
       "      <td>2</td>\n",
       "      <td>200501BS00003</td>\n",
       "      <td>0.0</td>\n",
       "      <td>0.0</td>\n",
       "      <td>Slight</td>\n",
       "      <td>2005-01-06</td>\n",
       "      <td>Thursday</td>\n",
       "      <td>1.0</td>\n",
       "      <td>Not at junction or within 20 metres</td>\n",
       "      <td>51.525301</td>\n",
       "      <td>...</td>\n",
       "      <td>True</td>\n",
       "      <td>False</td>\n",
       "      <td>True</td>\n",
       "      <td>0.0</td>\n",
       "      <td>C</td>\n",
       "      <td>A</td>\n",
       "      <td>Other object on road</td>\n",
       "      <td>Give way or uncontrolled</td>\n",
       "      <td>E01002857</td>\n",
       "      <td>Roadworks</td>\n",
       "    </tr>\n",
       "    <tr>\n",
       "      <th>3</th>\n",
       "      <td>3</td>\n",
       "      <td>200501BS00004</td>\n",
       "      <td>3220.0</td>\n",
       "      <td>0.0</td>\n",
       "      <td>Slight</td>\n",
       "      <td>2005-01-07</td>\n",
       "      <td>Friday</td>\n",
       "      <td>1.0</td>\n",
       "      <td>Not at junction or within 20 metres</td>\n",
       "      <td>51.482442</td>\n",
       "      <td>...</td>\n",
       "      <td>True</td>\n",
       "      <td>False</td>\n",
       "      <td>True</td>\n",
       "      <td>0.0</td>\n",
       "      <td>A</td>\n",
       "      <td>A</td>\n",
       "      <td>Other object on road</td>\n",
       "      <td>Give way or uncontrolled</td>\n",
       "      <td>E01002840</td>\n",
       "      <td>Roadworks</td>\n",
       "    </tr>\n",
       "    <tr>\n",
       "      <th>4</th>\n",
       "      <td>4</td>\n",
       "      <td>200501BS00005</td>\n",
       "      <td>0.0</td>\n",
       "      <td>0.0</td>\n",
       "      <td>Slight</td>\n",
       "      <td>2005-01-10</td>\n",
       "      <td>Monday</td>\n",
       "      <td>1.0</td>\n",
       "      <td>Not at junction or within 20 metres</td>\n",
       "      <td>51.495752</td>\n",
       "      <td>...</td>\n",
       "      <td>True</td>\n",
       "      <td>False</td>\n",
       "      <td>True</td>\n",
       "      <td>0.0</td>\n",
       "      <td>A</td>\n",
       "      <td>A</td>\n",
       "      <td>Other object on road</td>\n",
       "      <td>Give way or uncontrolled</td>\n",
       "      <td>E01002863</td>\n",
       "      <td>Roadworks</td>\n",
       "    </tr>\n",
       "  </tbody>\n",
       "</table>\n",
       "<p>5 rows × 42 columns</p>\n",
       "</div>"
      ],
      "text/plain": [
       "   Unnamed: 0 Accident_Index  1st_Road_Number  2nd_Road_Number  \\\n",
       "0           0  200501BS00001           3218.0              0.0   \n",
       "1           1  200501BS00002            450.0              0.0   \n",
       "2           2  200501BS00003              0.0              0.0   \n",
       "3           3  200501BS00004           3220.0              0.0   \n",
       "4           4  200501BS00005              0.0              0.0   \n",
       "\n",
       "  Accident_Severity        Date Day_of_Week  \\\n",
       "0           Serious  2005-01-04     Tuesday   \n",
       "1            Slight  2005-01-05   Wednesday   \n",
       "2            Slight  2005-01-06    Thursday   \n",
       "3            Slight  2005-01-07      Friday   \n",
       "4            Slight  2005-01-10      Monday   \n",
       "\n",
       "   Did_Police_Officer_Attend_Scene_of_Accident  \\\n",
       "0                                          1.0   \n",
       "1                                          1.0   \n",
       "2                                          1.0   \n",
       "3                                          1.0   \n",
       "4                                          1.0   \n",
       "\n",
       "                       Junction_Detail   Latitude  ...  \\\n",
       "0  Not at junction or within 20 metres  51.489096  ...   \n",
       "1                           Crossroads  51.520075  ...   \n",
       "2  Not at junction or within 20 metres  51.525301  ...   \n",
       "3  Not at junction or within 20 metres  51.482442  ...   \n",
       "4  Not at junction or within 20 metres  51.495752  ...   \n",
       "\n",
       "  Junction_Control_missing LSOA_of_Accident_Location_missing  \\\n",
       "0                     True                             False   \n",
       "1                    False                             False   \n",
       "2                     True                             False   \n",
       "3                     True                             False   \n",
       "4                     True                             False   \n",
       "\n",
       "  Special_Conditions_at_Site_missing  2nd_Road_Number.1  1st_Road_Class  \\\n",
       "0                               True                0.0               A   \n",
       "1                               True                0.0               B   \n",
       "2                               True                0.0               C   \n",
       "3                               True                0.0               A   \n",
       "4                               True                0.0               A   \n",
       "\n",
       "   2nd_Road_Class   Carriageway_Hazards          Junction_Control  \\\n",
       "0               A  Other object on road  Give way or uncontrolled   \n",
       "1               C  Other object on road       Auto traffic signal   \n",
       "2               A  Other object on road  Give way or uncontrolled   \n",
       "3               A  Other object on road  Give way or uncontrolled   \n",
       "4               A  Other object on road  Give way or uncontrolled   \n",
       "\n",
       "   LSOA_of_Accident_Location  Special_Conditions_at_Site  \n",
       "0                  E01002849                   Roadworks  \n",
       "1                  E01002909                   Roadworks  \n",
       "2                  E01002857                   Roadworks  \n",
       "3                  E01002840                   Roadworks  \n",
       "4                  E01002863                   Roadworks  \n",
       "\n",
       "[5 rows x 42 columns]"
      ]
     },
     "execution_count": 3,
     "metadata": {},
     "output_type": "execute_result"
    }
   ],
   "source": [
    "df.head()"
   ]
  },
  {
   "cell_type": "code",
   "execution_count": 4,
   "id": "1a8fe917",
   "metadata": {
    "execution": {
     "iopub.execute_input": "2022-11-02T02:05:02.219413Z",
     "iopub.status.busy": "2022-11-02T02:05:02.218976Z",
     "iopub.status.idle": "2022-11-02T02:05:04.037145Z",
     "shell.execute_reply": "2022-11-02T02:05:04.036298Z"
    },
    "papermill": {
     "duration": 1.830809,
     "end_time": "2022-11-02T02:05:04.039243",
     "exception": false,
     "start_time": "2022-11-02T02:05:02.208434",
     "status": "completed"
    },
    "tags": []
   },
   "outputs": [
    {
     "data": {
      "text/plain": [
       "Unnamed: 0                                     0\n",
       "Accident_Index                                 0\n",
       "1st_Road_Number                                0\n",
       "2nd_Road_Number                                0\n",
       "Accident_Severity                              0\n",
       "Date                                           0\n",
       "Day_of_Week                                    0\n",
       "Did_Police_Officer_Attend_Scene_of_Accident    0\n",
       "Junction_Detail                                0\n",
       "Latitude                                       0\n",
       "Light_Conditions                               0\n",
       "Local_Authority_(District)                     0\n",
       "Local_Authority_(Highway)                      0\n",
       "Location_Easting_OSGR                          0\n",
       "Location_Northing_OSGR                         0\n",
       "Longitude                                      0\n",
       "Number_of_Casualties                           0\n",
       "Number_of_Vehicles                             0\n",
       "Pedestrian_Crossing-Human_Control              0\n",
       "Pedestrian_Crossing-Physical_Facilities        0\n",
       "Police_Force                                   0\n",
       "Road_Surface_Conditions                        0\n",
       "Road_Type                                      0\n",
       "Speed_limit                                    0\n",
       "Time                                           0\n",
       "Urban_or_Rural_Area                            0\n",
       "Weather_Conditions                             0\n",
       "Year                                           0\n",
       "InScotland                                     0\n",
       "1st_Road_Class_missing                         0\n",
       "2nd_Road_Class_missing                         0\n",
       "Carriageway_Hazards_missing                    0\n",
       "Junction_Control_missing                       0\n",
       "LSOA_of_Accident_Location_missing              0\n",
       "Special_Conditions_at_Site_missing             0\n",
       "2nd_Road_Number.1                              0\n",
       "1st_Road_Class                                 0\n",
       "2nd_Road_Class                                 0\n",
       "Carriageway_Hazards                            0\n",
       "Junction_Control                               0\n",
       "LSOA_of_Accident_Location                      0\n",
       "Special_Conditions_at_Site                     0\n",
       "dtype: int64"
      ]
     },
     "execution_count": 4,
     "metadata": {},
     "output_type": "execute_result"
    }
   ],
   "source": [
    "df.isna().sum()"
   ]
  },
  {
   "cell_type": "markdown",
   "id": "8ff7c58e",
   "metadata": {
    "papermill": {
     "duration": 0.007585,
     "end_time": "2022-11-02T02:05:04.054618",
     "exception": false,
     "start_time": "2022-11-02T02:05:04.047033",
     "status": "completed"
    },
    "tags": []
   },
   "source": [
    "# Filter the columns: casualty, year, and severity"
   ]
  },
  {
   "cell_type": "code",
   "execution_count": 5,
   "id": "fc056369",
   "metadata": {
    "execution": {
     "iopub.execute_input": "2022-11-02T02:05:04.071767Z",
     "iopub.status.busy": "2022-11-02T02:05:04.071343Z",
     "iopub.status.idle": "2022-11-02T02:05:04.102628Z",
     "shell.execute_reply": "2022-11-02T02:05:04.101421Z"
    },
    "papermill": {
     "duration": 0.042944,
     "end_time": "2022-11-02T02:05:04.105301",
     "exception": false,
     "start_time": "2022-11-02T02:05:04.062357",
     "status": "completed"
    },
    "tags": []
   },
   "outputs": [],
   "source": [
    "df2 = df.filter(['Accident_Severity', 'Number_of_Casualties', 'Year'], axis=1)"
   ]
  },
  {
   "cell_type": "code",
   "execution_count": 6,
   "id": "ce1aeec7",
   "metadata": {
    "execution": {
     "iopub.execute_input": "2022-11-02T02:05:04.122912Z",
     "iopub.status.busy": "2022-11-02T02:05:04.122356Z",
     "iopub.status.idle": "2022-11-02T02:05:04.134207Z",
     "shell.execute_reply": "2022-11-02T02:05:04.132930Z"
    },
    "papermill": {
     "duration": 0.023201,
     "end_time": "2022-11-02T02:05:04.136448",
     "exception": false,
     "start_time": "2022-11-02T02:05:04.113247",
     "status": "completed"
    },
    "tags": []
   },
   "outputs": [
    {
     "data": {
      "text/html": [
       "<div>\n",
       "<style scoped>\n",
       "    .dataframe tbody tr th:only-of-type {\n",
       "        vertical-align: middle;\n",
       "    }\n",
       "\n",
       "    .dataframe tbody tr th {\n",
       "        vertical-align: top;\n",
       "    }\n",
       "\n",
       "    .dataframe thead th {\n",
       "        text-align: right;\n",
       "    }\n",
       "</style>\n",
       "<table border=\"1\" class=\"dataframe\">\n",
       "  <thead>\n",
       "    <tr style=\"text-align: right;\">\n",
       "      <th></th>\n",
       "      <th>Accident_Severity</th>\n",
       "      <th>Number_of_Casualties</th>\n",
       "      <th>Year</th>\n",
       "    </tr>\n",
       "  </thead>\n",
       "  <tbody>\n",
       "    <tr>\n",
       "      <th>2021361</th>\n",
       "      <td>Slight</td>\n",
       "      <td>1</td>\n",
       "      <td>2017</td>\n",
       "    </tr>\n",
       "    <tr>\n",
       "      <th>2021362</th>\n",
       "      <td>Slight</td>\n",
       "      <td>1</td>\n",
       "      <td>2017</td>\n",
       "    </tr>\n",
       "    <tr>\n",
       "      <th>2021363</th>\n",
       "      <td>Slight</td>\n",
       "      <td>1</td>\n",
       "      <td>2017</td>\n",
       "    </tr>\n",
       "    <tr>\n",
       "      <th>2021364</th>\n",
       "      <td>Slight</td>\n",
       "      <td>1</td>\n",
       "      <td>2017</td>\n",
       "    </tr>\n",
       "    <tr>\n",
       "      <th>2021365</th>\n",
       "      <td>Serious</td>\n",
       "      <td>2</td>\n",
       "      <td>2017</td>\n",
       "    </tr>\n",
       "  </tbody>\n",
       "</table>\n",
       "</div>"
      ],
      "text/plain": [
       "        Accident_Severity  Number_of_Casualties  Year\n",
       "2021361            Slight                     1  2017\n",
       "2021362            Slight                     1  2017\n",
       "2021363            Slight                     1  2017\n",
       "2021364            Slight                     1  2017\n",
       "2021365           Serious                     2  2017"
      ]
     },
     "execution_count": 6,
     "metadata": {},
     "output_type": "execute_result"
    }
   ],
   "source": [
    "df2.tail()"
   ]
  },
  {
   "cell_type": "markdown",
   "id": "c8c59e0d",
   "metadata": {
    "papermill": {
     "duration": 0.007393,
     "end_time": "2022-11-02T02:05:04.151760",
     "exception": false,
     "start_time": "2022-11-02T02:05:04.144367",
     "status": "completed"
    },
    "tags": []
   },
   "source": [
    "# Group severity and casualties to the year of occurence"
   ]
  },
  {
   "cell_type": "code",
   "execution_count": 7,
   "id": "278611d1",
   "metadata": {
    "execution": {
     "iopub.execute_input": "2022-11-02T02:05:04.168777Z",
     "iopub.status.busy": "2022-11-02T02:05:04.168344Z",
     "iopub.status.idle": "2022-11-02T02:05:04.657845Z",
     "shell.execute_reply": "2022-11-02T02:05:04.656589Z"
    },
    "papermill": {
     "duration": 0.501247,
     "end_time": "2022-11-02T02:05:04.660660",
     "exception": false,
     "start_time": "2022-11-02T02:05:04.159413",
     "status": "completed"
    },
    "tags": []
   },
   "outputs": [],
   "source": [
    "Slight = df2[df2['Accident_Severity'] == \"Slight\"]\n",
    "Serious = df2[df2['Accident_Severity'] == \"Serious\"]\n",
    "Fatal = df2[df2['Accident_Severity'] == \"Fatal\"]"
   ]
  },
  {
   "cell_type": "code",
   "execution_count": 8,
   "id": "2bfa5e0b",
   "metadata": {
    "execution": {
     "iopub.execute_input": "2022-11-02T02:05:04.679191Z",
     "iopub.status.busy": "2022-11-02T02:05:04.678045Z",
     "iopub.status.idle": "2022-11-02T02:05:04.912921Z",
     "shell.execute_reply": "2022-11-02T02:05:04.911901Z"
    },
    "papermill": {
     "duration": 0.246938,
     "end_time": "2022-11-02T02:05:04.915715",
     "exception": false,
     "start_time": "2022-11-02T02:05:04.668777",
     "status": "completed"
    },
    "tags": []
   },
   "outputs": [],
   "source": [
    "count_Slight = Slight.groupby([\"Accident_Severity\", \"Year\"]).size().to_frame()\n",
    "count_Serious = Serious.groupby([\"Accident_Severity\", \"Year\"]).size().to_frame()\n",
    "count_Fatal = Fatal.groupby([\"Accident_Severity\", \"Year\"]).size().to_frame()"
   ]
  },
  {
   "cell_type": "code",
   "execution_count": 9,
   "id": "d1a6c54d",
   "metadata": {
    "execution": {
     "iopub.execute_input": "2022-11-02T02:05:04.933750Z",
     "iopub.status.busy": "2022-11-02T02:05:04.933342Z",
     "iopub.status.idle": "2022-11-02T02:05:04.955394Z",
     "shell.execute_reply": "2022-11-02T02:05:04.954064Z"
    },
    "papermill": {
     "duration": 0.03398,
     "end_time": "2022-11-02T02:05:04.957799",
     "exception": false,
     "start_time": "2022-11-02T02:05:04.923819",
     "status": "completed"
    },
    "tags": []
   },
   "outputs": [],
   "source": [
    "dfs = [count_Slight, count_Serious, count_Fatal]\n",
    "severity_year = ft.reduce(lambda left, right: pd.merge(left, right, on='Year'), dfs)"
   ]
  },
  {
   "cell_type": "code",
   "execution_count": 10,
   "id": "48baf60d",
   "metadata": {
    "execution": {
     "iopub.execute_input": "2022-11-02T02:05:04.975812Z",
     "iopub.status.busy": "2022-11-02T02:05:04.975414Z",
     "iopub.status.idle": "2022-11-02T02:05:04.988666Z",
     "shell.execute_reply": "2022-11-02T02:05:04.987492Z"
    },
    "papermill": {
     "duration": 0.024774,
     "end_time": "2022-11-02T02:05:04.990956",
     "exception": false,
     "start_time": "2022-11-02T02:05:04.966182",
     "status": "completed"
    },
    "tags": []
   },
   "outputs": [
    {
     "data": {
      "text/html": [
       "<div>\n",
       "<style scoped>\n",
       "    .dataframe tbody tr th:only-of-type {\n",
       "        vertical-align: middle;\n",
       "    }\n",
       "\n",
       "    .dataframe tbody tr th {\n",
       "        vertical-align: top;\n",
       "    }\n",
       "\n",
       "    .dataframe thead th {\n",
       "        text-align: right;\n",
       "    }\n",
       "</style>\n",
       "<table border=\"1\" class=\"dataframe\">\n",
       "  <thead>\n",
       "    <tr style=\"text-align: right;\">\n",
       "      <th></th>\n",
       "      <th>Slight</th>\n",
       "      <th>Serious</th>\n",
       "      <th>Fatal</th>\n",
       "    </tr>\n",
       "    <tr>\n",
       "      <th>Year</th>\n",
       "      <th></th>\n",
       "      <th></th>\n",
       "      <th></th>\n",
       "    </tr>\n",
       "  </thead>\n",
       "  <tbody>\n",
       "    <tr>\n",
       "      <th>2005</th>\n",
       "      <td>168379</td>\n",
       "      <td>24666</td>\n",
       "      <td>2871</td>\n",
       "    </tr>\n",
       "    <tr>\n",
       "      <th>2006</th>\n",
       "      <td>159495</td>\n",
       "      <td>24687</td>\n",
       "      <td>2900</td>\n",
       "    </tr>\n",
       "    <tr>\n",
       "      <th>2007</th>\n",
       "      <td>153264</td>\n",
       "      <td>24050</td>\n",
       "      <td>2691</td>\n",
       "    </tr>\n",
       "    <tr>\n",
       "      <th>2008</th>\n",
       "      <td>143389</td>\n",
       "      <td>22811</td>\n",
       "      <td>2327</td>\n",
       "    </tr>\n",
       "    <tr>\n",
       "      <th>2009</th>\n",
       "      <td>137851</td>\n",
       "      <td>21785</td>\n",
       "      <td>2036</td>\n",
       "    </tr>\n",
       "    <tr>\n",
       "      <th>2010</th>\n",
       "      <td>130671</td>\n",
       "      <td>20207</td>\n",
       "      <td>1718</td>\n",
       "    </tr>\n",
       "    <tr>\n",
       "      <th>2011</th>\n",
       "      <td>126927</td>\n",
       "      <td>20671</td>\n",
       "      <td>1767</td>\n",
       "    </tr>\n",
       "    <tr>\n",
       "      <th>2012</th>\n",
       "      <td>121525</td>\n",
       "      <td>20639</td>\n",
       "      <td>1619</td>\n",
       "    </tr>\n",
       "    <tr>\n",
       "      <th>2013</th>\n",
       "      <td>116225</td>\n",
       "      <td>19377</td>\n",
       "      <td>1590</td>\n",
       "    </tr>\n",
       "    <tr>\n",
       "      <th>2014</th>\n",
       "      <td>123284</td>\n",
       "      <td>20556</td>\n",
       "      <td>1650</td>\n",
       "    </tr>\n",
       "    <tr>\n",
       "      <th>2015</th>\n",
       "      <td>117417</td>\n",
       "      <td>19905</td>\n",
       "      <td>1598</td>\n",
       "    </tr>\n",
       "    <tr>\n",
       "      <th>2016</th>\n",
       "      <td>111623</td>\n",
       "      <td>21535</td>\n",
       "      <td>1670</td>\n",
       "    </tr>\n",
       "    <tr>\n",
       "      <th>2017</th>\n",
       "      <td>102065</td>\n",
       "      <td>22258</td>\n",
       "      <td>1667</td>\n",
       "    </tr>\n",
       "  </tbody>\n",
       "</table>\n",
       "</div>"
      ],
      "text/plain": [
       "      Slight  Serious  Fatal\n",
       "Year                        \n",
       "2005  168379    24666   2871\n",
       "2006  159495    24687   2900\n",
       "2007  153264    24050   2691\n",
       "2008  143389    22811   2327\n",
       "2009  137851    21785   2036\n",
       "2010  130671    20207   1718\n",
       "2011  126927    20671   1767\n",
       "2012  121525    20639   1619\n",
       "2013  116225    19377   1590\n",
       "2014  123284    20556   1650\n",
       "2015  117417    19905   1598\n",
       "2016  111623    21535   1670\n",
       "2017  102065    22258   1667"
      ]
     },
     "execution_count": 10,
     "metadata": {},
     "output_type": "execute_result"
    }
   ],
   "source": [
    "severity_year.set_axis(['Slight', 'Serious', 'Fatal'], axis=1, inplace=False)"
   ]
  },
  {
   "cell_type": "code",
   "execution_count": 11,
   "id": "49dce6bb",
   "metadata": {
    "execution": {
     "iopub.execute_input": "2022-11-02T02:05:05.009980Z",
     "iopub.status.busy": "2022-11-02T02:05:05.009173Z",
     "iopub.status.idle": "2022-11-02T02:05:05.042642Z",
     "shell.execute_reply": "2022-11-02T02:05:05.041381Z"
    },
    "papermill": {
     "duration": 0.04582,
     "end_time": "2022-11-02T02:05:05.045113",
     "exception": false,
     "start_time": "2022-11-02T02:05:04.999293",
     "status": "completed"
    },
    "tags": []
   },
   "outputs": [],
   "source": [
    "df3 = df2.filter(['Number_of_Casualties', 'Year'], axis=1)\n",
    "count_Casualty = df3['Year'].value_counts().to_frame()"
   ]
  },
  {
   "cell_type": "code",
   "execution_count": 12,
   "id": "b6685237",
   "metadata": {
    "execution": {
     "iopub.execute_input": "2022-11-02T02:05:05.063485Z",
     "iopub.status.busy": "2022-11-02T02:05:05.063051Z",
     "iopub.status.idle": "2022-11-02T02:05:05.074523Z",
     "shell.execute_reply": "2022-11-02T02:05:05.073429Z"
    },
    "papermill": {
     "duration": 0.023123,
     "end_time": "2022-11-02T02:05:05.076592",
     "exception": false,
     "start_time": "2022-11-02T02:05:05.053469",
     "status": "completed"
    },
    "tags": []
   },
   "outputs": [
    {
     "data": {
      "text/html": [
       "<div>\n",
       "<style scoped>\n",
       "    .dataframe tbody tr th:only-of-type {\n",
       "        vertical-align: middle;\n",
       "    }\n",
       "\n",
       "    .dataframe tbody tr th {\n",
       "        vertical-align: top;\n",
       "    }\n",
       "\n",
       "    .dataframe thead th {\n",
       "        text-align: right;\n",
       "    }\n",
       "</style>\n",
       "<table border=\"1\" class=\"dataframe\">\n",
       "  <thead>\n",
       "    <tr style=\"text-align: right;\">\n",
       "      <th></th>\n",
       "      <th>Number_of_Casualties</th>\n",
       "    </tr>\n",
       "    <tr>\n",
       "      <th>Year</th>\n",
       "      <th></th>\n",
       "    </tr>\n",
       "  </thead>\n",
       "  <tbody>\n",
       "    <tr>\n",
       "      <th>2005</th>\n",
       "      <td>195916</td>\n",
       "    </tr>\n",
       "    <tr>\n",
       "      <th>2006</th>\n",
       "      <td>187082</td>\n",
       "    </tr>\n",
       "    <tr>\n",
       "      <th>2007</th>\n",
       "      <td>180005</td>\n",
       "    </tr>\n",
       "    <tr>\n",
       "      <th>2008</th>\n",
       "      <td>168527</td>\n",
       "    </tr>\n",
       "    <tr>\n",
       "      <th>2009</th>\n",
       "      <td>161672</td>\n",
       "    </tr>\n",
       "    <tr>\n",
       "      <th>2010</th>\n",
       "      <td>152596</td>\n",
       "    </tr>\n",
       "    <tr>\n",
       "      <th>2011</th>\n",
       "      <td>149365</td>\n",
       "    </tr>\n",
       "    <tr>\n",
       "      <th>2014</th>\n",
       "      <td>145490</td>\n",
       "    </tr>\n",
       "    <tr>\n",
       "      <th>2012</th>\n",
       "      <td>143783</td>\n",
       "    </tr>\n",
       "    <tr>\n",
       "      <th>2015</th>\n",
       "      <td>138920</td>\n",
       "    </tr>\n",
       "    <tr>\n",
       "      <th>2013</th>\n",
       "      <td>137192</td>\n",
       "    </tr>\n",
       "    <tr>\n",
       "      <th>2016</th>\n",
       "      <td>134828</td>\n",
       "    </tr>\n",
       "    <tr>\n",
       "      <th>2017</th>\n",
       "      <td>125990</td>\n",
       "    </tr>\n",
       "  </tbody>\n",
       "</table>\n",
       "</div>"
      ],
      "text/plain": [
       "      Number_of_Casualties\n",
       "Year                      \n",
       "2005                195916\n",
       "2006                187082\n",
       "2007                180005\n",
       "2008                168527\n",
       "2009                161672\n",
       "2010                152596\n",
       "2011                149365\n",
       "2014                145490\n",
       "2012                143783\n",
       "2015                138920\n",
       "2013                137192\n",
       "2016                134828\n",
       "2017                125990"
      ]
     },
     "execution_count": 12,
     "metadata": {},
     "output_type": "execute_result"
    }
   ],
   "source": [
    "count_Casualty.index.name = 'Year'\n",
    "count_Casualty.set_axis(['Number_of_Casualties'], axis=1, inplace=False)"
   ]
  },
  {
   "cell_type": "code",
   "execution_count": 13,
   "id": "779b7e77",
   "metadata": {
    "execution": {
     "iopub.execute_input": "2022-11-02T02:05:05.094888Z",
     "iopub.status.busy": "2022-11-02T02:05:05.094485Z",
     "iopub.status.idle": "2022-11-02T02:05:05.104102Z",
     "shell.execute_reply": "2022-11-02T02:05:05.103026Z"
    },
    "papermill": {
     "duration": 0.021492,
     "end_time": "2022-11-02T02:05:05.106376",
     "exception": false,
     "start_time": "2022-11-02T02:05:05.084884",
     "status": "completed"
    },
    "tags": []
   },
   "outputs": [],
   "source": [
    "dff = pd.concat([severity_year, count_Casualty], axis = 1)\n",
    "dff = dff.set_axis(['Slight', 'Serious', 'Fatal', 'Casualties'], axis=1, inplace=False)"
   ]
  },
  {
   "cell_type": "code",
   "execution_count": 14,
   "id": "b5a536c5",
   "metadata": {
    "execution": {
     "iopub.execute_input": "2022-11-02T02:05:05.124738Z",
     "iopub.status.busy": "2022-11-02T02:05:05.124084Z",
     "iopub.status.idle": "2022-11-02T02:05:05.132026Z",
     "shell.execute_reply": "2022-11-02T02:05:05.130703Z"
    },
    "papermill": {
     "duration": 0.020278,
     "end_time": "2022-11-02T02:05:05.134903",
     "exception": false,
     "start_time": "2022-11-02T02:05:05.114625",
     "status": "completed"
    },
    "tags": []
   },
   "outputs": [],
   "source": [
    "dff.reset_index(inplace=True)\n",
    "df_final = dff.rename(columns = {'index':'Year'})"
   ]
  },
  {
   "cell_type": "code",
   "execution_count": 15,
   "id": "ceff8642",
   "metadata": {
    "execution": {
     "iopub.execute_input": "2022-11-02T02:05:05.153386Z",
     "iopub.status.busy": "2022-11-02T02:05:05.152963Z",
     "iopub.status.idle": "2022-11-02T02:05:05.165069Z",
     "shell.execute_reply": "2022-11-02T02:05:05.164059Z"
    },
    "papermill": {
     "duration": 0.023835,
     "end_time": "2022-11-02T02:05:05.167287",
     "exception": false,
     "start_time": "2022-11-02T02:05:05.143452",
     "status": "completed"
    },
    "tags": []
   },
   "outputs": [
    {
     "data": {
      "text/html": [
       "<div>\n",
       "<style scoped>\n",
       "    .dataframe tbody tr th:only-of-type {\n",
       "        vertical-align: middle;\n",
       "    }\n",
       "\n",
       "    .dataframe tbody tr th {\n",
       "        vertical-align: top;\n",
       "    }\n",
       "\n",
       "    .dataframe thead th {\n",
       "        text-align: right;\n",
       "    }\n",
       "</style>\n",
       "<table border=\"1\" class=\"dataframe\">\n",
       "  <thead>\n",
       "    <tr style=\"text-align: right;\">\n",
       "      <th></th>\n",
       "      <th>Year</th>\n",
       "      <th>Slight</th>\n",
       "      <th>Serious</th>\n",
       "      <th>Fatal</th>\n",
       "      <th>Casualties</th>\n",
       "    </tr>\n",
       "  </thead>\n",
       "  <tbody>\n",
       "    <tr>\n",
       "      <th>0</th>\n",
       "      <td>2005</td>\n",
       "      <td>168379</td>\n",
       "      <td>24666</td>\n",
       "      <td>2871</td>\n",
       "      <td>195916</td>\n",
       "    </tr>\n",
       "    <tr>\n",
       "      <th>1</th>\n",
       "      <td>2006</td>\n",
       "      <td>159495</td>\n",
       "      <td>24687</td>\n",
       "      <td>2900</td>\n",
       "      <td>187082</td>\n",
       "    </tr>\n",
       "    <tr>\n",
       "      <th>2</th>\n",
       "      <td>2007</td>\n",
       "      <td>153264</td>\n",
       "      <td>24050</td>\n",
       "      <td>2691</td>\n",
       "      <td>180005</td>\n",
       "    </tr>\n",
       "    <tr>\n",
       "      <th>3</th>\n",
       "      <td>2008</td>\n",
       "      <td>143389</td>\n",
       "      <td>22811</td>\n",
       "      <td>2327</td>\n",
       "      <td>168527</td>\n",
       "    </tr>\n",
       "    <tr>\n",
       "      <th>4</th>\n",
       "      <td>2009</td>\n",
       "      <td>137851</td>\n",
       "      <td>21785</td>\n",
       "      <td>2036</td>\n",
       "      <td>161672</td>\n",
       "    </tr>\n",
       "    <tr>\n",
       "      <th>5</th>\n",
       "      <td>2010</td>\n",
       "      <td>130671</td>\n",
       "      <td>20207</td>\n",
       "      <td>1718</td>\n",
       "      <td>152596</td>\n",
       "    </tr>\n",
       "    <tr>\n",
       "      <th>6</th>\n",
       "      <td>2011</td>\n",
       "      <td>126927</td>\n",
       "      <td>20671</td>\n",
       "      <td>1767</td>\n",
       "      <td>149365</td>\n",
       "    </tr>\n",
       "    <tr>\n",
       "      <th>7</th>\n",
       "      <td>2012</td>\n",
       "      <td>121525</td>\n",
       "      <td>20639</td>\n",
       "      <td>1619</td>\n",
       "      <td>143783</td>\n",
       "    </tr>\n",
       "    <tr>\n",
       "      <th>8</th>\n",
       "      <td>2013</td>\n",
       "      <td>116225</td>\n",
       "      <td>19377</td>\n",
       "      <td>1590</td>\n",
       "      <td>137192</td>\n",
       "    </tr>\n",
       "    <tr>\n",
       "      <th>9</th>\n",
       "      <td>2014</td>\n",
       "      <td>123284</td>\n",
       "      <td>20556</td>\n",
       "      <td>1650</td>\n",
       "      <td>145490</td>\n",
       "    </tr>\n",
       "    <tr>\n",
       "      <th>10</th>\n",
       "      <td>2015</td>\n",
       "      <td>117417</td>\n",
       "      <td>19905</td>\n",
       "      <td>1598</td>\n",
       "      <td>138920</td>\n",
       "    </tr>\n",
       "    <tr>\n",
       "      <th>11</th>\n",
       "      <td>2016</td>\n",
       "      <td>111623</td>\n",
       "      <td>21535</td>\n",
       "      <td>1670</td>\n",
       "      <td>134828</td>\n",
       "    </tr>\n",
       "    <tr>\n",
       "      <th>12</th>\n",
       "      <td>2017</td>\n",
       "      <td>102065</td>\n",
       "      <td>22258</td>\n",
       "      <td>1667</td>\n",
       "      <td>125990</td>\n",
       "    </tr>\n",
       "  </tbody>\n",
       "</table>\n",
       "</div>"
      ],
      "text/plain": [
       "    Year  Slight  Serious  Fatal  Casualties\n",
       "0   2005  168379    24666   2871      195916\n",
       "1   2006  159495    24687   2900      187082\n",
       "2   2007  153264    24050   2691      180005\n",
       "3   2008  143389    22811   2327      168527\n",
       "4   2009  137851    21785   2036      161672\n",
       "5   2010  130671    20207   1718      152596\n",
       "6   2011  126927    20671   1767      149365\n",
       "7   2012  121525    20639   1619      143783\n",
       "8   2013  116225    19377   1590      137192\n",
       "9   2014  123284    20556   1650      145490\n",
       "10  2015  117417    19905   1598      138920\n",
       "11  2016  111623    21535   1670      134828\n",
       "12  2017  102065    22258   1667      125990"
      ]
     },
     "execution_count": 15,
     "metadata": {},
     "output_type": "execute_result"
    }
   ],
   "source": [
    "df_final"
   ]
  },
  {
   "cell_type": "markdown",
   "id": "095aa6b1",
   "metadata": {
    "papermill": {
     "duration": 0.008319,
     "end_time": "2022-11-02T02:05:05.184297",
     "exception": false,
     "start_time": "2022-11-02T02:05:05.175978",
     "status": "completed"
    },
    "tags": []
   },
   "source": [
    "# Plot the graphs for time-series data"
   ]
  },
  {
   "cell_type": "code",
   "execution_count": 16,
   "id": "664a639f",
   "metadata": {
    "execution": {
     "iopub.execute_input": "2022-11-02T02:05:05.202935Z",
     "iopub.status.busy": "2022-11-02T02:05:05.202512Z",
     "iopub.status.idle": "2022-11-02T02:05:05.509795Z",
     "shell.execute_reply": "2022-11-02T02:05:05.508654Z"
    },
    "papermill": {
     "duration": 0.319678,
     "end_time": "2022-11-02T02:05:05.512431",
     "exception": false,
     "start_time": "2022-11-02T02:05:05.192753",
     "status": "completed"
    },
    "tags": []
   },
   "outputs": [
    {
     "data": {
      "image/png": "[encoded data removed]",
      "text/plain": [
       "<Figure size 432x288 with 1 Axes>"
      ]
     },
     "metadata": {
      "needs_background": "light"
     },
     "output_type": "display_data"
    }
   ],
   "source": [
    "sns.barplot(x=\"Year\", y=\"Casualties\", data=df_final)\n",
    "plt.title(\"Distribution of Casualties over the Years\")\n",
    "plt.show()"
   ]
  },
  {
   "cell_type": "code",
   "execution_count": 17,
   "id": "331b9f66",
   "metadata": {
    "execution": {
     "iopub.execute_input": "2022-11-02T02:05:05.532335Z",
     "iopub.status.busy": "2022-11-02T02:05:05.531870Z",
     "iopub.status.idle": "2022-11-02T02:05:05.808232Z",
     "shell.execute_reply": "2022-11-02T02:05:05.807105Z"
    },
    "papermill": {
     "duration": 0.289115,
     "end_time": "2022-11-02T02:05:05.810707",
     "exception": false,
     "start_time": "2022-11-02T02:05:05.521592",
     "status": "completed"
    },
    "tags": []
   },
   "outputs": [
    {
     "data": {
      "image/png": "[encoded data removed]",
      "text/plain": [
       "<Figure size 432x288 with 1 Axes>"
      ]
     },
     "metadata": {
      "needs_background": "light"
     },
     "output_type": "display_data"
    }
   ],
   "source": [
    "sns.barplot(x=\"Year\", y=\"Slight\", data=df_final)\n",
    "plt.title(\"Distribution of Slight Injuries over the Years\")\n",
    "plt.show()"
   ]
  },
  {
   "cell_type": "code",
   "execution_count": 18,
   "id": "f8911c08",
   "metadata": {
    "execution": {
     "iopub.execute_input": "2022-11-02T02:05:05.831523Z",
     "iopub.status.busy": "2022-11-02T02:05:05.830383Z",
     "iopub.status.idle": "2022-11-02T02:05:06.087789Z",
     "shell.execute_reply": "2022-11-02T02:05:06.086634Z"
    },
    "papermill": {
     "duration": 0.27046,
     "end_time": "2022-11-02T02:05:06.090289",
     "exception": false,
     "start_time": "2022-11-02T02:05:05.819829",
     "status": "completed"
    },
    "tags": []
   },
   "outputs": [
    {
     "data": {
      "image/png": "[encoded data removed]",
      "text/plain": [
       "<Figure size 432x288 with 1 Axes>"
      ]
     },
     "metadata": {
      "needs_background": "light"
     },
     "output_type": "display_data"
    }
   ],
   "source": [
    "sns.barplot(x=\"Year\", y=\"Serious\", data=df_final)\n",
    "plt.title(\"Distribution of Serious Injuries over the Years\")\n",
    "plt.show()"
   ]
  },
  {
   "cell_type": "code",
   "execution_count": 19,
   "id": "7b285e45",
   "metadata": {
    "execution": {
     "iopub.execute_input": "2022-11-02T02:05:06.110764Z",
     "iopub.status.busy": "2022-11-02T02:05:06.110347Z",
     "iopub.status.idle": "2022-11-02T02:05:06.370555Z",
     "shell.execute_reply": "2022-11-02T02:05:06.369102Z"
    },
    "papermill": {
     "duration": 0.273302,
     "end_time": "2022-11-02T02:05:06.372979",
     "exception": false,
     "start_time": "2022-11-02T02:05:06.099677",
     "status": "completed"
    },
    "tags": []
   },
   "outputs": [
    {
     "data": {
      "image/png": "[encoded data removed]",
      "text/plain": [
       "<Figure size 432x288 with 1 Axes>"
      ]
     },
     "metadata": {
      "needs_background": "light"
     },
     "output_type": "display_data"
    }
   ],
   "source": [
    "sns.barplot(x=\"Year\", y=\"Fatal\", data=df_final)\n",
    "plt.title(\"Distribution of Fatal Injuries over the Years\")\n",
    "plt.show()"
   ]
  },
  {
   "cell_type": "code",
   "execution_count": 20,
   "id": "c166701d",
   "metadata": {
    "execution": {
     "iopub.execute_input": "2022-11-02T02:05:06.393878Z",
     "iopub.status.busy": "2022-11-02T02:05:06.393458Z",
     "iopub.status.idle": "2022-11-02T02:05:06.822557Z",
     "shell.execute_reply": "2022-11-02T02:05:06.821270Z"
    },
    "papermill": {
     "duration": 0.442675,
     "end_time": "2022-11-02T02:05:06.825329",
     "exception": false,
     "start_time": "2022-11-02T02:05:06.382654",
     "status": "completed"
    },
    "tags": []
   },
   "outputs": [
    {
     "data": {
      "text/plain": [
       "<AxesSubplot:xlabel='Year'>"
      ]
     },
     "execution_count": 20,
     "metadata": {},
     "output_type": "execute_result"
    },
    {
     "data": {
      "image/png": "[encoded data removed]",
      "text/plain": [
       "<Figure size 432x288 with 1 Axes>"
      ]
     },
     "metadata": {
      "needs_background": "light"
     },
     "output_type": "display_data"
    }
   ],
   "source": [
    "df_final.plot(x=\"Year\", y=[\"Slight\", \"Serious\", \"Fatal\", 'Casualties'], kind=\"bar\")"
   ]
  },
  {
   "cell_type": "code",
   "execution_count": 21,
   "id": "959fb962",
   "metadata": {
    "execution": {
     "iopub.execute_input": "2022-11-02T02:05:06.848038Z",
     "iopub.status.busy": "2022-11-02T02:05:06.847264Z",
     "iopub.status.idle": "2022-11-02T02:05:07.186902Z",
     "shell.execute_reply": "2022-11-02T02:05:07.185801Z"
    },
    "papermill": {
     "duration": 0.353884,
     "end_time": "2022-11-02T02:05:07.189488",
     "exception": false,
     "start_time": "2022-11-02T02:05:06.835604",
     "status": "completed"
    },
    "tags": []
   },
   "outputs": [
    {
     "data": {
      "image/png": "[encoded data removed]",
      "text/plain": [
       "<Figure size 432x288 with 1 Axes>"
      ]
     },
     "metadata": {
      "needs_background": "light"
     },
     "output_type": "display_data"
    }
   ],
   "source": [
    "ax = df_final.plot(x=\"Year\", y=\"Slight\", kind=\"bar\")\n",
    "df_final.plot(x=\"Year\", y=\"Serious\", kind=\"bar\", ax=ax, color=\"C2\")\n",
    "df_final.plot(x=\"Year\", y=\"Fatal\", kind=\"bar\", ax=ax, color=\"C3\")\n",
    "# df_final.plot(x=\"Year\", y=\"Casualties\", kind=\"bar\", ax=ax, color=\"C4\")\n",
    "\n",
    "plt.show()"
   ]
  },
  {
   "cell_type": "code",
   "execution_count": 22,
   "id": "d43988e7",
   "metadata": {
    "execution": {
     "iopub.execute_input": "2022-11-02T02:05:07.212328Z",
     "iopub.status.busy": "2022-11-02T02:05:07.211878Z",
     "iopub.status.idle": "2022-11-02T02:05:07.583098Z",
     "shell.execute_reply": "2022-11-02T02:05:07.582113Z"
    },
    "papermill": {
     "duration": 0.385854,
     "end_time": "2022-11-02T02:05:07.585489",
     "exception": false,
     "start_time": "2022-11-02T02:05:07.199635",
     "status": "completed"
    },
    "tags": []
   },
   "outputs": [
    {
     "data": {
      "image/png": "[encoded data removed]",
      "text/plain": [
       "<Figure size 576x360 with 1 Axes>"
      ]
     },
     "metadata": {
      "needs_background": "light"
     },
     "output_type": "display_data"
    }
   ],
   "source": [
    "plt.figure(figsize=(8,5))\n",
    "sns.boxplot(x = 'Year', y = 'Casualties', data = df_final)\n",
    "plt.ylabel('Casualties', fontsize=12)\n",
    "plt.xlabel('Year', fontsize=12)\n",
    "plt.title('Boxplot of Casualties over the Years', fontsize = 18)\n",
    "plt.show()"
   ]
  },
  {
   "cell_type": "code",
   "execution_count": 23,
   "id": "c657d18d",
   "metadata": {
    "execution": {
     "iopub.execute_input": "2022-11-02T02:05:07.608756Z",
     "iopub.status.busy": "2022-11-02T02:05:07.608117Z",
     "iopub.status.idle": "2022-11-02T02:05:07.918775Z",
     "shell.execute_reply": "2022-11-02T02:05:07.917644Z"
    },
    "papermill": {
     "duration": 0.324881,
     "end_time": "2022-11-02T02:05:07.921124",
     "exception": false,
     "start_time": "2022-11-02T02:05:07.596243",
     "status": "completed"
    },
    "tags": []
   },
   "outputs": [
    {
     "data": {
      "image/png": "[encoded data removed]",
      "text/plain": [
       "<Figure size 432x288 with 1 Axes>"
      ]
     },
     "metadata": {
      "needs_background": "light"
     },
     "output_type": "display_data"
    }
   ],
   "source": [
    "df_final = df_final.filter(['Slight', 'Serious', 'Fatal', 'Casualties'], axis=1)\n",
    "ax = df_final.plot.area(fontsize=12);\n",
    "\n",
    "# Additional customizations\n",
    "ax.set_xlabel('Year');\n",
    "ax.legend(fontsize=12);"
   ]
  },
  {
   "cell_type": "code",
   "execution_count": 24,
   "id": "0726a7d0",
   "metadata": {
    "execution": {
     "iopub.execute_input": "2022-11-02T02:05:07.946720Z",
     "iopub.status.busy": "2022-11-02T02:05:07.944430Z",
     "iopub.status.idle": "2022-11-02T02:05:08.270908Z",
     "shell.execute_reply": "2022-11-02T02:05:08.269802Z"
    },
    "papermill": {
     "duration": 0.341379,
     "end_time": "2022-11-02T02:05:08.273434",
     "exception": false,
     "start_time": "2022-11-02T02:05:07.932055",
     "status": "completed"
    },
    "tags": []
   },
   "outputs": [
    {
     "data": {
      "image/png": "[encoded data removed]",
      "text/plain": [
       "<Figure size 432x288 with 2 Axes>"
      ]
     },
     "metadata": {
      "needs_background": "light"
     },
     "output_type": "display_data"
    }
   ],
   "source": [
    "corr_df_final = df_final.corr(method='spearman')\n",
    "\n",
    "# Customize the heatmap of the corr_meat correlation matrix\n",
    "sns.heatmap(corr_df_final,\n",
    "           annot=True,\n",
    "           linewidths=0.4,\n",
    "           annot_kws={'size': 10});\n",
    "\n",
    "plt.xticks(rotation=90);\n",
    "plt.yticks(rotation=0);"
   ]
  },
  {
   "cell_type": "code",
   "execution_count": null,
   "id": "94eff57b",
   "metadata": {
    "papermill": {
     "duration": 0.011129,
     "end_time": "2022-11-02T02:05:08.296776",
     "exception": false,
     "start_time": "2022-11-02T02:05:08.285647",
     "status": "completed"
    },
    "tags": []
   },
   "outputs": [],
   "source": []
  }
 ],
 "metadata": {
  "kernelspec": {
   "display_name": "Python 3",
   "language": "python",
   "name": "python3"
  },
  "language_info": {
   "codemirror_mode": {
    "name": "ipython",
    "version": 3
   },
   "file_extension": ".py",
   "mimetype": "text/x-python",
   "name": "python",
   "nbconvert_exporter": "python",
   "pygments_lexer": "ipython3",
   "version": "3.7.12"
  },
  "papermill": {
   "default_parameters": {},
   "duration": 46.129124,
   "end_time": "2022-11-02T02:05:11.285149",
   "environment_variables": {},
   "exception": null,
   "input_path": "__notebook__.ipynb",
   "output_path": "__notebook__.ipynb",
   "parameters": {},
   "start_time": "2022-11-02T02:04:25.156025",
   "version": "2.3.4"
  }
 },
 "nbformat": 4,
 "nbformat_minor": 5
}
